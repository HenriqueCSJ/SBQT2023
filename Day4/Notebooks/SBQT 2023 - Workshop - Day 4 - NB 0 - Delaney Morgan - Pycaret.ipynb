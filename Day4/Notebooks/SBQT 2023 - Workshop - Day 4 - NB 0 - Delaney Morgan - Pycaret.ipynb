{
  "cells": [
    {
      "cell_type": "code",
      "source": [
        "! pip install pycaret[all]"
      ],
      "metadata": {
        "id": "JyhJX2RAnbNu"
      },
      "execution_count": null,
      "outputs": []
    },
    {
      "cell_type": "code",
      "execution_count": null,
      "metadata": {
        "id": "i18RYnLZ1vW9"
      },
      "outputs": [],
      "source": [
        "# Import required libraries\n",
        "from pycaret.regression import setup, compare_models, tune_model, get_config, plot_model\n",
        "import pandas as pd"
      ]
    },
    {
      "cell_type": "code",
      "execution_count": null,
      "metadata": {
        "id": "3m5caUqJ1vW_"
      },
      "outputs": [],
      "source": [
        "# Load the dataset\n",
        "\n",
        "df = pd.read_csv('/content/delaney-processed_morgan.csv')"
      ]
    },
    {
      "cell_type": "code",
      "execution_count": null,
      "metadata": {
        "id": "2mdV_PGY1vW_"
      },
      "outputs": [],
      "source": [
        "df.columns"
      ]
    },
    {
      "cell_type": "code",
      "execution_count": null,
      "metadata": {
        "id": "8Zx5jMV51vXA"
      },
      "outputs": [],
      "source": [
        "# Initialize PyCaret setup\n",
        "regression_setup = setup(\n",
        "    data=df,\n",
        "#    ignore_features = ['Compound ID', 'ESOL predicted log solubility in mols per litre', 'smiles'],\n",
        "    target='measured log solubility in mols per litre',\n",
        "    verbose=True,  # This is to suppress the grid of information that usually prints out,\n",
        "    log_experiment=False\n",
        ") # use_gpu=True"
      ]
    },
    {
      "cell_type": "code",
      "source": [
        "transformed_features = get_config('X_transformed')\n",
        "transformed_features"
      ],
      "metadata": {
        "id": "6IIWsBaMtiWc"
      },
      "execution_count": null,
      "outputs": []
    },
    {
      "cell_type": "code",
      "source": [
        "# Get the preprocessing pipeline\n",
        "preprocessing_pipeline = get_config('pipeline')\n",
        "\n",
        "# Show the preprocessing pipeline\n",
        "preprocessing_pipeline"
      ],
      "metadata": {
        "id": "V1p7_aduskWf"
      },
      "execution_count": null,
      "outputs": []
    },
    {
      "cell_type": "code",
      "execution_count": null,
      "metadata": {
        "id": "XVaRnP5D1vXA"
      },
      "outputs": [],
      "source": [
        "# Compare models (this will include a variety of methods, including XGBoost)\n",
        "best_model = compare_models(\n",
        "    n_select=1)\n",
        "\n",
        "# Get the hyperparameters of the best model\n",
        "best_hyperparameters = best_model.get_params()"
      ]
    },
    {
      "cell_type": "code",
      "source": [
        "# Print hyperparameters\n",
        "print(\"Best Model's Hyperparameters:\")\n",
        "for key, value in best_hyperparameters.items():\n",
        "    print(f\"{key}: {value}\")"
      ],
      "metadata": {
        "id": "bgGOFmuf5Fgz"
      },
      "execution_count": null,
      "outputs": []
    },
    {
      "cell_type": "code",
      "source": [
        "plot_model(best_model, plot='residuals')"
      ],
      "metadata": {
        "id": "blsDP8RcqmGG"
      },
      "execution_count": null,
      "outputs": []
    },
    {
      "cell_type": "code",
      "source": [
        "plot_model(best_model, plot='error')"
      ],
      "metadata": {
        "id": "Gr_jPhA7xOpE"
      },
      "execution_count": null,
      "outputs": []
    },
    {
      "cell_type": "code",
      "source": [
        "plot_model(best_model, plot='cooks')"
      ],
      "metadata": {
        "id": "FRFvnzL1xzQm"
      },
      "execution_count": null,
      "outputs": []
    },
    {
      "cell_type": "code",
      "source": [
        "#plot_model(best_model, plot='rfe')"
      ],
      "metadata": {
        "id": "RG7ng-Jmx81_"
      },
      "execution_count": null,
      "outputs": []
    },
    {
      "cell_type": "code",
      "source": [
        "plot_model(best_model, plot='learning')"
      ],
      "metadata": {
        "id": "k1CiEVfXyB7o"
      },
      "execution_count": null,
      "outputs": []
    },
    {
      "cell_type": "code",
      "source": [
        "plot_model(best_model, plot='vc')"
      ],
      "metadata": {
        "id": "LmxbMQnhyLb0"
      },
      "execution_count": null,
      "outputs": []
    },
    {
      "cell_type": "code",
      "source": [
        "plot_model(best_model, plot='manifold')"
      ],
      "metadata": {
        "id": "nAkHCpIYyNWr"
      },
      "execution_count": null,
      "outputs": []
    },
    {
      "cell_type": "code",
      "source": [
        "plot_model(best_model, plot='feature')"
      ],
      "metadata": {
        "id": "F_kj4YOuyQM4"
      },
      "execution_count": null,
      "outputs": []
    },
    {
      "cell_type": "code",
      "source": [],
      "metadata": {
        "id": "pNULLNJWyUm_"
      },
      "execution_count": null,
      "outputs": []
    }
  ],
  "metadata": {
    "kernelspec": {
      "display_name": "Python 3 (ipykernel)",
      "language": "python",
      "name": "python3"
    },
    "language_info": {
      "codemirror_mode": {
        "name": "ipython",
        "version": 3
      },
      "file_extension": ".py",
      "mimetype": "text/x-python",
      "name": "python",
      "nbconvert_exporter": "python",
      "pygments_lexer": "ipython3",
      "version": "3.9.18"
    },
    "colab": {
      "provenance": []
    }
  },
  "nbformat": 4,
  "nbformat_minor": 0
}