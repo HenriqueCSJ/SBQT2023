{
  "cells": [
    {
      "cell_type": "code",
      "execution_count": null,
      "metadata": {
        "id": "a8tjJ0rHBgN4"
      },
      "outputs": [],
      "source": [
        "import pandas as pd\n",
        "import numpy as np\n",
        "from tensorflow.keras.models import Sequential\n",
        "from tensorflow.keras.layers import Dense, InputLayer\n",
        "from tensorflow.keras.optimizers import Adam\n",
        "from sklearn.model_selection import train_test_split\n",
        "from sklearn.preprocessing import StandardScaler\n",
        "from sklearn.metrics import r2_score, mean_absolute_error\n",
        "import matplotlib.pyplot as plt"
      ]
    },
    {
      "cell_type": "code",
      "execution_count": null,
      "metadata": {
        "id": "cWolIt86BgN9"
      },
      "outputs": [],
      "source": [
        "# # # 1. Load and preprocess the data\n",
        "# df = pd.read_csv('delaney-processed_morgan.csv')"
      ]
    },
    {
      "cell_type": "code",
      "execution_count": null,
      "metadata": {
        "id": "ksjEYzwsBgN-"
      },
      "outputs": [],
      "source": []
    },
    {
      "cell_type": "code",
      "execution_count": null,
      "metadata": {
        "id": "X5RtHEFRBgN-"
      },
      "outputs": [],
      "source": [
        "# df"
      ]
    },
    {
      "cell_type": "code",
      "execution_count": null,
      "metadata": {
        "id": "DoEjV7mhBgN-"
      },
      "outputs": [],
      "source": []
    },
    {
      "cell_type": "code",
      "execution_count": null,
      "metadata": {
        "id": "9eatAlxKBgN_"
      },
      "outputs": [],
      "source": [
        "# df.columns"
      ]
    },
    {
      "cell_type": "code",
      "execution_count": null,
      "metadata": {
        "id": "j0X6_E56BgN_"
      },
      "outputs": [],
      "source": []
    },
    {
      "cell_type": "code",
      "execution_count": null,
      "metadata": {
        "id": "fismHVa_BgOA"
      },
      "outputs": [],
      "source": [
        "# # # Prepare features and target variable\n",
        "# X = df.drop(['measured log solubility in mols per litre'], axis=1)\n",
        "# y = df['measured log solubility in mols per litre']"
      ]
    },
    {
      "cell_type": "code",
      "execution_count": null,
      "metadata": {
        "id": "Gg6fV_3EBgOA"
      },
      "outputs": [],
      "source": []
    },
    {
      "cell_type": "code",
      "execution_count": null,
      "metadata": {
        "id": "j8LcTzrrBgOA"
      },
      "outputs": [],
      "source": [
        "# # # Split the data\n",
        "# X_train, X_temp, y_train, y_temp = train_test_split(X, y, test_size=0.3, random_state=42)\n",
        "# X_val, X_test, y_val, y_test = train_test_split(X_temp, y_temp, test_size=0.5, random_state=42)"
      ]
    },
    {
      "cell_type": "code",
      "execution_count": null,
      "metadata": {
        "id": "GZYjmlFZBgOB"
      },
      "outputs": [],
      "source": []
    },
    {
      "cell_type": "code",
      "execution_count": null,
      "metadata": {
        "id": "SAW2idNuBgOB"
      },
      "outputs": [],
      "source": [
        "# # # Normalize the data\n",
        "# scaler = StandardScaler()\n",
        "# X_train_scaled = scaler.fit_transform(X_train)\n",
        "# X_val_scaled = scaler.transform(X_val)\n",
        "# X_test_scaled = scaler.transform(X_test)"
      ]
    },
    {
      "cell_type": "code",
      "execution_count": null,
      "metadata": {
        "id": "VgnmkSO6BgOC"
      },
      "outputs": [],
      "source": []
    },
    {
      "cell_type": "code",
      "execution_count": null,
      "metadata": {
        "id": "tf7dQz95BgOC"
      },
      "outputs": [],
      "source": [
        "# # # # Add dropout and regularization\n",
        "# from tensorflow.keras.layers import Dropout\n",
        "# from tensorflow.keras import regularizers\n",
        "# # kernel_regularizer=regularizers.l1_l2(l1=0.01, l2=0.01)\n",
        "# # kernel_regularizer=regularizers.l1(0.001)"
      ]
    },
    {
      "cell_type": "code",
      "execution_count": null,
      "metadata": {
        "id": "wpaz2hcnBgOC"
      },
      "outputs": [],
      "source": [
        "# from tensorflow.keras.callbacks import EarlyStopping\n",
        "# early_stopping = EarlyStopping(monitor='val_loss', patience=25, restore_best_weights=True)"
      ]
    },
    {
      "cell_type": "code",
      "execution_count": null,
      "metadata": {
        "id": "97hwrbA-BgOC"
      },
      "outputs": [],
      "source": [
        "# 2. Define the model\n",
        "model = Sequential()\n",
        "model.add(InputLayer(input_shape=(1030,)))  # Explicit input layer with 6 features\n",
        "model.add(Dense(2048, activation='relu', kernel_regularizer=regularizers.l2(0.001)))\n",
        "model.add(Dense(4096, activation='relu', kernel_regularizer=regularizers.l2(0.001)))\n",
        "model.add(Dense(1024, activation='relu', kernel_regularizer=regularizers.l2(0.001)))\n",
        "model.add(Dense(2048, activation='relu', kernel_regularizer=regularizers.l2(0.001)))\n",
        "model.add(Dense(2048, activation='relu', kernel_regularizer=regularizers.l2(0.001)))\n",
        "model.add(Dense(512, activation='selu', kernel_regularizer=regularizers.l2(0.001)))\n",
        "model.add(Dense(1))  # Output layer"
      ]
    },
    {
      "cell_type": "code",
      "execution_count": null,
      "metadata": {
        "id": "40G8MiOuBgOD"
      },
      "outputs": [],
      "source": [
        "# Compile the model\n",
        "from keras.optimizers import RMSprop, Nadam, Adamax, Adam, SGD\n",
        "\n",
        "opt = Nadam(learning_rate=0.0001)\n",
        "model.compile(optimizer=opt, loss='mse', metrics=['mse'])"
      ]
    },
    {
      "cell_type": "code",
      "execution_count": null,
      "metadata": {
        "colab": {
          "base_uri": "https://localhost:8080/"
        },
        "id": "dlckzGqOBgOD",
        "outputId": "78b6645f-8450-4722-bcb3-c645c4197ebb"
      },
      "outputs": [],
      "source": [
        "# 3. Train the model\n",
        "history = model.fit(X_train_scaled, y_train, epochs=200, validation_data=(X_val_scaled, y_val), verbose=1)\n",
        "# history = model.fit(X_train_scaled, y_train, epochs=200, batch_size=10, validation_data=(X_val_scaled, y_val), verbose=1, callbacks=[early_stopping])"
      ]
    },
    {
      "cell_type": "code",
      "execution_count": null,
      "metadata": {
        "colab": {
          "base_uri": "https://localhost:8080/"
        },
        "id": "sRvN0wtbBgOE",
        "outputId": "bbd7c450-5799-4d0c-c1e9-0b0d057ad0f4"
      },
      "outputs": [],
      "source": [
        "# 4. Evaluate the model\n",
        "test_loss, test_mse = model.evaluate(X_test_scaled, y_test, verbose=1)"
      ]
    },
    {
      "cell_type": "code",
      "execution_count": null,
      "metadata": {
        "colab": {
          "base_uri": "https://localhost:8080/"
        },
        "id": "Q9BXh_UxBgOE",
        "outputId": "706b5793-9171-42a6-d412-ee400c8fa8f3"
      },
      "outputs": [],
      "source": [
        "# Make predictions\n",
        "y_pred = model.predict(X_test_scaled)"
      ]
    },
    {
      "cell_type": "code",
      "execution_count": null,
      "metadata": {
        "colab": {
          "base_uri": "https://localhost:8080/"
        },
        "id": "T6IeA68xBgOE",
        "outputId": "c83f652d-df39-4c16-9017-18f928c6182c"
      },
      "outputs": [],
      "source": [
        "# Calculate R^2 and MAE\n",
        "r2 = r2_score(y_test, y_pred)\n",
        "mae = mean_absolute_error(y_test, y_pred)\n",
        "\n",
        "print(f\"Test MSE: {test_mse}\")\n",
        "print(f\"Test RMSE: {np.sqrt(test_mse)}\")\n",
        "print(f\"Test R^2: {r2}\")\n",
        "print(f\"Test MAE: {mae}\")"
      ]
    },
    {
      "cell_type": "code",
      "execution_count": null,
      "metadata": {
        "colab": {
          "base_uri": "https://localhost:8080/",
          "height": 564
        },
        "id": "2c3BegkSBgOF",
        "outputId": "82e4ee35-1aaf-48ea-a4b4-e49ec2dedcfd"
      },
      "outputs": [],
      "source": [
        "# 5. Plot the training and validation loss\n",
        "plt.figure(figsize=(12, 6))\n",
        "plt.plot(history.history['loss'])\n",
        "plt.plot(history.history['val_loss'])\n",
        "plt.title('Model loss')\n",
        "plt.ylabel('Loss')\n",
        "plt.xlabel('Epoch')\n",
        "plt.legend(['Train', 'Validation'], loc='upper right')\n",
        "plt.show()"
      ]
    },
    {
      "cell_type": "code",
      "execution_count": null,
      "metadata": {
        "id": "-BOLawaPBgOF"
      },
      "outputs": [],
      "source": []
    },
    {
      "cell_type": "code",
      "execution_count": null,
      "metadata": {
        "id": "Raf1S8xgBgOF"
      },
      "outputs": [],
      "source": []
    },
    {
      "cell_type": "code",
      "execution_count": null,
      "metadata": {
        "id": "kLWF8fUpBgOG"
      },
      "outputs": [],
      "source": []
    },
    {
      "cell_type": "code",
      "execution_count": null,
      "metadata": {
        "id": "xepbYirNBgOG"
      },
      "outputs": [],
      "source": []
    },
    {
      "cell_type": "code",
      "execution_count": null,
      "metadata": {
        "id": "sKCRp9_bBgOG"
      },
      "outputs": [],
      "source": []
    }
  ],
  "metadata": {
    "accelerator": "GPU",
    "colab": {
      "gpuType": "A100",
      "provenance": []
    },
    "kernelspec": {
      "display_name": "Python 3",
      "name": "python3"
    },
    "language_info": {
      "codemirror_mode": {
        "name": "ipython",
        "version": 3
      },
      "file_extension": ".py",
      "mimetype": "text/x-python",
      "name": "python",
      "nbconvert_exporter": "python",
      "pygments_lexer": "ipython3",
      "version": "3.10.12"
    }
  },
  "nbformat": 4,
  "nbformat_minor": 0
}
