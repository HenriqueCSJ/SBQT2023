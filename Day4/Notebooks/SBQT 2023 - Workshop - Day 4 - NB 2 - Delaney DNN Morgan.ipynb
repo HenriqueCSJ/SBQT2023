{
  "cells": [
    {
      "cell_type": "code",
      "execution_count": 105,
      "metadata": {
        "id": "a8tjJ0rHBgN4"
      },
      "outputs": [],
      "source": [
        "import pandas as pd\n",
        "import numpy as np\n",
        "from tensorflow.keras.models import Sequential\n",
        "from tensorflow.keras.layers import Dense, InputLayer\n",
        "from tensorflow.keras.optimizers import Adam\n",
        "from sklearn.model_selection import train_test_split\n",
        "from sklearn.preprocessing import StandardScaler\n",
        "from sklearn.metrics import r2_score, mean_absolute_error\n",
        "import matplotlib.pyplot as plt"
      ]
    },
    {
      "cell_type": "code",
      "execution_count": 106,
      "metadata": {
        "id": "cWolIt86BgN9"
      },
      "outputs": [],
      "source": [
        "# # # 1. Load and preprocess the data\n",
        "# df = pd.read_csv('delaney-processed_morgan.csv')"
      ]
    },
    {
      "cell_type": "code",
      "execution_count": 106,
      "metadata": {
        "id": "ksjEYzwsBgN-"
      },
      "outputs": [],
      "source": []
    },
    {
      "cell_type": "code",
      "execution_count": 107,
      "metadata": {
        "id": "X5RtHEFRBgN-"
      },
      "outputs": [],
      "source": [
        "# df"
      ]
    },
    {
      "cell_type": "code",
      "execution_count": 107,
      "metadata": {
        "id": "DoEjV7mhBgN-"
      },
      "outputs": [],
      "source": []
    },
    {
      "cell_type": "code",
      "execution_count": 108,
      "metadata": {
        "id": "9eatAlxKBgN_"
      },
      "outputs": [],
      "source": [
        "# df.columns"
      ]
    },
    {
      "cell_type": "code",
      "execution_count": 108,
      "metadata": {
        "id": "j0X6_E56BgN_"
      },
      "outputs": [],
      "source": []
    },
    {
      "cell_type": "code",
      "execution_count": 109,
      "metadata": {
        "id": "fismHVa_BgOA"
      },
      "outputs": [],
      "source": [
        "# # # Prepare features and target variable\n",
        "# X = df.drop(['measured log solubility in mols per litre'], axis=1)\n",
        "# y = df['measured log solubility in mols per litre']"
      ]
    },
    {
      "cell_type": "code",
      "execution_count": 109,
      "metadata": {
        "id": "Gg6fV_3EBgOA"
      },
      "outputs": [],
      "source": []
    },
    {
      "cell_type": "code",
      "execution_count": 110,
      "metadata": {
        "id": "j8LcTzrrBgOA"
      },
      "outputs": [],
      "source": [
        "# # # Split the data\n",
        "# X_train, X_temp, y_train, y_temp = train_test_split(X, y, test_size=0.3, random_state=42)\n",
        "# X_val, X_test, y_val, y_test = train_test_split(X_temp, y_temp, test_size=0.5, random_state=42)"
      ]
    },
    {
      "cell_type": "code",
      "execution_count": 110,
      "metadata": {
        "id": "GZYjmlFZBgOB"
      },
      "outputs": [],
      "source": []
    },
    {
      "cell_type": "code",
      "execution_count": 111,
      "metadata": {
        "id": "SAW2idNuBgOB"
      },
      "outputs": [],
      "source": [
        "# # # Normalize the data\n",
        "# scaler = StandardScaler()\n",
        "# X_train_scaled = scaler.fit_transform(X_train)\n",
        "# X_val_scaled = scaler.transform(X_val)\n",
        "# X_test_scaled = scaler.transform(X_test)"
      ]
    },
    {
      "cell_type": "code",
      "execution_count": 111,
      "metadata": {
        "id": "VgnmkSO6BgOC"
      },
      "outputs": [],
      "source": []
    },
    {
      "cell_type": "code",
      "execution_count": 112,
      "metadata": {
        "id": "tf7dQz95BgOC"
      },
      "outputs": [],
      "source": [
        "# # # # Add dropout and regularization\n",
        "# from tensorflow.keras.layers import Dropout\n",
        "# from tensorflow.keras import regularizers\n",
        "# # kernel_regularizer=regularizers.l1_l2(l1=0.01, l2=0.01)\n",
        "# # kernel_regularizer=regularizers.l1(0.001)"
      ]
    },
    {
      "cell_type": "code",
      "execution_count": 113,
      "metadata": {
        "id": "wpaz2hcnBgOC"
      },
      "outputs": [],
      "source": [
        "# from tensorflow.keras.callbacks import EarlyStopping\n",
        "# early_stopping = EarlyStopping(monitor='val_loss', patience=25, restore_best_weights=True)"
      ]
    },
    {
      "cell_type": "code",
      "execution_count": 114,
      "metadata": {
        "id": "97hwrbA-BgOC"
      },
      "outputs": [],
      "source": [
        "# 2. Define the model\n",
        "model = Sequential()\n",
        "model.add(InputLayer(input_shape=(1030,)))  # Explicit input layer with 6 features\n",
        "model.add(Dense(2048, activation='relu', kernel_regularizer=regularizers.l2(0.001)))\n",
        "model.add(Dense(4096, activation='relu', kernel_regularizer=regularizers.l2(0.001)))\n",
        "model.add(Dense(1024, activation='relu', kernel_regularizer=regularizers.l2(0.001)))\n",
        "model.add(Dense(2048, activation='relu', kernel_regularizer=regularizers.l2(0.001)))\n",
        "model.add(Dense(2048, activation='relu', kernel_regularizer=regularizers.l2(0.001)))\n",
        "model.add(Dense(512, activation='selu', kernel_regularizer=regularizers.l2(0.001)))\n",
        "model.add(Dense(1))  # Output layer"
      ]
    },
    {
      "cell_type": "code",
      "execution_count": 115,
      "metadata": {
        "id": "40G8MiOuBgOD"
      },
      "outputs": [],
      "source": [
        "# Compile the model\n",
        "from keras.optimizers import RMSprop, Nadam, Adamax, Adam, SGD\n",
        "\n",
        "opt = Nadam(learning_rate=0.0001)\n",
        "model.compile(optimizer=opt, loss='mse', metrics=['mse'])"
      ]
    },
    {
      "cell_type": "code",
      "execution_count": 116,
      "metadata": {
        "colab": {
          "base_uri": "https://localhost:8080/"
        },
        "id": "dlckzGqOBgOD",
        "outputId": "78b6645f-8450-4722-bcb3-c645c4197ebb"
      },
      "outputs": [
        {
          "name": "stdout",
          "output_type": "stream",
          "text": [
            "Epoch 1/200\n",
            "79/79 [==============================] - 4s 8ms/step - loss: 12.9364 - mse: 3.1694 - val_loss: 11.5048 - val_mse: 1.9040\n",
            "Epoch 2/200\n",
            "79/79 [==============================] - 0s 6ms/step - loss: 10.5311 - mse: 1.0588 - val_loss: 10.8221 - val_mse: 1.4737\n",
            "Epoch 3/200\n",
            "79/79 [==============================] - 0s 6ms/step - loss: 9.7817 - mse: 0.5422 - val_loss: 10.4007 - val_mse: 1.2693\n",
            "Epoch 4/200\n",
            "79/79 [==============================] - 0s 6ms/step - loss: 9.2821 - mse: 0.2508 - val_loss: 10.0181 - val_mse: 1.0879\n",
            "Epoch 5/200\n",
            "79/79 [==============================] - 0s 6ms/step - loss: 8.9948 - mse: 0.1604 - val_loss: 9.9899 - val_mse: 1.2530\n",
            "Epoch 6/200\n",
            "79/79 [==============================] - 0s 6ms/step - loss: 8.7861 - mse: 0.1426 - val_loss: 9.6936 - val_mse: 1.1454\n",
            "Epoch 7/200\n",
            "79/79 [==============================] - 0s 6ms/step - loss: 8.5838 - mse: 0.1272 - val_loss: 9.4379 - val_mse: 1.0753\n",
            "Epoch 8/200\n",
            "79/79 [==============================] - 0s 6ms/step - loss: 8.3709 - mse: 0.0991 - val_loss: 9.2916 - val_mse: 1.1128\n",
            "Epoch 9/200\n",
            "79/79 [==============================] - 0s 6ms/step - loss: 8.1777 - mse: 0.0890 - val_loss: 9.0270 - val_mse: 1.0310\n",
            "Epoch 10/200\n",
            "79/79 [==============================] - 0s 6ms/step - loss: 7.9887 - mse: 0.0822 - val_loss: 8.9314 - val_mse: 1.1166\n",
            "Epoch 11/200\n",
            "79/79 [==============================] - 0s 6ms/step - loss: 7.7996 - mse: 0.0738 - val_loss: 8.6963 - val_mse: 1.0618\n",
            "Epoch 12/200\n",
            "79/79 [==============================] - 0s 6ms/step - loss: 7.6271 - mse: 0.0810 - val_loss: 8.5558 - val_mse: 1.1002\n",
            "Epoch 13/200\n",
            "79/79 [==============================] - 0s 6ms/step - loss: 7.4511 - mse: 0.0833 - val_loss: 8.4198 - val_mse: 1.1419\n",
            "Epoch 14/200\n",
            "79/79 [==============================] - 0s 6ms/step - loss: 7.2699 - mse: 0.0790 - val_loss: 8.2200 - val_mse: 1.1183\n",
            "Epoch 15/200\n",
            "79/79 [==============================] - 0s 6ms/step - loss: 7.0880 - mse: 0.0723 - val_loss: 8.0085 - val_mse: 1.0811\n",
            "Epoch 16/200\n",
            "79/79 [==============================] - 0s 6ms/step - loss: 6.9072 - mse: 0.0653 - val_loss: 7.7824 - val_mse: 1.0283\n",
            "Epoch 17/200\n",
            "79/79 [==============================] - 0s 6ms/step - loss: 6.7622 - mse: 0.0930 - val_loss: 7.6386 - val_mse: 1.0562\n",
            "Epoch 18/200\n",
            "79/79 [==============================] - 0s 6ms/step - loss: 6.5906 - mse: 0.0918 - val_loss: 7.4950 - val_mse: 1.0817\n",
            "Epoch 19/200\n",
            "79/79 [==============================] - 0s 6ms/step - loss: 6.4154 - mse: 0.0853 - val_loss: 7.2977 - val_mse: 1.0525\n",
            "Epoch 20/200\n",
            "79/79 [==============================] - 0s 6ms/step - loss: 6.2320 - mse: 0.0687 - val_loss: 7.1152 - val_mse: 1.0360\n",
            "Epoch 21/200\n",
            "79/79 [==============================] - 0s 6ms/step - loss: 6.0600 - mse: 0.0618 - val_loss: 6.9519 - val_mse: 1.0370\n",
            "Epoch 22/200\n",
            "79/79 [==============================] - 0s 6ms/step - loss: 5.9048 - mse: 0.0702 - val_loss: 6.8155 - val_mse: 1.0631\n",
            "Epoch 23/200\n",
            "79/79 [==============================] - 0s 6ms/step - loss: 5.7472 - mse: 0.0741 - val_loss: 6.5831 - val_mse: 0.9911\n",
            "Epoch 24/200\n",
            "79/79 [==============================] - 0s 6ms/step - loss: 5.5842 - mse: 0.0706 - val_loss: 6.4913 - val_mse: 1.0578\n",
            "Epoch 25/200\n",
            "79/79 [==============================] - 0s 6ms/step - loss: 5.4384 - mse: 0.0824 - val_loss: 6.4595 - val_mse: 1.1820\n",
            "Epoch 26/200\n",
            "79/79 [==============================] - 0s 6ms/step - loss: 5.3048 - mse: 0.1033 - val_loss: 6.1275 - val_mse: 1.0033\n",
            "Epoch 27/200\n",
            "79/79 [==============================] - 0s 6ms/step - loss: 5.1593 - mse: 0.1102 - val_loss: 6.0751 - val_mse: 1.1023\n",
            "Epoch 28/200\n",
            "79/79 [==============================] - 0s 6ms/step - loss: 5.0067 - mse: 0.1075 - val_loss: 5.8854 - val_mse: 1.0613\n",
            "Epoch 29/200\n",
            "79/79 [==============================] - 0s 6ms/step - loss: 4.8480 - mse: 0.0961 - val_loss: 5.6702 - val_mse: 0.9921\n",
            "Epoch 30/200\n",
            "79/79 [==============================] - 0s 6ms/step - loss: 4.6815 - mse: 0.0747 - val_loss: 5.5274 - val_mse: 0.9934\n",
            "Epoch 31/200\n",
            "79/79 [==============================] - 0s 6ms/step - loss: 4.5251 - mse: 0.0614 - val_loss: 5.4223 - val_mse: 1.0306\n",
            "Epoch 32/200\n",
            "79/79 [==============================] - 0s 6ms/step - loss: 4.3835 - mse: 0.0611 - val_loss: 5.2138 - val_mse: 0.9624\n",
            "Epoch 33/200\n",
            "79/79 [==============================] - 0s 6ms/step - loss: 4.2556 - mse: 0.0721 - val_loss: 5.1623 - val_mse: 1.0483\n",
            "Epoch 34/200\n",
            "79/79 [==============================] - 0s 6ms/step - loss: 4.1394 - mse: 0.0922 - val_loss: 5.0280 - val_mse: 1.0490\n",
            "Epoch 35/200\n",
            "79/79 [==============================] - 0s 6ms/step - loss: 3.9908 - mse: 0.0771 - val_loss: 4.8490 - val_mse: 1.0018\n",
            "Epoch 36/200\n",
            "79/79 [==============================] - 0s 6ms/step - loss: 3.8341 - mse: 0.0516 - val_loss: 4.7506 - val_mse: 1.0336\n",
            "Epoch 37/200\n",
            "79/79 [==============================] - 0s 6ms/step - loss: 3.7038 - mse: 0.0503 - val_loss: 4.5931 - val_mse: 1.0040\n",
            "Epoch 38/200\n",
            "79/79 [==============================] - 0s 6ms/step - loss: 3.5808 - mse: 0.0538 - val_loss: 4.4494 - val_mse: 0.9855\n",
            "Epoch 39/200\n",
            "79/79 [==============================] - 0s 6ms/step - loss: 3.4492 - mse: 0.0461 - val_loss: 4.3730 - val_mse: 1.0321\n",
            "Epoch 40/200\n",
            "79/79 [==============================] - 0s 6ms/step - loss: 3.3251 - mse: 0.0436 - val_loss: 4.2922 - val_mse: 1.0714\n",
            "Epoch 41/200\n",
            "79/79 [==============================] - 0s 6ms/step - loss: 3.2096 - mse: 0.0473 - val_loss: 4.0769 - val_mse: 0.9740\n",
            "Epoch 42/200\n",
            "79/79 [==============================] - 0s 6ms/step - loss: 3.0920 - mse: 0.0462 - val_loss: 3.9789 - val_mse: 0.9909\n",
            "Epoch 43/200\n",
            "79/79 [==============================] - 0s 6ms/step - loss: 2.9928 - mse: 0.0603 - val_loss: 3.8526 - val_mse: 0.9767\n",
            "Epoch 44/200\n",
            "79/79 [==============================] - 0s 6ms/step - loss: 2.8879 - mse: 0.0659 - val_loss: 3.8204 - val_mse: 1.0532\n",
            "Epoch 45/200\n",
            "79/79 [==============================] - 0s 6ms/step - loss: 2.7852 - mse: 0.0708 - val_loss: 3.6820 - val_mse: 1.0213\n",
            "Epoch 46/200\n",
            "79/79 [==============================] - 0s 6ms/step - loss: 2.6767 - mse: 0.0668 - val_loss: 3.4751 - val_mse: 0.9169\n",
            "Epoch 47/200\n",
            "79/79 [==============================] - 0s 6ms/step - loss: 2.5727 - mse: 0.0640 - val_loss: 3.4295 - val_mse: 0.9712\n",
            "Epoch 48/200\n",
            "79/79 [==============================] - 0s 6ms/step - loss: 2.4757 - mse: 0.0653 - val_loss: 3.3567 - val_mse: 0.9954\n",
            "Epoch 49/200\n",
            "79/79 [==============================] - 0s 6ms/step - loss: 2.3668 - mse: 0.0523 - val_loss: 3.2324 - val_mse: 0.9654\n",
            "Epoch 50/200\n",
            "79/79 [==============================] - 0s 6ms/step - loss: 2.2762 - mse: 0.0550 - val_loss: 3.1481 - val_mse: 0.9734\n",
            "Epoch 51/200\n",
            "79/79 [==============================] - 0s 6ms/step - loss: 2.2069 - mse: 0.0756 - val_loss: 3.0598 - val_mse: 0.9730\n",
            "Epoch 52/200\n",
            "79/79 [==============================] - 0s 6ms/step - loss: 2.1244 - mse: 0.0799 - val_loss: 2.9522 - val_mse: 0.9505\n",
            "Epoch 53/200\n",
            "79/79 [==============================] - 0s 6ms/step - loss: 2.0262 - mse: 0.0654 - val_loss: 2.8839 - val_mse: 0.9646\n",
            "Epoch 54/200\n",
            "79/79 [==============================] - 0s 6ms/step - loss: 1.9263 - mse: 0.0467 - val_loss: 2.7852 - val_mse: 0.9462\n",
            "Epoch 55/200\n",
            "79/79 [==============================] - 0s 6ms/step - loss: 1.8445 - mse: 0.0438 - val_loss: 2.7617 - val_mse: 1.0001\n",
            "Epoch 56/200\n",
            "79/79 [==============================] - 0s 6ms/step - loss: 1.7655 - mse: 0.0413 - val_loss: 2.6239 - val_mse: 0.9375\n",
            "Epoch 57/200\n",
            "79/79 [==============================] - 0s 5ms/step - loss: 1.6884 - mse: 0.0381 - val_loss: 2.6697 - val_mse: 1.0561\n",
            "Epoch 58/200\n",
            "79/79 [==============================] - 0s 6ms/step - loss: 1.6173 - mse: 0.0384 - val_loss: 2.5497 - val_mse: 1.0060\n",
            "Epoch 59/200\n",
            "79/79 [==============================] - 0s 6ms/step - loss: 1.5537 - mse: 0.0437 - val_loss: 2.3900 - val_mse: 0.9141\n",
            "Epoch 60/200\n",
            "79/79 [==============================] - 0s 6ms/step - loss: 1.4964 - mse: 0.0523 - val_loss: 2.3418 - val_mse: 0.9302\n",
            "Epoch 61/200\n",
            "79/79 [==============================] - 0s 5ms/step - loss: 1.4465 - mse: 0.0653 - val_loss: 2.3542 - val_mse: 1.0038\n",
            "Epoch 62/200\n",
            "79/79 [==============================] - 0s 6ms/step - loss: 1.3897 - mse: 0.0688 - val_loss: 2.2386 - val_mse: 0.9471\n",
            "Epoch 63/200\n",
            "79/79 [==============================] - 0s 6ms/step - loss: 1.3355 - mse: 0.0715 - val_loss: 2.2266 - val_mse: 0.9910\n",
            "Epoch 64/200\n",
            "79/79 [==============================] - 0s 6ms/step - loss: 1.2741 - mse: 0.0649 - val_loss: 2.0847 - val_mse: 0.9023\n",
            "Epoch 65/200\n",
            "79/79 [==============================] - 0s 5ms/step - loss: 1.2279 - mse: 0.0710 - val_loss: 2.0899 - val_mse: 0.9583\n",
            "Epoch 66/200\n",
            "79/79 [==============================] - 0s 6ms/step - loss: 1.1766 - mse: 0.0695 - val_loss: 1.9801 - val_mse: 0.8978\n",
            "Epoch 67/200\n",
            "79/79 [==============================] - 0s 5ms/step - loss: 1.1180 - mse: 0.0589 - val_loss: 2.0299 - val_mse: 0.9948\n",
            "Epoch 68/200\n",
            "79/79 [==============================] - 0s 6ms/step - loss: 1.0759 - mse: 0.0629 - val_loss: 1.9001 - val_mse: 0.9092\n",
            "Epoch 69/200\n",
            "79/79 [==============================] - 0s 6ms/step - loss: 1.0217 - mse: 0.0521 - val_loss: 1.8465 - val_mse: 0.8985\n",
            "Epoch 70/200\n",
            "79/79 [==============================] - 0s 5ms/step - loss: 0.9927 - mse: 0.0653 - val_loss: 1.8489 - val_mse: 0.9420\n",
            "Epoch 71/200\n",
            "79/79 [==============================] - 0s 6ms/step - loss: 0.9446 - mse: 0.0574 - val_loss: 1.8283 - val_mse: 0.9611\n",
            "Epoch 72/200\n",
            "79/79 [==============================] - 0s 6ms/step - loss: 0.8984 - mse: 0.0496 - val_loss: 1.8206 - val_mse: 0.9903\n",
            "Epoch 73/200\n",
            "79/79 [==============================] - 0s 6ms/step - loss: 0.8523 - mse: 0.0399 - val_loss: 1.7382 - val_mse: 0.9439\n",
            "Epoch 74/200\n",
            "79/79 [==============================] - 0s 6ms/step - loss: 0.8128 - mse: 0.0357 - val_loss: 1.6560 - val_mse: 0.8962\n",
            "Epoch 75/200\n",
            "79/79 [==============================] - 0s 6ms/step - loss: 0.7745 - mse: 0.0311 - val_loss: 1.6322 - val_mse: 0.9055\n",
            "Epoch 76/200\n",
            "79/79 [==============================] - 0s 5ms/step - loss: 0.7458 - mse: 0.0348 - val_loss: 1.6419 - val_mse: 0.9467\n",
            "Epoch 77/200\n",
            "79/79 [==============================] - 0s 6ms/step - loss: 0.7132 - mse: 0.0328 - val_loss: 1.6266 - val_mse: 0.9612\n",
            "Epoch 78/200\n",
            "79/79 [==============================] - 0s 6ms/step - loss: 0.6832 - mse: 0.0320 - val_loss: 1.5901 - val_mse: 0.9533\n",
            "Epoch 79/200\n",
            "79/79 [==============================] - 0s 6ms/step - loss: 0.6591 - mse: 0.0357 - val_loss: 1.5547 - val_mse: 0.9450\n",
            "Epoch 80/200\n",
            "79/79 [==============================] - 0s 6ms/step - loss: 0.6440 - mse: 0.0473 - val_loss: 1.5448 - val_mse: 0.9610\n",
            "Epoch 81/200\n",
            "79/79 [==============================] - 0s 6ms/step - loss: 0.6206 - mse: 0.0486 - val_loss: 1.5064 - val_mse: 0.9465\n",
            "Epoch 82/200\n",
            "79/79 [==============================] - 0s 6ms/step - loss: 0.6152 - mse: 0.0662 - val_loss: 1.4778 - val_mse: 0.9399\n",
            "Epoch 83/200\n",
            "79/79 [==============================] - 0s 6ms/step - loss: 0.5904 - mse: 0.0626 - val_loss: 1.4351 - val_mse: 0.9177\n",
            "Epoch 84/200\n",
            "79/79 [==============================] - 0s 5ms/step - loss: 0.5588 - mse: 0.0513 - val_loss: 1.4692 - val_mse: 0.9715\n",
            "Epoch 85/200\n",
            "79/79 [==============================] - 0s 6ms/step - loss: 0.5326 - mse: 0.0445 - val_loss: 1.3782 - val_mse: 0.8997\n",
            "Epoch 86/200\n",
            "79/79 [==============================] - 0s 6ms/step - loss: 0.5088 - mse: 0.0398 - val_loss: 1.3712 - val_mse: 0.9116\n",
            "Epoch 87/200\n",
            "79/79 [==============================] - 0s 5ms/step - loss: 0.4945 - mse: 0.0437 - val_loss: 1.4243 - val_mse: 0.9822\n",
            "Epoch 88/200\n",
            "79/79 [==============================] - 0s 5ms/step - loss: 0.4760 - mse: 0.0425 - val_loss: 1.4003 - val_mse: 0.9753\n",
            "Epoch 89/200\n",
            "79/79 [==============================] - 0s 6ms/step - loss: 0.4520 - mse: 0.0353 - val_loss: 1.3303 - val_mse: 0.9217\n",
            "Epoch 90/200\n",
            "79/79 [==============================] - 0s 6ms/step - loss: 0.4372 - mse: 0.0361 - val_loss: 1.2860 - val_mse: 0.8926\n",
            "Epoch 91/200\n",
            "79/79 [==============================] - 0s 6ms/step - loss: 0.4191 - mse: 0.0331 - val_loss: 1.2725 - val_mse: 0.8940\n",
            "Epoch 92/200\n",
            "79/79 [==============================] - 0s 6ms/step - loss: 0.4023 - mse: 0.0309 - val_loss: 1.2631 - val_mse: 0.8987\n",
            "Epoch 93/200\n",
            "79/79 [==============================] - 0s 6ms/step - loss: 0.3858 - mse: 0.0278 - val_loss: 1.2215 - val_mse: 0.8702\n",
            "Epoch 94/200\n",
            "79/79 [==============================] - 0s 5ms/step - loss: 0.3773 - mse: 0.0323 - val_loss: 1.2257 - val_mse: 0.8870\n",
            "Epoch 95/200\n",
            "79/79 [==============================] - 0s 6ms/step - loss: 0.3646 - mse: 0.0318 - val_loss: 1.2117 - val_mse: 0.8847\n",
            "Epoch 96/200\n",
            "79/79 [==============================] - 0s 5ms/step - loss: 0.3524 - mse: 0.0311 - val_loss: 1.2561 - val_mse: 0.9405\n",
            "Epoch 97/200\n",
            "79/79 [==============================] - 0s 5ms/step - loss: 0.3455 - mse: 0.0353 - val_loss: 1.2169 - val_mse: 0.9119\n",
            "Epoch 98/200\n",
            "79/79 [==============================] - 0s 5ms/step - loss: 0.3373 - mse: 0.0370 - val_loss: 1.2406 - val_mse: 0.9453\n",
            "Epoch 99/200\n",
            "79/79 [==============================] - 0s 5ms/step - loss: 0.3332 - mse: 0.0426 - val_loss: 1.2401 - val_mse: 0.9541\n",
            "Epoch 100/200\n",
            "79/79 [==============================] - 0s 6ms/step - loss: 0.3231 - mse: 0.0416 - val_loss: 1.1328 - val_mse: 0.8557\n",
            "Epoch 101/200\n",
            "79/79 [==============================] - 0s 5ms/step - loss: 0.3173 - mse: 0.0442 - val_loss: 1.2067 - val_mse: 0.9374\n",
            "Epoch 102/200\n",
            "79/79 [==============================] - 0s 5ms/step - loss: 0.3036 - mse: 0.0381 - val_loss: 1.1687 - val_mse: 0.9074\n",
            "Epoch 103/200\n",
            "79/79 [==============================] - 0s 5ms/step - loss: 0.2952 - mse: 0.0376 - val_loss: 1.1929 - val_mse: 0.9392\n",
            "Epoch 104/200\n",
            "79/79 [==============================] - 0s 6ms/step - loss: 0.2873 - mse: 0.0375 - val_loss: 1.0889 - val_mse: 0.8431\n",
            "Epoch 105/200\n",
            "79/79 [==============================] - 0s 5ms/step - loss: 0.2805 - mse: 0.0382 - val_loss: 1.1078 - val_mse: 0.8690\n",
            "Epoch 106/200\n",
            "79/79 [==============================] - 0s 5ms/step - loss: 0.2740 - mse: 0.0386 - val_loss: 1.1424 - val_mse: 0.9105\n",
            "Epoch 107/200\n",
            "79/79 [==============================] - 0s 5ms/step - loss: 0.2672 - mse: 0.0385 - val_loss: 1.1050 - val_mse: 0.8794\n",
            "Epoch 108/200\n",
            "79/79 [==============================] - 0s 5ms/step - loss: 0.2593 - mse: 0.0368 - val_loss: 1.1423 - val_mse: 0.9229\n",
            "Epoch 109/200\n",
            "79/79 [==============================] - 0s 6ms/step - loss: 0.2544 - mse: 0.0378 - val_loss: 1.0856 - val_mse: 0.8718\n",
            "Epoch 110/200\n",
            "79/79 [==============================] - 0s 6ms/step - loss: 0.2435 - mse: 0.0327 - val_loss: 1.0543 - val_mse: 0.8463\n",
            "Epoch 111/200\n",
            "79/79 [==============================] - 0s 5ms/step - loss: 0.2329 - mse: 0.0276 - val_loss: 1.0727 - val_mse: 0.8703\n",
            "Epoch 112/200\n",
            "79/79 [==============================] - 0s 5ms/step - loss: 0.2250 - mse: 0.0254 - val_loss: 1.1094 - val_mse: 0.9125\n",
            "Epoch 113/200\n",
            "79/79 [==============================] - 0s 5ms/step - loss: 0.2173 - mse: 0.0229 - val_loss: 1.0722 - val_mse: 0.8803\n",
            "Epoch 114/200\n",
            "79/79 [==============================] - 0s 5ms/step - loss: 0.2134 - mse: 0.0241 - val_loss: 1.0655 - val_mse: 0.8788\n",
            "Epoch 115/200\n",
            "79/79 [==============================] - 0s 6ms/step - loss: 0.2097 - mse: 0.0255 - val_loss: 1.0369 - val_mse: 0.8552\n",
            "Epoch 116/200\n",
            "79/79 [==============================] - 0s 5ms/step - loss: 0.2009 - mse: 0.0215 - val_loss: 1.0567 - val_mse: 0.8798\n",
            "Epoch 117/200\n",
            "79/79 [==============================] - 0s 5ms/step - loss: 0.1978 - mse: 0.0230 - val_loss: 1.1101 - val_mse: 0.9373\n",
            "Epoch 118/200\n",
            "79/79 [==============================] - 0s 5ms/step - loss: 0.1979 - mse: 0.0274 - val_loss: 1.0473 - val_mse: 0.8788\n",
            "Epoch 119/200\n",
            "79/79 [==============================] - 0s 5ms/step - loss: 0.2000 - mse: 0.0332 - val_loss: 1.0678 - val_mse: 0.9027\n",
            "Epoch 120/200\n",
            "79/79 [==============================] - 0s 6ms/step - loss: 0.1957 - mse: 0.0321 - val_loss: 1.0163 - val_mse: 0.8542\n",
            "Epoch 121/200\n",
            "79/79 [==============================] - 0s 5ms/step - loss: 0.1980 - mse: 0.0376 - val_loss: 1.0765 - val_mse: 0.9173\n",
            "Epoch 122/200\n",
            "79/79 [==============================] - 0s 5ms/step - loss: 0.1976 - mse: 0.0399 - val_loss: 1.0701 - val_mse: 0.9140\n",
            "Epoch 123/200\n",
            "79/79 [==============================] - 0s 5ms/step - loss: 0.1886 - mse: 0.0338 - val_loss: 1.1338 - val_mse: 0.9803\n",
            "Epoch 124/200\n",
            "79/79 [==============================] - 0s 5ms/step - loss: 0.1895 - mse: 0.0376 - val_loss: 1.0342 - val_mse: 0.8835\n",
            "Epoch 125/200\n",
            "79/79 [==============================] - 0s 5ms/step - loss: 0.1808 - mse: 0.0317 - val_loss: 1.0258 - val_mse: 0.8781\n",
            "Epoch 126/200\n",
            "79/79 [==============================] - 0s 6ms/step - loss: 0.1710 - mse: 0.0251 - val_loss: 1.0026 - val_mse: 0.8583\n",
            "Epoch 127/200\n",
            "79/79 [==============================] - 0s 5ms/step - loss: 0.1690 - mse: 0.0262 - val_loss: 1.0395 - val_mse: 0.8982\n",
            "Epoch 128/200\n",
            "79/79 [==============================] - 0s 5ms/step - loss: 0.1678 - mse: 0.0285 - val_loss: 1.0559 - val_mse: 0.9179\n",
            "Epoch 129/200\n",
            "79/79 [==============================] - 0s 5ms/step - loss: 0.1604 - mse: 0.0237 - val_loss: 1.0192 - val_mse: 0.8841\n",
            "Epoch 130/200\n",
            "79/79 [==============================] - 0s 6ms/step - loss: 0.1545 - mse: 0.0209 - val_loss: 1.0015 - val_mse: 0.8694\n",
            "Epoch 131/200\n",
            "79/79 [==============================] - 0s 5ms/step - loss: 0.1517 - mse: 0.0211 - val_loss: 1.0567 - val_mse: 0.9274\n",
            "Epoch 132/200\n",
            "79/79 [==============================] - 0s 5ms/step - loss: 0.1491 - mse: 0.0210 - val_loss: 1.0179 - val_mse: 0.8912\n",
            "Epoch 133/200\n",
            "79/79 [==============================] - 0s 5ms/step - loss: 0.1495 - mse: 0.0241 - val_loss: 1.0077 - val_mse: 0.8831\n",
            "Epoch 134/200\n",
            "79/79 [==============================] - 0s 6ms/step - loss: 0.1486 - mse: 0.0256 - val_loss: 0.9943 - val_mse: 0.8724\n",
            "Epoch 135/200\n",
            "79/79 [==============================] - 0s 5ms/step - loss: 0.1466 - mse: 0.0259 - val_loss: 1.0111 - val_mse: 0.8914\n",
            "Epoch 136/200\n",
            "79/79 [==============================] - 0s 5ms/step - loss: 0.1424 - mse: 0.0236 - val_loss: 1.0206 - val_mse: 0.9027\n",
            "Epoch 137/200\n",
            "79/79 [==============================] - 0s 5ms/step - loss: 0.1455 - mse: 0.0285 - val_loss: 1.0191 - val_mse: 0.9026\n",
            "Epoch 138/200\n",
            "79/79 [==============================] - 0s 6ms/step - loss: 0.1478 - mse: 0.0326 - val_loss: 0.9730 - val_mse: 0.8587\n",
            "Epoch 139/200\n",
            "79/79 [==============================] - 0s 5ms/step - loss: 0.1467 - mse: 0.0326 - val_loss: 0.9843 - val_mse: 0.8706\n",
            "Epoch 140/200\n",
            "79/79 [==============================] - 0s 5ms/step - loss: 0.1415 - mse: 0.0286 - val_loss: 0.9990 - val_mse: 0.8869\n",
            "Epoch 141/200\n",
            "79/79 [==============================] - 0s 6ms/step - loss: 0.1431 - mse: 0.0317 - val_loss: 0.9622 - val_mse: 0.8517\n",
            "Epoch 142/200\n",
            "79/79 [==============================] - 0s 5ms/step - loss: 0.1428 - mse: 0.0328 - val_loss: 0.9859 - val_mse: 0.8765\n",
            "Epoch 143/200\n",
            "79/79 [==============================] - 0s 5ms/step - loss: 0.1362 - mse: 0.0278 - val_loss: 0.9779 - val_mse: 0.8705\n",
            "Epoch 144/200\n",
            "79/79 [==============================] - 0s 5ms/step - loss: 0.1317 - mse: 0.0252 - val_loss: 1.0131 - val_mse: 0.9078\n",
            "Epoch 145/200\n",
            "79/79 [==============================] - 0s 5ms/step - loss: 0.1256 - mse: 0.0213 - val_loss: 0.9797 - val_mse: 0.8765\n",
            "Epoch 146/200\n",
            "79/79 [==============================] - 0s 6ms/step - loss: 0.1212 - mse: 0.0189 - val_loss: 0.9584 - val_mse: 0.8572\n",
            "Epoch 147/200\n",
            "79/79 [==============================] - 0s 5ms/step - loss: 0.1202 - mse: 0.0200 - val_loss: 0.9884 - val_mse: 0.8890\n",
            "Epoch 148/200\n",
            "79/79 [==============================] - 0s 5ms/step - loss: 0.1157 - mse: 0.0174 - val_loss: 0.9629 - val_mse: 0.8657\n",
            "Epoch 149/200\n",
            "79/79 [==============================] - 0s 5ms/step - loss: 0.1162 - mse: 0.0199 - val_loss: 0.9679 - val_mse: 0.8723\n",
            "Epoch 150/200\n",
            "79/79 [==============================] - 0s 5ms/step - loss: 0.1141 - mse: 0.0195 - val_loss: 1.0117 - val_mse: 0.9178\n",
            "Epoch 151/200\n",
            "79/79 [==============================] - 0s 5ms/step - loss: 0.1148 - mse: 0.0218 - val_loss: 0.9715 - val_mse: 0.8791\n",
            "Epoch 152/200\n",
            "79/79 [==============================] - 0s 5ms/step - loss: 0.1174 - mse: 0.0258 - val_loss: 0.9771 - val_mse: 0.8862\n",
            "Epoch 153/200\n",
            "79/79 [==============================] - 0s 6ms/step - loss: 0.1164 - mse: 0.0260 - val_loss: 0.9564 - val_mse: 0.8665\n",
            "Epoch 154/200\n",
            "79/79 [==============================] - 0s 5ms/step - loss: 0.1187 - mse: 0.0294 - val_loss: 0.9863 - val_mse: 0.8974\n",
            "Epoch 155/200\n",
            "79/79 [==============================] - 0s 5ms/step - loss: 0.1126 - mse: 0.0242 - val_loss: 0.9755 - val_mse: 0.8873\n",
            "Epoch 156/200\n",
            "79/79 [==============================] - 0s 5ms/step - loss: 0.1120 - mse: 0.0244 - val_loss: 0.9991 - val_mse: 0.9121\n",
            "Epoch 157/200\n",
            "79/79 [==============================] - 0s 6ms/step - loss: 0.1101 - mse: 0.0237 - val_loss: 0.9309 - val_mse: 0.8451\n",
            "Epoch 158/200\n",
            "79/79 [==============================] - 0s 5ms/step - loss: 0.1076 - mse: 0.0224 - val_loss: 0.9444 - val_mse: 0.8598\n",
            "Epoch 159/200\n",
            "79/79 [==============================] - 0s 5ms/step - loss: 0.1050 - mse: 0.0209 - val_loss: 0.9538 - val_mse: 0.8703\n",
            "Epoch 160/200\n",
            "79/79 [==============================] - 0s 5ms/step - loss: 0.1038 - mse: 0.0210 - val_loss: 0.9592 - val_mse: 0.8769\n",
            "Epoch 161/200\n",
            "79/79 [==============================] - 0s 5ms/step - loss: 0.1031 - mse: 0.0214 - val_loss: 0.9491 - val_mse: 0.8678\n",
            "Epoch 162/200\n",
            "79/79 [==============================] - 0s 5ms/step - loss: 0.1029 - mse: 0.0222 - val_loss: 0.9474 - val_mse: 0.8674\n",
            "Epoch 163/200\n",
            "79/79 [==============================] - 0s 5ms/step - loss: 0.1078 - mse: 0.0284 - val_loss: 0.9469 - val_mse: 0.8678\n",
            "Epoch 164/200\n",
            "79/79 [==============================] - 0s 5ms/step - loss: 0.1044 - mse: 0.0258 - val_loss: 0.9356 - val_mse: 0.8574\n",
            "Epoch 165/200\n",
            "79/79 [==============================] - 0s 5ms/step - loss: 0.0993 - mse: 0.0216 - val_loss: 0.9737 - val_mse: 0.8966\n",
            "Epoch 166/200\n",
            "79/79 [==============================] - 0s 6ms/step - loss: 0.0985 - mse: 0.0219 - val_loss: 0.9134 - val_mse: 0.8372\n",
            "Epoch 167/200\n",
            "79/79 [==============================] - 0s 5ms/step - loss: 0.0965 - mse: 0.0210 - val_loss: 0.9406 - val_mse: 0.8657\n",
            "Epoch 168/200\n",
            "79/79 [==============================] - 0s 5ms/step - loss: 0.0891 - mse: 0.0149 - val_loss: 0.9447 - val_mse: 0.8709\n",
            "Epoch 169/200\n",
            "79/79 [==============================] - 0s 5ms/step - loss: 0.0890 - mse: 0.0159 - val_loss: 0.9396 - val_mse: 0.8671\n",
            "Epoch 170/200\n",
            "79/79 [==============================] - 0s 5ms/step - loss: 0.0877 - mse: 0.0157 - val_loss: 0.9293 - val_mse: 0.8579\n",
            "Epoch 171/200\n",
            "79/79 [==============================] - 0s 5ms/step - loss: 0.0882 - mse: 0.0173 - val_loss: 0.9661 - val_mse: 0.8956\n",
            "Epoch 172/200\n",
            "79/79 [==============================] - 0s 5ms/step - loss: 0.0867 - mse: 0.0169 - val_loss: 0.9347 - val_mse: 0.8655\n",
            "Epoch 173/200\n",
            "79/79 [==============================] - 0s 5ms/step - loss: 0.0869 - mse: 0.0180 - val_loss: 0.9388 - val_mse: 0.8703\n",
            "Epoch 174/200\n",
            "79/79 [==============================] - 0s 5ms/step - loss: 0.0917 - mse: 0.0235 - val_loss: 0.9204 - val_mse: 0.8522\n",
            "Epoch 175/200\n",
            "79/79 [==============================] - 0s 5ms/step - loss: 0.0955 - mse: 0.0277 - val_loss: 0.9411 - val_mse: 0.8736\n",
            "Epoch 176/200\n",
            "79/79 [==============================] - 0s 6ms/step - loss: 0.0916 - mse: 0.0243 - val_loss: 0.9043 - val_mse: 0.8373\n",
            "Epoch 177/200\n",
            "79/79 [==============================] - 0s 5ms/step - loss: 0.0877 - mse: 0.0210 - val_loss: 1.0015 - val_mse: 0.9353\n",
            "Epoch 178/200\n",
            "79/79 [==============================] - 0s 6ms/step - loss: 0.0845 - mse: 0.0186 - val_loss: 0.8996 - val_mse: 0.8339\n",
            "Epoch 179/200\n",
            "79/79 [==============================] - 0s 5ms/step - loss: 0.0856 - mse: 0.0205 - val_loss: 0.9707 - val_mse: 0.9059\n",
            "Epoch 180/200\n",
            "79/79 [==============================] - 0s 5ms/step - loss: 0.0851 - mse: 0.0208 - val_loss: 0.9259 - val_mse: 0.8620\n",
            "Epoch 181/200\n",
            "79/79 [==============================] - 0s 5ms/step - loss: 0.0855 - mse: 0.0218 - val_loss: 0.9369 - val_mse: 0.8734\n",
            "Epoch 182/200\n",
            "79/79 [==============================] - 0s 5ms/step - loss: 0.0843 - mse: 0.0212 - val_loss: 0.9335 - val_mse: 0.8707\n",
            "Epoch 183/200\n",
            "79/79 [==============================] - 0s 5ms/step - loss: 0.0821 - mse: 0.0197 - val_loss: 0.9290 - val_mse: 0.8669\n",
            "Epoch 184/200\n",
            "79/79 [==============================] - 0s 5ms/step - loss: 0.0802 - mse: 0.0186 - val_loss: 0.9028 - val_mse: 0.8417\n",
            "Epoch 185/200\n",
            "79/79 [==============================] - 0s 5ms/step - loss: 0.0808 - mse: 0.0201 - val_loss: 0.9176 - val_mse: 0.8574\n",
            "Epoch 186/200\n",
            "79/79 [==============================] - 0s 5ms/step - loss: 0.0777 - mse: 0.0176 - val_loss: 0.9069 - val_mse: 0.8471\n",
            "Epoch 187/200\n",
            "79/79 [==============================] - 0s 5ms/step - loss: 0.0762 - mse: 0.0168 - val_loss: 0.9321 - val_mse: 0.8730\n",
            "Epoch 188/200\n",
            "79/79 [==============================] - 0s 5ms/step - loss: 0.0770 - mse: 0.0184 - val_loss: 0.9190 - val_mse: 0.8608\n",
            "Epoch 189/200\n",
            "79/79 [==============================] - 0s 5ms/step - loss: 0.0744 - mse: 0.0165 - val_loss: 0.9050 - val_mse: 0.8476\n",
            "Epoch 190/200\n",
            "79/79 [==============================] - 0s 5ms/step - loss: 0.0735 - mse: 0.0163 - val_loss: 0.9154 - val_mse: 0.8585\n",
            "Epoch 191/200\n",
            "79/79 [==============================] - 0s 5ms/step - loss: 0.0757 - mse: 0.0191 - val_loss: 0.9250 - val_mse: 0.8686\n",
            "Epoch 192/200\n",
            "79/79 [==============================] - 0s 6ms/step - loss: 0.0731 - mse: 0.0172 - val_loss: 0.8938 - val_mse: 0.8380\n",
            "Epoch 193/200\n",
            "79/79 [==============================] - 0s 5ms/step - loss: 0.0719 - mse: 0.0165 - val_loss: 0.9150 - val_mse: 0.8599\n",
            "Epoch 194/200\n",
            "79/79 [==============================] - 0s 5ms/step - loss: 0.0734 - mse: 0.0186 - val_loss: 0.9500 - val_mse: 0.8953\n",
            "Epoch 195/200\n",
            "79/79 [==============================] - 0s 5ms/step - loss: 0.0756 - mse: 0.0212 - val_loss: 0.9047 - val_mse: 0.8506\n",
            "Epoch 196/200\n",
            "79/79 [==============================] - 0s 5ms/step - loss: 0.0740 - mse: 0.0201 - val_loss: 0.9114 - val_mse: 0.8576\n",
            "Epoch 197/200\n",
            "79/79 [==============================] - 0s 5ms/step - loss: 0.0719 - mse: 0.0185 - val_loss: 0.9192 - val_mse: 0.8660\n",
            "Epoch 198/200\n",
            "79/79 [==============================] - 0s 5ms/step - loss: 0.0701 - mse: 0.0172 - val_loss: 0.8978 - val_mse: 0.8453\n",
            "Epoch 199/200\n",
            "79/79 [==============================] - 0s 5ms/step - loss: 0.0682 - mse: 0.0160 - val_loss: 0.9324 - val_mse: 0.8804\n",
            "Epoch 200/200\n",
            "79/79 [==============================] - 0s 5ms/step - loss: 0.0663 - mse: 0.0147 - val_loss: 0.9312 - val_mse: 0.8799\n"
          ]
        }
      ],
      "source": [
        "# 3. Train the model\n",
        "history = model.fit(X_train_scaled, y_train, epochs=200, validation_data=(X_val_scaled, y_val), verbose=1)\n",
        "# history = model.fit(X_train_scaled, y_train, epochs=200, batch_size=10, validation_data=(X_val_scaled, y_val), verbose=1, callbacks=[early_stopping])"
      ]
    },
    {
      "cell_type": "code",
      "execution_count": 117,
      "metadata": {
        "colab": {
          "base_uri": "https://localhost:8080/"
        },
        "id": "sRvN0wtbBgOE",
        "outputId": "bbd7c450-5799-4d0c-c1e9-0b0d057ad0f4"
      },
      "outputs": [
        {
          "name": "stdout",
          "output_type": "stream",
          "text": [
            "6/6 [==============================] - 0s 2ms/step - loss: 1.0463 - mse: 0.9950\n"
          ]
        }
      ],
      "source": [
        "# 4. Evaluate the model\n",
        "test_loss, test_mse = model.evaluate(X_test_scaled, y_test, verbose=1)"
      ]
    },
    {
      "cell_type": "code",
      "execution_count": 118,
      "metadata": {
        "colab": {
          "base_uri": "https://localhost:8080/"
        },
        "id": "Q9BXh_UxBgOE",
        "outputId": "706b5793-9171-42a6-d412-ee400c8fa8f3"
      },
      "outputs": [
        {
          "name": "stdout",
          "output_type": "stream",
          "text": [
            "6/6 [==============================] - 0s 2ms/step\n"
          ]
        }
      ],
      "source": [
        "# Make predictions\n",
        "y_pred = model.predict(X_test_scaled)"
      ]
    },
    {
      "cell_type": "code",
      "execution_count": 119,
      "metadata": {
        "colab": {
          "base_uri": "https://localhost:8080/"
        },
        "id": "T6IeA68xBgOE",
        "outputId": "c83f652d-df39-4c16-9017-18f928c6182c"
      },
      "outputs": [
        {
          "name": "stdout",
          "output_type": "stream",
          "text": [
            "Test MSE: 0.9950377345085144\n",
            "Test RMSE: 0.9975157815836873\n",
            "Test R^2: 0.7564379504941793\n",
            "Test MAE: 0.7406903857953407\n"
          ]
        }
      ],
      "source": [
        "# Calculate R^2 and MAE\n",
        "r2 = r2_score(y_test, y_pred)\n",
        "mae = mean_absolute_error(y_test, y_pred)\n",
        "\n",
        "print(f\"Test MSE: {test_mse}\")\n",
        "print(f\"Test RMSE: {np.sqrt(test_mse)}\")\n",
        "print(f\"Test R^2: {r2}\")\n",
        "print(f\"Test MAE: {mae}\")"
      ]
    },
    {
      "cell_type": "code",
      "execution_count": 120,
      "metadata": {
        "colab": {
          "base_uri": "https://localhost:8080/",
          "height": 564
        },
        "id": "2c3BegkSBgOF",
        "outputId": "82e4ee35-1aaf-48ea-a4b4-e49ec2dedcfd"
      },
      "outputs": [
        {
          "data": {
            "image/png": "[encoded data removed]",
            "text/plain": [
              "<Figure size 1200x600 with 1 Axes>"
            ]
          },
          "metadata": {},
          "output_type": "display_data"
        }
      ],
      "source": [
        "# 5. Plot the training and validation loss\n",
        "plt.figure(figsize=(12, 6))\n",
        "plt.plot(history.history['loss'])\n",
        "plt.plot(history.history['val_loss'])\n",
        "plt.title('Model loss')\n",
        "plt.ylabel('Loss')\n",
        "plt.xlabel('Epoch')\n",
        "plt.legend(['Train', 'Validation'], loc='upper right')\n",
        "plt.show()"
      ]
    },
    {
      "cell_type": "code",
      "execution_count": 120,
      "metadata": {
        "id": "-BOLawaPBgOF"
      },
      "outputs": [],
      "source": []
    },
    {
      "cell_type": "code",
      "execution_count": 120,
      "metadata": {
        "id": "Raf1S8xgBgOF"
      },
      "outputs": [],
      "source": []
    },
    {
      "cell_type": "code",
      "execution_count": 120,
      "metadata": {
        "id": "kLWF8fUpBgOG"
      },
      "outputs": [],
      "source": []
    },
    {
      "cell_type": "code",
      "execution_count": 120,
      "metadata": {
        "id": "xepbYirNBgOG"
      },
      "outputs": [],
      "source": []
    },
    {
      "cell_type": "code",
      "execution_count": 120,
      "metadata": {
        "id": "sKCRp9_bBgOG"
      },
      "outputs": [],
      "source": []
    }
  ],
  "metadata": {
    "accelerator": "GPU",
    "colab": {
      "gpuType": "A100",
      "provenance": []
    },
    "kernelspec": {
      "display_name": "Python 3",
      "name": "python3"
    },
    "language_info": {
      "codemirror_mode": {
        "name": "ipython",
        "version": 3
      },
      "file_extension": ".py",
      "mimetype": "text/x-python",
      "name": "python",
      "nbconvert_exporter": "python",
      "pygments_lexer": "ipython3",
      "version": "3.10.12"
    }
  },
  "nbformat": 4,
  "nbformat_minor": 0
}
