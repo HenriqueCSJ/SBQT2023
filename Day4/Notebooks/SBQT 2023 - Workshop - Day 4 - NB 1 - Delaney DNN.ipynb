{
 "cells": [
  {
   "cell_type": "code",
   "execution_count": 422,
   "metadata": {
    "slideshow": {
     "slide_type": "slide"
    }
   },
   "outputs": [],
   "source": [
    "import pandas as pd\n",
    "import numpy as np\n",
    "from tensorflow.keras.models import Sequential\n",
    "from tensorflow.keras.layers import Dense, InputLayer\n",
    "from tensorflow.keras.optimizers import Adam\n",
    "from sklearn.model_selection import train_test_split\n",
    "from sklearn.preprocessing import StandardScaler\n",
    "from sklearn.metrics import r2_score, mean_absolute_error\n",
    "import matplotlib.pyplot as plt"
   ]
  },
  {
   "cell_type": "code",
   "execution_count": 423,
   "metadata": {
    "slideshow": {
     "slide_type": "slide"
    }
   },
   "outputs": [],
   "source": [
    "# 1. Load and preprocess the data\n",
    "df = pd.read_csv('delaney-processed.csv')\n",
    "features = ['Minimum Degree', 'Molecular Weight', 'Number of H-Bond Donors', 'Number of Rings', 'Number of Rotatable Bonds', 'Polar Surface Area']\n",
    "target = 'measured log solubility in mols per litre'\n",
    "X = df[features]\n",
    "y = df[target]"
   ]
  },
  {
   "cell_type": "code",
   "execution_count": 424,
   "metadata": {
    "slideshow": {
     "slide_type": "slide"
    }
   },
   "outputs": [],
   "source": [
    "# Split the data\n",
    "X_train, X_temp, y_train, y_temp = train_test_split(X, y, test_size=0.3, random_state=42)\n",
    "X_val, X_test, y_val, y_test = train_test_split(X_temp, y_temp, test_size=0.5, random_state=42)"
   ]
  },
  {
   "cell_type": "code",
   "execution_count": 425,
   "metadata": {
    "slideshow": {
     "slide_type": "slide"
    }
   },
   "outputs": [],
   "source": [
    "# Normalize the data\n",
    "scaler = StandardScaler()\n",
    "X_train_scaled = scaler.fit_transform(X_train)\n",
    "X_val_scaled = scaler.transform(X_val)\n",
    "X_test_scaled = scaler.transform(X_test)"
   ]
  },
  {
   "cell_type": "code",
   "execution_count": 426,
   "metadata": {},
   "outputs": [],
   "source": [
    "# # # Add dropout and regularization\n",
    "# from tensorflow.keras.layers import Dropout\n",
    "# from tensorflow.keras import regularizers"
   ]
  },
  {
   "cell_type": "code",
   "execution_count": 427,
   "metadata": {},
   "outputs": [],
   "source": [
    "# from tensorflow.keras.callbacks import EarlyStopping\n",
    "# early_stopping = EarlyStopping(monitor='val_loss', patience=15, restore_best_weights=True)"
   ]
  },
  {
   "cell_type": "code",
   "execution_count": 428,
   "metadata": {
    "slideshow": {
     "slide_type": "slide"
    }
   },
   "outputs": [],
   "source": [
    "# 2. Define the model\n",
    "model = Sequential()\n",
    "model.add(InputLayer(input_shape=(6,)))  # Explicit input layer with 6 features\n",
    "model.add(Dense(128, activation='relu'))\n",
    "model.add(Dense(128, activation='relu'))\n",
    "model.add(Dense(128, activation='relu'))\n",
    "model.add(Dense(256, activation='relu'))\n",
    "model.add(Dense(1))  # Output layer"
   ]
  },
  {
   "cell_type": "code",
   "execution_count": 429,
   "metadata": {
    "slideshow": {
     "slide_type": "slide"
    }
   },
   "outputs": [],
   "source": [
    "# Compile the model\n",
    "opt = Adam(learning_rate=0.0001)\n",
    "model.compile(optimizer=opt, loss='mse', metrics=['mse'])"
   ]
  },
  {
   "cell_type": "code",
   "execution_count": 430,
   "metadata": {
    "slideshow": {
     "slide_type": "slide"
    }
   },
   "outputs": [
    {
     "name": "stdout",
     "output_type": "stream",
     "text": [
      "Epoch 1/200\n"
     ]
    },
    {
     "name": "stdout",
     "output_type": "stream",
     "text": [
      "25/25 [==============================] - 2s 11ms/step - loss: 11.9879 - mse: 11.9879 - val_loss: 12.4634 - val_mse: 12.4634\n",
      "Epoch 2/200\n",
      "25/25 [==============================] - 0s 5ms/step - loss: 9.5011 - mse: 9.5011 - val_loss: 9.2046 - val_mse: 9.2046\n",
      "Epoch 3/200\n",
      "25/25 [==============================] - 0s 4ms/step - loss: 6.6276 - mse: 6.6276 - val_loss: 5.9964 - val_mse: 5.9964\n",
      "Epoch 4/200\n",
      "25/25 [==============================] - 0s 4ms/step - loss: 4.5214 - mse: 4.5214 - val_loss: 4.2937 - val_mse: 4.2937\n",
      "Epoch 5/200\n",
      "25/25 [==============================] - 0s 4ms/step - loss: 3.4729 - mse: 3.4729 - val_loss: 3.2886 - val_mse: 3.2886\n",
      "Epoch 6/200\n",
      "25/25 [==============================] - 0s 4ms/step - loss: 2.7298 - mse: 2.7298 - val_loss: 2.5464 - val_mse: 2.5464\n",
      "Epoch 7/200\n",
      "25/25 [==============================] - 0s 4ms/step - loss: 2.1925 - mse: 2.1925 - val_loss: 2.1531 - val_mse: 2.1531\n",
      "Epoch 8/200\n",
      "25/25 [==============================] - 0s 4ms/step - loss: 1.8755 - mse: 1.8755 - val_loss: 1.9349 - val_mse: 1.9349\n",
      "Epoch 9/200\n",
      "25/25 [==============================] - 0s 4ms/step - loss: 1.6858 - mse: 1.6858 - val_loss: 1.8285 - val_mse: 1.8285\n",
      "Epoch 10/200\n",
      "25/25 [==============================] - 0s 4ms/step - loss: 1.5715 - mse: 1.5715 - val_loss: 1.7595 - val_mse: 1.7595\n",
      "Epoch 11/200\n",
      "25/25 [==============================] - 0s 4ms/step - loss: 1.4869 - mse: 1.4869 - val_loss: 1.7119 - val_mse: 1.7119\n",
      "Epoch 12/200\n",
      "25/25 [==============================] - 0s 4ms/step - loss: 1.4207 - mse: 1.4207 - val_loss: 1.6349 - val_mse: 1.6349\n",
      "Epoch 13/200\n",
      "25/25 [==============================] - 0s 4ms/step - loss: 1.3536 - mse: 1.3536 - val_loss: 1.5671 - val_mse: 1.5671\n",
      "Epoch 14/200\n",
      "25/25 [==============================] - 0s 4ms/step - loss: 1.2917 - mse: 1.2917 - val_loss: 1.5071 - val_mse: 1.5071\n",
      "Epoch 15/200\n",
      "25/25 [==============================] - 0s 5ms/step - loss: 1.2366 - mse: 1.2366 - val_loss: 1.4494 - val_mse: 1.4494\n",
      "Epoch 16/200\n",
      "25/25 [==============================] - 0s 4ms/step - loss: 1.1792 - mse: 1.1792 - val_loss: 1.3878 - val_mse: 1.3878\n",
      "Epoch 17/200\n",
      "25/25 [==============================] - 0s 4ms/step - loss: 1.1340 - mse: 1.1340 - val_loss: 1.3566 - val_mse: 1.3566\n",
      "Epoch 18/200\n",
      "25/25 [==============================] - 0s 4ms/step - loss: 1.0991 - mse: 1.0991 - val_loss: 1.3086 - val_mse: 1.3086\n",
      "Epoch 19/200\n",
      "25/25 [==============================] - 0s 4ms/step - loss: 1.0407 - mse: 1.0407 - val_loss: 1.2780 - val_mse: 1.2780\n",
      "Epoch 20/200\n",
      "25/25 [==============================] - 0s 4ms/step - loss: 1.0047 - mse: 1.0047 - val_loss: 1.2324 - val_mse: 1.2324\n",
      "Epoch 21/200\n",
      "25/25 [==============================] - 0s 4ms/step - loss: 0.9727 - mse: 0.9727 - val_loss: 1.1661 - val_mse: 1.1661\n",
      "Epoch 22/200\n",
      "25/25 [==============================] - 0s 4ms/step - loss: 0.9238 - mse: 0.9238 - val_loss: 1.1431 - val_mse: 1.1431\n",
      "Epoch 23/200\n",
      "25/25 [==============================] - 0s 6ms/step - loss: 0.8987 - mse: 0.8987 - val_loss: 1.1288 - val_mse: 1.1288\n",
      "Epoch 24/200\n",
      "25/25 [==============================] - 0s 7ms/step - loss: 0.8739 - mse: 0.8739 - val_loss: 1.0752 - val_mse: 1.0752\n",
      "Epoch 25/200\n",
      "25/25 [==============================] - 0s 8ms/step - loss: 0.8380 - mse: 0.8380 - val_loss: 1.0430 - val_mse: 1.0430\n",
      "Epoch 26/200\n",
      "25/25 [==============================] - 0s 9ms/step - loss: 0.8157 - mse: 0.8157 - val_loss: 1.0278 - val_mse: 1.0278\n",
      "Epoch 27/200\n",
      "25/25 [==============================] - 0s 9ms/step - loss: 0.7966 - mse: 0.7966 - val_loss: 1.0095 - val_mse: 1.0095\n",
      "Epoch 28/200\n",
      "25/25 [==============================] - 0s 5ms/step - loss: 0.7808 - mse: 0.7808 - val_loss: 0.9923 - val_mse: 0.9923\n",
      "Epoch 29/200\n",
      "25/25 [==============================] - 0s 5ms/step - loss: 0.7663 - mse: 0.7663 - val_loss: 0.9707 - val_mse: 0.9707\n",
      "Epoch 30/200\n",
      "25/25 [==============================] - 0s 6ms/step - loss: 0.7514 - mse: 0.7514 - val_loss: 0.9607 - val_mse: 0.9607\n",
      "Epoch 31/200\n",
      "25/25 [==============================] - 0s 6ms/step - loss: 0.7361 - mse: 0.7361 - val_loss: 0.9665 - val_mse: 0.9665\n",
      "Epoch 32/200\n",
      "25/25 [==============================] - 0s 7ms/step - loss: 0.7332 - mse: 0.7332 - val_loss: 0.9408 - val_mse: 0.9408\n",
      "Epoch 33/200\n",
      "25/25 [==============================] - 0s 5ms/step - loss: 0.7249 - mse: 0.7249 - val_loss: 0.9286 - val_mse: 0.9286\n",
      "Epoch 34/200\n",
      "25/25 [==============================] - 0s 8ms/step - loss: 0.7048 - mse: 0.7048 - val_loss: 0.9153 - val_mse: 0.9153\n",
      "Epoch 35/200\n",
      "25/25 [==============================] - 0s 5ms/step - loss: 0.6949 - mse: 0.6949 - val_loss: 0.9046 - val_mse: 0.9046\n",
      "Epoch 36/200\n",
      "25/25 [==============================] - 0s 5ms/step - loss: 0.6922 - mse: 0.6922 - val_loss: 0.9028 - val_mse: 0.9028\n",
      "Epoch 37/200\n",
      "25/25 [==============================] - 0s 6ms/step - loss: 0.6795 - mse: 0.6795 - val_loss: 0.8825 - val_mse: 0.8825\n",
      "Epoch 38/200\n",
      "25/25 [==============================] - 0s 5ms/step - loss: 0.6750 - mse: 0.6750 - val_loss: 0.8783 - val_mse: 0.8783\n",
      "Epoch 39/200\n",
      "25/25 [==============================] - 0s 6ms/step - loss: 0.6732 - mse: 0.6732 - val_loss: 0.8804 - val_mse: 0.8804\n",
      "Epoch 40/200\n",
      "25/25 [==============================] - 0s 6ms/step - loss: 0.6595 - mse: 0.6595 - val_loss: 0.8679 - val_mse: 0.8679\n",
      "Epoch 41/200\n",
      "25/25 [==============================] - 0s 6ms/step - loss: 0.6580 - mse: 0.6580 - val_loss: 0.8803 - val_mse: 0.8803\n",
      "Epoch 42/200\n",
      "25/25 [==============================] - 0s 7ms/step - loss: 0.6583 - mse: 0.6583 - val_loss: 0.8577 - val_mse: 0.8577\n",
      "Epoch 43/200\n",
      "25/25 [==============================] - 0s 5ms/step - loss: 0.6586 - mse: 0.6586 - val_loss: 0.8635 - val_mse: 0.8635\n",
      "Epoch 44/200\n",
      "25/25 [==============================] - 0s 5ms/step - loss: 0.6438 - mse: 0.6438 - val_loss: 0.8433 - val_mse: 0.8433\n",
      "Epoch 45/200\n",
      "25/25 [==============================] - 0s 12ms/step - loss: 0.6368 - mse: 0.6368 - val_loss: 0.8460 - val_mse: 0.8460\n",
      "Epoch 46/200\n",
      "25/25 [==============================] - 0s 5ms/step - loss: 0.6372 - mse: 0.6372 - val_loss: 0.8380 - val_mse: 0.8380\n",
      "Epoch 47/200\n",
      "25/25 [==============================] - 0s 5ms/step - loss: 0.6324 - mse: 0.6324 - val_loss: 0.8355 - val_mse: 0.8355\n",
      "Epoch 48/200\n",
      "25/25 [==============================] - 0s 5ms/step - loss: 0.6209 - mse: 0.6209 - val_loss: 0.8399 - val_mse: 0.8399\n",
      "Epoch 49/200\n",
      "25/25 [==============================] - 0s 8ms/step - loss: 0.6312 - mse: 0.6312 - val_loss: 0.8452 - val_mse: 0.8452\n",
      "Epoch 50/200\n",
      "25/25 [==============================] - 0s 6ms/step - loss: 0.6186 - mse: 0.6186 - val_loss: 0.8188 - val_mse: 0.8188\n",
      "Epoch 51/200\n",
      "25/25 [==============================] - 0s 5ms/step - loss: 0.6136 - mse: 0.6136 - val_loss: 0.8172 - val_mse: 0.8172\n",
      "Epoch 52/200\n",
      "25/25 [==============================] - 0s 5ms/step - loss: 0.6124 - mse: 0.6124 - val_loss: 0.8159 - val_mse: 0.8159\n",
      "Epoch 53/200\n",
      "25/25 [==============================] - 0s 5ms/step - loss: 0.6051 - mse: 0.6051 - val_loss: 0.8101 - val_mse: 0.8101\n",
      "Epoch 54/200\n",
      "25/25 [==============================] - 0s 5ms/step - loss: 0.6063 - mse: 0.6063 - val_loss: 0.8176 - val_mse: 0.8176\n",
      "Epoch 55/200\n",
      "25/25 [==============================] - 0s 5ms/step - loss: 0.6003 - mse: 0.6003 - val_loss: 0.8238 - val_mse: 0.8238\n",
      "Epoch 56/200\n",
      "25/25 [==============================] - 0s 5ms/step - loss: 0.5941 - mse: 0.5941 - val_loss: 0.8062 - val_mse: 0.8062\n",
      "Epoch 57/200\n",
      "25/25 [==============================] - 0s 5ms/step - loss: 0.5927 - mse: 0.5927 - val_loss: 0.7951 - val_mse: 0.7951\n",
      "Epoch 58/200\n",
      "25/25 [==============================] - 0s 5ms/step - loss: 0.6017 - mse: 0.6017 - val_loss: 0.7970 - val_mse: 0.7970\n",
      "Epoch 59/200\n",
      "25/25 [==============================] - 0s 9ms/step - loss: 0.5921 - mse: 0.5921 - val_loss: 0.7804 - val_mse: 0.7804\n",
      "Epoch 60/200\n",
      "25/25 [==============================] - 0s 5ms/step - loss: 0.5854 - mse: 0.5854 - val_loss: 0.7917 - val_mse: 0.7917\n",
      "Epoch 61/200\n",
      "25/25 [==============================] - 0s 5ms/step - loss: 0.5828 - mse: 0.5828 - val_loss: 0.7830 - val_mse: 0.7830\n",
      "Epoch 62/200\n",
      "25/25 [==============================] - 0s 5ms/step - loss: 0.5790 - mse: 0.5790 - val_loss: 0.7932 - val_mse: 0.7932\n",
      "Epoch 63/200\n",
      "25/25 [==============================] - 0s 5ms/step - loss: 0.5782 - mse: 0.5782 - val_loss: 0.7790 - val_mse: 0.7790\n",
      "Epoch 64/200\n",
      "25/25 [==============================] - 0s 5ms/step - loss: 0.5767 - mse: 0.5767 - val_loss: 0.7789 - val_mse: 0.7789\n",
      "Epoch 65/200\n",
      "25/25 [==============================] - 0s 5ms/step - loss: 0.5704 - mse: 0.5704 - val_loss: 0.7728 - val_mse: 0.7728\n",
      "Epoch 66/200\n",
      "25/25 [==============================] - 0s 5ms/step - loss: 0.5738 - mse: 0.5738 - val_loss: 0.7682 - val_mse: 0.7682\n",
      "Epoch 67/200\n",
      "25/25 [==============================] - 0s 5ms/step - loss: 0.5606 - mse: 0.5606 - val_loss: 0.7672 - val_mse: 0.7672\n",
      "Epoch 68/200\n",
      "25/25 [==============================] - 0s 5ms/step - loss: 0.5591 - mse: 0.5591 - val_loss: 0.7730 - val_mse: 0.7730\n",
      "Epoch 69/200\n",
      "25/25 [==============================] - 0s 5ms/step - loss: 0.5650 - mse: 0.5650 - val_loss: 0.7712 - val_mse: 0.7712\n",
      "Epoch 70/200\n",
      "25/25 [==============================] - 0s 5ms/step - loss: 0.5585 - mse: 0.5585 - val_loss: 0.7614 - val_mse: 0.7614\n",
      "Epoch 71/200\n",
      "25/25 [==============================] - 0s 5ms/step - loss: 0.5563 - mse: 0.5563 - val_loss: 0.7607 - val_mse: 0.7607\n",
      "Epoch 72/200\n",
      "25/25 [==============================] - 0s 5ms/step - loss: 0.5516 - mse: 0.5516 - val_loss: 0.7573 - val_mse: 0.7573\n",
      "Epoch 73/200\n",
      "25/25 [==============================] - 0s 5ms/step - loss: 0.5523 - mse: 0.5523 - val_loss: 0.7587 - val_mse: 0.7587\n",
      "Epoch 74/200\n",
      "25/25 [==============================] - 0s 5ms/step - loss: 0.5478 - mse: 0.5478 - val_loss: 0.7600 - val_mse: 0.7600\n",
      "Epoch 75/200\n",
      "25/25 [==============================] - 0s 5ms/step - loss: 0.5416 - mse: 0.5416 - val_loss: 0.7444 - val_mse: 0.7444\n",
      "Epoch 76/200\n",
      "25/25 [==============================] - 0s 5ms/step - loss: 0.5425 - mse: 0.5425 - val_loss: 0.7472 - val_mse: 0.7472\n",
      "Epoch 77/200\n",
      "25/25 [==============================] - 0s 5ms/step - loss: 0.5386 - mse: 0.5386 - val_loss: 0.7427 - val_mse: 0.7427\n",
      "Epoch 78/200\n",
      "25/25 [==============================] - 0s 5ms/step - loss: 0.5349 - mse: 0.5349 - val_loss: 0.7608 - val_mse: 0.7608\n",
      "Epoch 79/200\n",
      "25/25 [==============================] - 0s 5ms/step - loss: 0.5381 - mse: 0.5381 - val_loss: 0.7494 - val_mse: 0.7494\n",
      "Epoch 80/200\n",
      "25/25 [==============================] - 0s 5ms/step - loss: 0.5367 - mse: 0.5367 - val_loss: 0.7464 - val_mse: 0.7464\n",
      "Epoch 81/200\n",
      "25/25 [==============================] - 0s 5ms/step - loss: 0.5278 - mse: 0.5278 - val_loss: 0.7416 - val_mse: 0.7416\n",
      "Epoch 82/200\n",
      "25/25 [==============================] - 0s 5ms/step - loss: 0.5289 - mse: 0.5289 - val_loss: 0.7391 - val_mse: 0.7391\n",
      "Epoch 83/200\n",
      "25/25 [==============================] - 0s 5ms/step - loss: 0.5179 - mse: 0.5179 - val_loss: 0.7427 - val_mse: 0.7427\n",
      "Epoch 84/200\n",
      "25/25 [==============================] - 0s 5ms/step - loss: 0.5200 - mse: 0.5200 - val_loss: 0.7413 - val_mse: 0.7413\n",
      "Epoch 85/200\n",
      "25/25 [==============================] - 0s 5ms/step - loss: 0.5224 - mse: 0.5224 - val_loss: 0.7333 - val_mse: 0.7333\n",
      "Epoch 86/200\n",
      "25/25 [==============================] - 0s 5ms/step - loss: 0.5147 - mse: 0.5147 - val_loss: 0.7351 - val_mse: 0.7351\n",
      "Epoch 87/200\n",
      "25/25 [==============================] - 0s 5ms/step - loss: 0.5215 - mse: 0.5215 - val_loss: 0.7320 - val_mse: 0.7320\n",
      "Epoch 88/200\n",
      "25/25 [==============================] - 0s 5ms/step - loss: 0.5090 - mse: 0.5090 - val_loss: 0.7484 - val_mse: 0.7484\n",
      "Epoch 89/200\n",
      "25/25 [==============================] - 0s 4ms/step - loss: 0.5072 - mse: 0.5072 - val_loss: 0.7302 - val_mse: 0.7302\n",
      "Epoch 90/200\n",
      "25/25 [==============================] - 0s 5ms/step - loss: 0.5078 - mse: 0.5078 - val_loss: 0.7255 - val_mse: 0.7255\n",
      "Epoch 91/200\n",
      "25/25 [==============================] - 0s 5ms/step - loss: 0.5074 - mse: 0.5074 - val_loss: 0.7273 - val_mse: 0.7273\n",
      "Epoch 92/200\n",
      "25/25 [==============================] - 0s 5ms/step - loss: 0.4995 - mse: 0.4995 - val_loss: 0.7942 - val_mse: 0.7942\n",
      "Epoch 93/200\n",
      "25/25 [==============================] - 0s 5ms/step - loss: 0.5084 - mse: 0.5084 - val_loss: 0.7317 - val_mse: 0.7317\n",
      "Epoch 94/200\n",
      "25/25 [==============================] - 0s 5ms/step - loss: 0.4972 - mse: 0.4972 - val_loss: 0.7216 - val_mse: 0.7216\n",
      "Epoch 95/200\n",
      "25/25 [==============================] - 0s 5ms/step - loss: 0.4964 - mse: 0.4964 - val_loss: 0.7461 - val_mse: 0.7461\n",
      "Epoch 96/200\n",
      "25/25 [==============================] - 0s 5ms/step - loss: 0.4950 - mse: 0.4950 - val_loss: 0.7228 - val_mse: 0.7228\n",
      "Epoch 97/200\n",
      "25/25 [==============================] - 0s 5ms/step - loss: 0.5028 - mse: 0.5028 - val_loss: 0.7796 - val_mse: 0.7796\n",
      "Epoch 98/200\n",
      "25/25 [==============================] - 0s 5ms/step - loss: 0.5088 - mse: 0.5088 - val_loss: 0.7316 - val_mse: 0.7316\n",
      "Epoch 99/200\n",
      "25/25 [==============================] - 0s 5ms/step - loss: 0.4872 - mse: 0.4872 - val_loss: 0.7222 - val_mse: 0.7222\n",
      "Epoch 100/200\n",
      "25/25 [==============================] - 0s 8ms/step - loss: 0.4887 - mse: 0.4887 - val_loss: 0.7388 - val_mse: 0.7388\n",
      "Epoch 101/200\n",
      "25/25 [==============================] - 0s 5ms/step - loss: 0.4837 - mse: 0.4837 - val_loss: 0.7197 - val_mse: 0.7197\n",
      "Epoch 102/200\n",
      "25/25 [==============================] - 0s 5ms/step - loss: 0.4990 - mse: 0.4990 - val_loss: 0.7457 - val_mse: 0.7457\n",
      "Epoch 103/200\n",
      "25/25 [==============================] - 0s 5ms/step - loss: 0.4875 - mse: 0.4875 - val_loss: 0.7205 - val_mse: 0.7205\n",
      "Epoch 104/200\n",
      "25/25 [==============================] - 0s 5ms/step - loss: 0.4846 - mse: 0.4846 - val_loss: 0.7154 - val_mse: 0.7154\n",
      "Epoch 105/200\n",
      "25/25 [==============================] - 0s 5ms/step - loss: 0.4769 - mse: 0.4769 - val_loss: 0.7257 - val_mse: 0.7257\n",
      "Epoch 106/200\n",
      "25/25 [==============================] - 0s 5ms/step - loss: 0.4806 - mse: 0.4806 - val_loss: 0.7594 - val_mse: 0.7594\n",
      "Epoch 107/200\n",
      "25/25 [==============================] - 0s 5ms/step - loss: 0.4896 - mse: 0.4896 - val_loss: 0.7199 - val_mse: 0.7199\n",
      "Epoch 108/200\n",
      "25/25 [==============================] - 0s 6ms/step - loss: 0.4833 - mse: 0.4833 - val_loss: 0.7597 - val_mse: 0.7597\n",
      "Epoch 109/200\n",
      "25/25 [==============================] - 0s 6ms/step - loss: 0.4873 - mse: 0.4873 - val_loss: 0.7175 - val_mse: 0.7175\n",
      "Epoch 110/200\n",
      "25/25 [==============================] - 0s 6ms/step - loss: 0.4668 - mse: 0.4668 - val_loss: 0.7205 - val_mse: 0.7205\n",
      "Epoch 111/200\n",
      "25/25 [==============================] - 0s 6ms/step - loss: 0.4726 - mse: 0.4726 - val_loss: 0.7223 - val_mse: 0.7223\n",
      "Epoch 112/200\n",
      "25/25 [==============================] - 0s 6ms/step - loss: 0.4709 - mse: 0.4709 - val_loss: 0.7176 - val_mse: 0.7176\n",
      "Epoch 113/200\n",
      "25/25 [==============================] - 0s 5ms/step - loss: 0.4650 - mse: 0.4650 - val_loss: 0.7216 - val_mse: 0.7216\n",
      "Epoch 114/200\n",
      "25/25 [==============================] - 0s 5ms/step - loss: 0.4629 - mse: 0.4629 - val_loss: 0.7224 - val_mse: 0.7224\n",
      "Epoch 115/200\n",
      "25/25 [==============================] - 0s 5ms/step - loss: 0.4606 - mse: 0.4606 - val_loss: 0.7534 - val_mse: 0.7534\n",
      "Epoch 116/200\n",
      "25/25 [==============================] - 0s 5ms/step - loss: 0.4730 - mse: 0.4730 - val_loss: 0.7160 - val_mse: 0.7160\n",
      "Epoch 117/200\n",
      "25/25 [==============================] - 0s 5ms/step - loss: 0.4638 - mse: 0.4638 - val_loss: 0.7181 - val_mse: 0.7181\n",
      "Epoch 118/200\n",
      "25/25 [==============================] - 0s 5ms/step - loss: 0.4594 - mse: 0.4594 - val_loss: 0.7560 - val_mse: 0.7560\n",
      "Epoch 119/200\n",
      "25/25 [==============================] - 0s 5ms/step - loss: 0.4590 - mse: 0.4590 - val_loss: 0.7166 - val_mse: 0.7166\n",
      "Epoch 120/200\n",
      "25/25 [==============================] - 0s 5ms/step - loss: 0.4497 - mse: 0.4497 - val_loss: 0.7498 - val_mse: 0.7498\n",
      "Epoch 121/200\n",
      "25/25 [==============================] - 0s 5ms/step - loss: 0.4663 - mse: 0.4663 - val_loss: 0.7219 - val_mse: 0.7219\n",
      "Epoch 122/200\n",
      "25/25 [==============================] - 0s 4ms/step - loss: 0.4602 - mse: 0.4602 - val_loss: 0.7371 - val_mse: 0.7371\n",
      "Epoch 123/200\n",
      "25/25 [==============================] - 0s 5ms/step - loss: 0.4496 - mse: 0.4496 - val_loss: 0.7168 - val_mse: 0.7168\n",
      "Epoch 124/200\n",
      "25/25 [==============================] - 0s 5ms/step - loss: 0.4386 - mse: 0.4386 - val_loss: 0.7062 - val_mse: 0.7062\n",
      "Epoch 125/200\n",
      "25/25 [==============================] - 0s 5ms/step - loss: 0.4427 - mse: 0.4427 - val_loss: 0.7055 - val_mse: 0.7055\n",
      "Epoch 126/200\n",
      "25/25 [==============================] - 0s 5ms/step - loss: 0.4458 - mse: 0.4458 - val_loss: 0.7119 - val_mse: 0.7119\n",
      "Epoch 127/200\n",
      "25/25 [==============================] - 0s 5ms/step - loss: 0.4493 - mse: 0.4493 - val_loss: 0.7000 - val_mse: 0.7000\n",
      "Epoch 128/200\n",
      "25/25 [==============================] - 0s 5ms/step - loss: 0.4408 - mse: 0.4408 - val_loss: 0.7172 - val_mse: 0.7172\n",
      "Epoch 129/200\n",
      "25/25 [==============================] - 0s 5ms/step - loss: 0.4287 - mse: 0.4287 - val_loss: 0.7174 - val_mse: 0.7174\n",
      "Epoch 130/200\n",
      "25/25 [==============================] - 0s 5ms/step - loss: 0.4442 - mse: 0.4442 - val_loss: 0.7068 - val_mse: 0.7068\n",
      "Epoch 131/200\n",
      "25/25 [==============================] - 0s 5ms/step - loss: 0.4356 - mse: 0.4356 - val_loss: 0.7138 - val_mse: 0.7138\n",
      "Epoch 132/200\n",
      "25/25 [==============================] - 0s 5ms/step - loss: 0.4269 - mse: 0.4269 - val_loss: 0.7060 - val_mse: 0.7060\n",
      "Epoch 133/200\n",
      "25/25 [==============================] - 0s 5ms/step - loss: 0.4296 - mse: 0.4296 - val_loss: 0.7133 - val_mse: 0.7133\n",
      "Epoch 134/200\n",
      "25/25 [==============================] - 0s 5ms/step - loss: 0.4268 - mse: 0.4268 - val_loss: 0.7705 - val_mse: 0.7705\n",
      "Epoch 135/200\n",
      "25/25 [==============================] - 0s 9ms/step - loss: 0.4318 - mse: 0.4318 - val_loss: 0.6985 - val_mse: 0.6985\n",
      "Epoch 136/200\n",
      "25/25 [==============================] - 0s 5ms/step - loss: 0.4288 - mse: 0.4288 - val_loss: 0.7163 - val_mse: 0.7163\n",
      "Epoch 137/200\n",
      "25/25 [==============================] - 0s 5ms/step - loss: 0.4264 - mse: 0.4264 - val_loss: 0.7181 - val_mse: 0.7181\n",
      "Epoch 138/200\n",
      "25/25 [==============================] - 0s 5ms/step - loss: 0.4163 - mse: 0.4163 - val_loss: 0.7029 - val_mse: 0.7029\n",
      "Epoch 139/200\n",
      "25/25 [==============================] - 0s 5ms/step - loss: 0.4221 - mse: 0.4221 - val_loss: 0.6952 - val_mse: 0.6952\n",
      "Epoch 140/200\n",
      "25/25 [==============================] - 0s 5ms/step - loss: 0.4182 - mse: 0.4182 - val_loss: 0.7171 - val_mse: 0.7171\n",
      "Epoch 141/200\n",
      "25/25 [==============================] - 0s 5ms/step - loss: 0.4175 - mse: 0.4175 - val_loss: 0.7257 - val_mse: 0.7257\n",
      "Epoch 142/200\n",
      "25/25 [==============================] - 0s 5ms/step - loss: 0.4142 - mse: 0.4142 - val_loss: 0.6991 - val_mse: 0.6991\n",
      "Epoch 143/200\n",
      "25/25 [==============================] - 0s 5ms/step - loss: 0.4166 - mse: 0.4166 - val_loss: 0.6930 - val_mse: 0.6930\n",
      "Epoch 144/200\n",
      "25/25 [==============================] - 0s 5ms/step - loss: 0.4115 - mse: 0.4115 - val_loss: 0.7043 - val_mse: 0.7043\n",
      "Epoch 145/200\n",
      "25/25 [==============================] - 0s 5ms/step - loss: 0.4076 - mse: 0.4076 - val_loss: 0.7587 - val_mse: 0.7587\n",
      "Epoch 146/200\n",
      "25/25 [==============================] - 0s 5ms/step - loss: 0.4224 - mse: 0.4224 - val_loss: 0.7158 - val_mse: 0.7158\n",
      "Epoch 147/200\n",
      "25/25 [==============================] - 0s 5ms/step - loss: 0.4233 - mse: 0.4233 - val_loss: 0.7048 - val_mse: 0.7048\n",
      "Epoch 148/200\n",
      "25/25 [==============================] - 0s 5ms/step - loss: 0.4064 - mse: 0.4064 - val_loss: 0.6984 - val_mse: 0.6984\n",
      "Epoch 149/200\n",
      "25/25 [==============================] - 0s 5ms/step - loss: 0.4073 - mse: 0.4073 - val_loss: 0.7120 - val_mse: 0.7120\n",
      "Epoch 150/200\n",
      "25/25 [==============================] - 0s 5ms/step - loss: 0.4081 - mse: 0.4081 - val_loss: 0.6920 - val_mse: 0.6920\n",
      "Epoch 151/200\n",
      "25/25 [==============================] - 0s 9ms/step - loss: 0.4110 - mse: 0.4110 - val_loss: 0.7332 - val_mse: 0.7332\n",
      "Epoch 152/200\n",
      "25/25 [==============================] - 0s 5ms/step - loss: 0.4088 - mse: 0.4088 - val_loss: 0.7173 - val_mse: 0.7173\n",
      "Epoch 153/200\n",
      "25/25 [==============================] - 0s 5ms/step - loss: 0.4005 - mse: 0.4005 - val_loss: 0.7118 - val_mse: 0.7118\n",
      "Epoch 154/200\n",
      "25/25 [==============================] - 0s 5ms/step - loss: 0.4012 - mse: 0.4012 - val_loss: 0.6970 - val_mse: 0.6970\n",
      "Epoch 155/200\n",
      "25/25 [==============================] - 0s 5ms/step - loss: 0.3988 - mse: 0.3988 - val_loss: 0.6994 - val_mse: 0.6994\n",
      "Epoch 156/200\n",
      "25/25 [==============================] - 0s 8ms/step - loss: 0.3962 - mse: 0.3962 - val_loss: 0.7196 - val_mse: 0.7196\n",
      "Epoch 157/200\n",
      "25/25 [==============================] - 0s 5ms/step - loss: 0.4091 - mse: 0.4091 - val_loss: 0.7181 - val_mse: 0.7181\n",
      "Epoch 158/200\n",
      "25/25 [==============================] - 0s 5ms/step - loss: 0.3929 - mse: 0.3929 - val_loss: 0.7364 - val_mse: 0.7364\n",
      "Epoch 159/200\n",
      "25/25 [==============================] - 0s 5ms/step - loss: 0.4046 - mse: 0.4046 - val_loss: 0.7106 - val_mse: 0.7106\n",
      "Epoch 160/200\n",
      "25/25 [==============================] - 0s 5ms/step - loss: 0.3987 - mse: 0.3987 - val_loss: 0.7193 - val_mse: 0.7193\n",
      "Epoch 161/200\n",
      "25/25 [==============================] - 0s 5ms/step - loss: 0.3940 - mse: 0.3940 - val_loss: 0.7067 - val_mse: 0.7067\n",
      "Epoch 162/200\n",
      "25/25 [==============================] - 0s 5ms/step - loss: 0.3882 - mse: 0.3882 - val_loss: 0.7145 - val_mse: 0.7145\n",
      "Epoch 163/200\n",
      "25/25 [==============================] - 0s 5ms/step - loss: 0.3882 - mse: 0.3882 - val_loss: 0.7037 - val_mse: 0.7037\n",
      "Epoch 164/200\n",
      "25/25 [==============================] - 0s 8ms/step - loss: 0.3827 - mse: 0.3827 - val_loss: 0.7068 - val_mse: 0.7068\n",
      "Epoch 165/200\n",
      "25/25 [==============================] - 0s 5ms/step - loss: 0.3828 - mse: 0.3828 - val_loss: 0.7032 - val_mse: 0.7032\n",
      "Epoch 166/200\n",
      "25/25 [==============================] - 0s 5ms/step - loss: 0.3863 - mse: 0.3863 - val_loss: 0.7607 - val_mse: 0.7607\n",
      "Epoch 167/200\n",
      "25/25 [==============================] - 0s 5ms/step - loss: 0.3996 - mse: 0.3996 - val_loss: 0.7232 - val_mse: 0.7232\n",
      "Epoch 168/200\n",
      "25/25 [==============================] - 0s 5ms/step - loss: 0.3845 - mse: 0.3845 - val_loss: 0.7284 - val_mse: 0.7284\n",
      "Epoch 169/200\n",
      "25/25 [==============================] - 0s 5ms/step - loss: 0.3814 - mse: 0.3814 - val_loss: 0.7300 - val_mse: 0.7300\n",
      "Epoch 170/200\n",
      "25/25 [==============================] - 0s 5ms/step - loss: 0.3881 - mse: 0.3881 - val_loss: 0.7078 - val_mse: 0.7078\n",
      "Epoch 171/200\n",
      "25/25 [==============================] - 0s 5ms/step - loss: 0.3774 - mse: 0.3774 - val_loss: 0.7170 - val_mse: 0.7170\n",
      "Epoch 172/200\n",
      "25/25 [==============================] - 0s 5ms/step - loss: 0.3823 - mse: 0.3823 - val_loss: 0.7197 - val_mse: 0.7197\n",
      "Epoch 173/200\n",
      "25/25 [==============================] - 0s 5ms/step - loss: 0.3761 - mse: 0.3761 - val_loss: 0.7074 - val_mse: 0.7074\n",
      "Epoch 174/200\n",
      "25/25 [==============================] - 0s 5ms/step - loss: 0.3785 - mse: 0.3785 - val_loss: 0.7266 - val_mse: 0.7266\n",
      "Epoch 175/200\n",
      "25/25 [==============================] - 0s 5ms/step - loss: 0.3906 - mse: 0.3906 - val_loss: 0.7902 - val_mse: 0.7902\n",
      "Epoch 176/200\n",
      "25/25 [==============================] - 0s 5ms/step - loss: 0.3819 - mse: 0.3819 - val_loss: 0.7203 - val_mse: 0.7203\n",
      "Epoch 177/200\n",
      "25/25 [==============================] - 0s 5ms/step - loss: 0.3830 - mse: 0.3830 - val_loss: 0.7167 - val_mse: 0.7167\n",
      "Epoch 178/200\n",
      "25/25 [==============================] - 0s 5ms/step - loss: 0.3694 - mse: 0.3694 - val_loss: 0.6996 - val_mse: 0.6996\n",
      "Epoch 179/200\n",
      "25/25 [==============================] - 0s 5ms/step - loss: 0.3682 - mse: 0.3682 - val_loss: 0.7029 - val_mse: 0.7029\n",
      "Epoch 180/200\n",
      "25/25 [==============================] - 0s 5ms/step - loss: 0.3708 - mse: 0.3708 - val_loss: 0.7561 - val_mse: 0.7561\n",
      "Epoch 181/200\n",
      "25/25 [==============================] - 0s 5ms/step - loss: 0.3816 - mse: 0.3816 - val_loss: 0.6982 - val_mse: 0.6982\n",
      "Epoch 182/200\n",
      "25/25 [==============================] - 0s 5ms/step - loss: 0.3732 - mse: 0.3732 - val_loss: 0.7375 - val_mse: 0.7375\n",
      "Epoch 183/200\n",
      "25/25 [==============================] - 0s 5ms/step - loss: 0.3713 - mse: 0.3713 - val_loss: 0.7037 - val_mse: 0.7037\n",
      "Epoch 184/200\n",
      "25/25 [==============================] - 0s 5ms/step - loss: 0.3752 - mse: 0.3752 - val_loss: 0.7029 - val_mse: 0.7029\n",
      "Epoch 185/200\n",
      "25/25 [==============================] - 0s 5ms/step - loss: 0.3658 - mse: 0.3658 - val_loss: 0.7111 - val_mse: 0.7111\n",
      "Epoch 186/200\n",
      "25/25 [==============================] - 0s 5ms/step - loss: 0.3606 - mse: 0.3606 - val_loss: 0.7090 - val_mse: 0.7090\n",
      "Epoch 187/200\n",
      "25/25 [==============================] - 0s 5ms/step - loss: 0.3649 - mse: 0.3649 - val_loss: 0.7152 - val_mse: 0.7152\n",
      "Epoch 188/200\n",
      "25/25 [==============================] - 0s 5ms/step - loss: 0.3655 - mse: 0.3655 - val_loss: 0.7124 - val_mse: 0.7124\n",
      "Epoch 189/200\n",
      "25/25 [==============================] - 0s 5ms/step - loss: 0.3682 - mse: 0.3682 - val_loss: 0.7355 - val_mse: 0.7355\n",
      "Epoch 190/200\n",
      "25/25 [==============================] - 0s 5ms/step - loss: 0.3762 - mse: 0.3762 - val_loss: 0.7295 - val_mse: 0.7295\n",
      "Epoch 191/200\n",
      "25/25 [==============================] - 0s 5ms/step - loss: 0.3619 - mse: 0.3619 - val_loss: 0.7143 - val_mse: 0.7143\n",
      "Epoch 192/200\n",
      "25/25 [==============================] - 0s 9ms/step - loss: 0.3579 - mse: 0.3579 - val_loss: 0.7049 - val_mse: 0.7049\n",
      "Epoch 193/200\n",
      "25/25 [==============================] - 0s 5ms/step - loss: 0.3555 - mse: 0.3555 - val_loss: 0.7226 - val_mse: 0.7226\n",
      "Epoch 194/200\n",
      "25/25 [==============================] - 0s 5ms/step - loss: 0.3638 - mse: 0.3638 - val_loss: 0.7028 - val_mse: 0.7028\n",
      "Epoch 195/200\n",
      "25/25 [==============================] - 0s 5ms/step - loss: 0.3594 - mse: 0.3594 - val_loss: 0.7219 - val_mse: 0.7219\n",
      "Epoch 196/200\n",
      "25/25 [==============================] - 0s 5ms/step - loss: 0.3471 - mse: 0.3471 - val_loss: 0.6973 - val_mse: 0.6973\n",
      "Epoch 197/200\n",
      "25/25 [==============================] - 0s 5ms/step - loss: 0.3689 - mse: 0.3689 - val_loss: 0.7206 - val_mse: 0.7206\n",
      "Epoch 198/200\n",
      "25/25 [==============================] - 0s 6ms/step - loss: 0.3550 - mse: 0.3550 - val_loss: 0.7254 - val_mse: 0.7254\n",
      "Epoch 199/200\n",
      "25/25 [==============================] - 0s 5ms/step - loss: 0.3494 - mse: 0.3494 - val_loss: 0.7140 - val_mse: 0.7140\n",
      "Epoch 200/200\n",
      "25/25 [==============================] - 0s 9ms/step - loss: 0.3497 - mse: 0.3497 - val_loss: 0.7092 - val_mse: 0.7092\n"
     ]
    }
   ],
   "source": [
    "# 3. Train the model\n",
    "history = model.fit(X_train_scaled, y_train, epochs=200, validation_data=(X_val_scaled, y_val), verbose=1)\n",
    "# history = model.fit(X_train_scaled, y_train, epochs=200, validation_data=(X_val_scaled, y_val), verbose=1, callbacks=[early_stopping])"
   ]
  },
  {
   "cell_type": "code",
   "execution_count": 431,
   "metadata": {
    "slideshow": {
     "slide_type": "slide"
    }
   },
   "outputs": [
    {
     "name": "stdout",
     "output_type": "stream",
     "text": [
      "6/6 [==============================] - 0s 4ms/step - loss: 0.5993 - mse: 0.5993\n"
     ]
    }
   ],
   "source": [
    "# 4. Evaluate the model\n",
    "test_loss, test_mse = model.evaluate(X_test_scaled, y_test, verbose=1)"
   ]
  },
  {
   "cell_type": "code",
   "execution_count": 432,
   "metadata": {
    "slideshow": {
     "slide_type": "slide"
    }
   },
   "outputs": [
    {
     "name": "stdout",
     "output_type": "stream",
     "text": [
      "6/6 [==============================] - 0s 2ms/step\n"
     ]
    }
   ],
   "source": [
    "# Make predictions\n",
    "y_pred = model.predict(X_test_scaled)"
   ]
  },
  {
   "cell_type": "code",
   "execution_count": 433,
   "metadata": {
    "slideshow": {
     "slide_type": "slide"
    }
   },
   "outputs": [
    {
     "name": "stdout",
     "output_type": "stream",
     "text": [
      "Test MSE: 0.5993037223815918\n",
      "Test RMSE: 0.7741470935045819\n",
      "Test R^2: 0.8533044134807611\n",
      "Test MAE: 0.57619470764644\n"
     ]
    }
   ],
   "source": [
    "# Calculate R^2 and MAE\n",
    "r2 = r2_score(y_test, y_pred)\n",
    "mae = mean_absolute_error(y_test, y_pred)\n",
    "\n",
    "print(f\"Test MSE: {test_mse}\")\n",
    "print(f\"Test RMSE: {np.sqrt(test_mse)}\")\n",
    "print(f\"Test R^2: {r2}\")\n",
    "print(f\"Test MAE: {mae}\")"
   ]
  },
  {
   "cell_type": "code",
   "execution_count": 434,
   "metadata": {
    "slideshow": {
     "slide_type": "slide"
    }
   },
   "outputs": [
    {
     "data": {
      "image/png": "[encoded data removed]",
      "text/plain": [
       "<Figure size 1200x600 with 1 Axes>"
      ]
     },
     "metadata": {},
     "output_type": "display_data"
    }
   ],
   "source": [
    "# 5. Plot the training and validation loss\n",
    "plt.figure(figsize=(12, 6))\n",
    "plt.plot(history.history['loss'])\n",
    "plt.plot(history.history['val_loss'])\n",
    "plt.title('Model loss')\n",
    "plt.ylabel('Loss')\n",
    "plt.xlabel('Epoch')\n",
    "plt.legend(['Train', 'Validation'], loc='upper right')\n",
    "plt.show()"
   ]
  },
  {
   "cell_type": "code",
   "execution_count": null,
   "metadata": {},
   "outputs": [],
   "source": []
  }
 ],
 "metadata": {
  "kernelspec": {
   "display_name": "Python 3 (ipykernel)",
   "language": "python",
   "name": "python3"
  },
  "language_info": {
   "codemirror_mode": {
    "name": "ipython",
    "version": 3
   },
   "file_extension": ".py",
   "mimetype": "text/x-python",
   "name": "python",
   "nbconvert_exporter": "python",
   "pygments_lexer": "ipython3",
   "version": "3.10.12"
  }
 },
 "nbformat": 4,
 "nbformat_minor": 4
}
