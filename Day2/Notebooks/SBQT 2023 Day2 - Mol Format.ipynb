{
 "cells": [
  {
   "cell_type": "markdown",
   "id": "60f0801a-e90d-41be-88a2-4d0553a08821",
   "metadata": {},
   "source": [
    "# SBQT 2023 - Day 2 - Mol Format - RDKit"
   ]
  },
  {
   "cell_type": "code",
   "execution_count": null,
   "id": "94ce5b78-302d-4820-95c0-e3b7764b4532",
   "metadata": {},
   "outputs": [],
   "source": [
    "# import rdkit\n",
    "# from rdkit import Chem\n",
    "# from rdkit.Chem import Draw\n",
    "# from rdkit.Chem import Descriptors\n",
    "# from rdkit.Chem import AllChem\n",
    "# import numpy as np"
   ]
  },
  {
   "cell_type": "code",
   "execution_count": null,
   "id": "467eaa02",
   "metadata": {},
   "outputs": [],
   "source": []
  },
  {
   "cell_type": "code",
   "execution_count": null,
   "id": "2f8d42a2-a390-4d0b-a1c4-a651ad6cc363",
   "metadata": {},
   "outputs": [],
   "source": [
    "# Molecule in MOL format\n",
    "mol_data = \"\"\"\n",
    "Mrv2310 08232311192D          \n",
    "\n",
    "  0  0  0     0  0            999 V3000\n",
    "M  V30 BEGIN CTAB\n",
    "M  V30 COUNTS 6 5 0 0 1\n",
    "M  V30 BEGIN ATOM\n",
    "M  V30 1 N -3.1395 -0.3241 0 0\n",
    "M  V30 2 C -1.8058 0.4459 0 0 CFG=2\n",
    "M  V30 3 C -0.4721 -0.3241 0 0\n",
    "M  V30 4 O 0.8616 0.4459 0 0 CHG=-1\n",
    "M  V30 5 O -0.4721 -1.8641 0 0\n",
    "M  V30 6 C -1.8058 1.9859 0 0\n",
    "M  V30 END ATOM\n",
    "M  V30 BEGIN BOND\n",
    "M  V30 1 1 2 1 CFG=1\n",
    "M  V30 2 1 2 3\n",
    "M  V30 3 1 3 4\n",
    "M  V30 4 2 3 5\n",
    "M  V30 5 1 2 6\n",
    "M  V30 END BOND\n",
    "M  V30 END CTAB\n",
    "M  END\n",
    "\"\"\""
   ]
  },
  {
   "cell_type": "code",
   "execution_count": null,
   "id": "8861056e-22ba-49db-bb86-7d51406cbed0",
   "metadata": {},
   "outputs": [],
   "source": [
    "# # Parse the molecule\n",
    "# mol = Chem.MolFromMolBlock(mol_data)\n",
    "# #mol = Chem.MolFromMolFile(\"L-Alanina.mol\")"
   ]
  },
  {
   "cell_type": "code",
   "execution_count": null,
   "id": "099ad29b",
   "metadata": {},
   "outputs": [],
   "source": []
  },
  {
   "cell_type": "code",
   "execution_count": null,
   "id": "131a8e9f",
   "metadata": {},
   "outputs": [],
   "source": [
    "#mol = Chem.MolFromMolBlock(mol_data)\n",
    "#mol = Chem.MolFromMolFile(\"L-Alanina.mol\")"
   ]
  },
  {
   "cell_type": "code",
   "execution_count": null,
   "id": "f9ef05d8",
   "metadata": {},
   "outputs": [],
   "source": []
  },
  {
   "cell_type": "code",
   "execution_count": null,
   "id": "744fed57-18b2-4d15-8185-55ccbdf1ea31",
   "metadata": {},
   "outputs": [],
   "source": [
    "# # Drawing the molecule\n",
    "# img = Draw.MolToImage(mol)\n",
    "# img"
   ]
  },
  {
   "cell_type": "code",
   "execution_count": null,
   "id": "535de2e3",
   "metadata": {},
   "outputs": [],
   "source": []
  },
  {
   "cell_type": "code",
   "execution_count": null,
   "id": "2255838f-7156-4def-80a1-a99dfeb81a0e",
   "metadata": {},
   "outputs": [],
   "source": [
    "# from rdkit.Chem import Descriptors"
   ]
  },
  {
   "cell_type": "code",
   "execution_count": null,
   "id": "28ad677c-f21d-4ab5-a3fe-d71104d7ad3a",
   "metadata": {},
   "outputs": [],
   "source": [
    "# # Extracting some common molecular descriptors\n",
    "# mol_weight = Descriptors.MolWt(mol)\n",
    "# num_h_donors = Descriptors.NumHDonors(mol)\n",
    "# num_h_acceptors = Descriptors.NumHAcceptors(mol)\n",
    "# logP = Descriptors.MolLogP(mol)\n",
    "# N_Rings = Descriptors.rdMolDescriptors.CalcNumRings(mol)"
   ]
  },
  {
   "cell_type": "code",
   "execution_count": null,
   "id": "e4dc38e2",
   "metadata": {},
   "outputs": [],
   "source": []
  },
  {
   "cell_type": "code",
   "execution_count": null,
   "id": "c7282b39-504e-4a05-a0b0-723d40c02813",
   "metadata": {},
   "outputs": [],
   "source": [
    "# print(f\"Molecular Weight: {mol_weight}\")\n",
    "# print(f\"Number of Hydrogen Donors: {num_h_donors}\")\n",
    "# print(f\"Number of Hydrogen Acceptors: {num_h_acceptors}\")\n",
    "# print(f\"logP: {logP}\")\n",
    "# print(f\"Nº of rings: {N_Rings}\")"
   ]
  },
  {
   "cell_type": "code",
   "execution_count": null,
   "id": "ef98b05c",
   "metadata": {},
   "outputs": [],
   "source": []
  },
  {
   "cell_type": "markdown",
   "id": "8eb96bbd",
   "metadata": {},
   "source": [
    "---\n",
    "---"
   ]
  },
  {
   "attachments": {},
   "cell_type": "markdown",
   "id": "9cc05936-e276-4a08-b750-22b461567770",
   "metadata": {},
   "source": [
    "# MACCS (Molecular ACCess System) Fingerprints"
   ]
  },
  {
   "cell_type": "code",
   "execution_count": null,
   "id": "7b5988c8-8a02-4a8b-8e9d-0aeffdd8cb11",
   "metadata": {},
   "outputs": [],
   "source": [
    "# from rdkit.Chem import MACCSkeys"
   ]
  },
  {
   "cell_type": "code",
   "execution_count": null,
   "id": "c8772ebd",
   "metadata": {},
   "outputs": [],
   "source": []
  },
  {
   "cell_type": "code",
   "execution_count": null,
   "id": "639b58c9-d483-4a15-94a3-7a85bf695b55",
   "metadata": {},
   "outputs": [],
   "source": [
    "# # Generating MACCS fingerprints\n",
    "# maccs_a = MACCSkeys.GenMACCSKeys(mol)\n",
    "# maccs_fp_list_a = list(maccs_a.ToBitString())\n",
    "# print(f\"MACCS fingerprint for the molecule: {maccs_fp_list_a}\")"
   ]
  },
  {
   "cell_type": "code",
   "execution_count": null,
   "id": "91eedb8e",
   "metadata": {},
   "outputs": [],
   "source": []
  },
  {
   "cell_type": "code",
   "execution_count": null,
   "id": "67530ae8-865b-44bf-b838-6b09ef6c5f89",
   "metadata": {},
   "outputs": [],
   "source": [
    "# maccs_fp_list_a.count(\"1\")"
   ]
  },
  {
   "cell_type": "code",
   "execution_count": null,
   "id": "c7920931",
   "metadata": {},
   "outputs": [],
   "source": []
  },
  {
   "cell_type": "markdown",
   "id": "79da0626-7b12-4420-b9a4-16a91c52eaae",
   "metadata": {},
   "source": [
    "# Morgan Fingerprints"
   ]
  },
  {
   "cell_type": "code",
   "execution_count": null,
   "id": "2229fb2c-2a34-4027-8369-93eff38832c9",
   "metadata": {},
   "outputs": [],
   "source": [
    "# # Generating a Morgan fingerprint for the molecule\n",
    "# fp = AllChem.GetMorganFingerprintAsBitVect(mol, radius=2, nBits=2048)\n",
    "# #fp = AllChem.GetMorganFingerprintAsBitVect(mol, radius=2, nBits=2048, useChirality=True, useFeatures=False, useBondTypes=True)"
   ]
  },
  {
   "cell_type": "code",
   "execution_count": null,
   "id": "194f5e2a",
   "metadata": {},
   "outputs": [],
   "source": []
  },
  {
   "cell_type": "code",
   "execution_count": null,
   "id": "514c14a2-4db6-4b91-b21b-45d38ddea95b",
   "metadata": {},
   "outputs": [],
   "source": [
    "# # Convert fingerprint to a list of bits for further processing\n",
    "# morgan_fp_list_a = list(fp)"
   ]
  },
  {
   "cell_type": "code",
   "execution_count": null,
   "id": "65ab8b6e",
   "metadata": {},
   "outputs": [],
   "source": []
  },
  {
   "cell_type": "code",
   "execution_count": null,
   "id": "6d517e78-1fce-4fd5-8014-d3d20a32ee9b",
   "metadata": {},
   "outputs": [],
   "source": [
    "# print(morgan_fp_list_a)"
   ]
  },
  {
   "cell_type": "code",
   "execution_count": null,
   "id": "d65e3606",
   "metadata": {},
   "outputs": [],
   "source": []
  },
  {
   "cell_type": "code",
   "execution_count": null,
   "id": "c87c9ce1",
   "metadata": {},
   "outputs": [],
   "source": [
    "# len(morgan_fp_list_a)"
   ]
  },
  {
   "cell_type": "code",
   "execution_count": null,
   "id": "de3f44a7",
   "metadata": {},
   "outputs": [],
   "source": []
  },
  {
   "cell_type": "code",
   "execution_count": null,
   "id": "59ca6cb7-9f80-4f04-97a7-83394aa29959",
   "metadata": {},
   "outputs": [],
   "source": [
    "# morgan_fp_list_a.count(1)"
   ]
  },
  {
   "cell_type": "code",
   "execution_count": null,
   "id": "e357d16d",
   "metadata": {},
   "outputs": [],
   "source": []
  },
  {
   "cell_type": "markdown",
   "id": "bd2eaf65-d2f0-4b93-9ab0-5c0ef2b681fa",
   "metadata": {},
   "source": [
    "# Testing anoter molecule"
   ]
  },
  {
   "cell_type": "code",
   "execution_count": null,
   "id": "ee7f2c50-81a5-4ca1-b8f4-a96c0ba5899e",
   "metadata": {},
   "outputs": [],
   "source": [
    "mol_data_with_H = \"\"\"\n",
    "  Mrv2310 08232316492D          \n",
    "\n",
    "  0  0  0     0  0            999 V3000\n",
    "M  V30 BEGIN CTAB\n",
    "M  V30 COUNTS 6 5 0 0 1\n",
    "M  V30 BEGIN ATOM\n",
    "M  V30 1 N 1.458 2.7722 0 0\n",
    "M  V30 2 C 2.228 1.4386 0 0 CFG=1\n",
    "M  V30 3 C 3.768 1.4386 0 0\n",
    "M  V30 4 C 1.458 0.1049 0 0\n",
    "M  V30 5 O 2.228 -1.2288 0 0\n",
    "M  V30 6 O -0.082 0.1049 0 0\n",
    "M  V30 END ATOM\n",
    "M  V30 BEGIN BOND\n",
    "M  V30 1 1 2 1 CFG=1\n",
    "M  V30 2 1 2 3\n",
    "M  V30 3 1 2 4\n",
    "M  V30 4 1 4 5\n",
    "M  V30 5 2 4 6\n",
    "M  V30 END BOND\n",
    "M  V30 END CTAB\n",
    "M  END\n",
    "\"\"\""
   ]
  },
  {
   "cell_type": "code",
   "execution_count": null,
   "id": "10ac5349-2e05-4c0e-9f92-9b976303dd96",
   "metadata": {},
   "outputs": [],
   "source": [
    "# # Parse the molecule\n",
    "# mol_with_H = Chem.MolFromMolBlock(mol_data_with_H)"
   ]
  },
  {
   "cell_type": "code",
   "execution_count": null,
   "id": "2795385b",
   "metadata": {},
   "outputs": [],
   "source": []
  },
  {
   "cell_type": "code",
   "execution_count": null,
   "id": "2254e241-51b9-409e-8fb5-8c4751877cdf",
   "metadata": {},
   "outputs": [],
   "source": [
    "# # Drawing the molecule\n",
    "# img = Draw.MolToImage(mol_with_H)\n",
    "# img"
   ]
  },
  {
   "cell_type": "code",
   "execution_count": null,
   "id": "b6986863",
   "metadata": {},
   "outputs": [],
   "source": []
  },
  {
   "cell_type": "code",
   "execution_count": null,
   "id": "53528faa-ca43-4e21-b141-d1a1be63cee9",
   "metadata": {},
   "outputs": [],
   "source": [
    "# # Extracting some common molecular descriptors\n",
    "# mol_weight = Descriptors.MolWt(mol_with_H)\n",
    "# num_h_donors = Descriptors.NumHDonors(mol_with_H)\n",
    "# num_h_acceptors = Descriptors.NumHAcceptors(mol_with_H)\n",
    "# logP = Descriptors.MolLogP(mol_with_H)"
   ]
  },
  {
   "cell_type": "code",
   "execution_count": null,
   "id": "e1acc96f",
   "metadata": {},
   "outputs": [],
   "source": []
  },
  {
   "cell_type": "code",
   "execution_count": null,
   "id": "cf14414b-4bb4-4c9a-9a05-c541e6235e53",
   "metadata": {
    "scrolled": true
   },
   "outputs": [],
   "source": [
    "# print(f\"Molecular Weight: {mol_weight}\")\n",
    "# print(f\"Number of Hydrogen Donors: {num_h_donors}\")\n",
    "# print(f\"Number of Hydrogen Acceptors: {num_h_acceptors}\")\n",
    "# print(f\"logP: {logP}\")"
   ]
  },
  {
   "cell_type": "code",
   "execution_count": null,
   "id": "cfa9ed70",
   "metadata": {},
   "outputs": [],
   "source": []
  },
  {
   "cell_type": "markdown",
   "id": "eb3a7aae-5a65-44f5-9903-ca610186407a",
   "metadata": {},
   "source": [
    "# MACCS (Molecular ACCess System) Fingerprint Molecule 2"
   ]
  },
  {
   "cell_type": "code",
   "execution_count": null,
   "id": "9dd0306c-ae6c-43b4-9964-5c5fccd4b6d8",
   "metadata": {},
   "outputs": [],
   "source": [
    "# # Generating MACCS fingerprints\n",
    "# maccs_b = MACCSkeys.GenMACCSKeys(mol_with_H)\n",
    "# maccs_fp_list_b = list(maccs_a.ToBitString())\n",
    "# print(f\"MACCS fingerprint for the molecule: {maccs_fp_list_b}\")"
   ]
  },
  {
   "cell_type": "code",
   "execution_count": null,
   "id": "97ca7679-c0fe-4f5e-a7da-017ec65d3dfb",
   "metadata": {},
   "outputs": [],
   "source": [
    "# maccs_fp_list_b.count(\"1\")"
   ]
  },
  {
   "cell_type": "markdown",
   "id": "76048e44-20f0-432e-afe7-24ea8f4e46b2",
   "metadata": {},
   "source": [
    "# Morgan Fingerprints"
   ]
  },
  {
   "cell_type": "code",
   "execution_count": null,
   "id": "a78151a3-391c-4280-ab9c-501ff93ad3eb",
   "metadata": {},
   "outputs": [],
   "source": [
    "# # Generating a Morgan fingerprint for the molecule\n",
    "# fp2 = AllChem.GetMorganFingerprintAsBitVect(mol_with_H, radius=2, nBits=2048)\n",
    "# #fp = AllChem.GetMorganFingerprintAsBitVect(mol_with_H, radius=2, nBits=2048, useChirality=True, useFeatures=True, useBondTypes=True)"
   ]
  },
  {
   "cell_type": "code",
   "execution_count": null,
   "id": "524f2c80",
   "metadata": {},
   "outputs": [],
   "source": []
  },
  {
   "cell_type": "code",
   "execution_count": null,
   "id": "41e54878-6fd3-47c0-bbe6-464af607db9e",
   "metadata": {},
   "outputs": [],
   "source": [
    "# morgan_fp_list_b = list(fp2)"
   ]
  },
  {
   "cell_type": "code",
   "execution_count": null,
   "id": "a2c6f7f9",
   "metadata": {},
   "outputs": [],
   "source": []
  },
  {
   "cell_type": "code",
   "execution_count": null,
   "id": "7b26fe12-c814-4db6-be4c-021e4ed588e8",
   "metadata": {},
   "outputs": [],
   "source": [
    "# print(morgan_fp_list_b)"
   ]
  },
  {
   "cell_type": "code",
   "execution_count": null,
   "id": "32742b99-0afc-4b5b-9ae7-f1f60d904f25",
   "metadata": {},
   "outputs": [],
   "source": [
    "# morgan_fp_list_b.count(1)"
   ]
  },
  {
   "cell_type": "markdown",
   "id": "d3234f7e-ebb8-4c93-8caa-bc17d2ceb96d",
   "metadata": {},
   "source": [
    "# Comparing the fingerprints"
   ]
  },
  {
   "cell_type": "code",
   "execution_count": null,
   "id": "cc975ea6-ce5d-4fb5-9cc1-e9781a41ffae",
   "metadata": {},
   "outputs": [],
   "source": [
    "# from rdkit import DataStructs\n",
    "# from rdkit.DataStructs import CreateFromBitString\n",
    "\n",
    "# # Compute the Tanimoto similarity\n",
    "# similarity = DataStructs.FingerprintSimilarity(maccs_b, maccs_a)\n",
    "# print(\"Tanimoto MACCS Similarity:\", similarity)"
   ]
  },
  {
   "cell_type": "code",
   "execution_count": null,
   "id": "c330b45c",
   "metadata": {},
   "outputs": [],
   "source": []
  },
  {
   "cell_type": "code",
   "execution_count": null,
   "id": "af14e3e6-705d-46cc-9a67-b238deb13d07",
   "metadata": {},
   "outputs": [],
   "source": [
    "# # Convert lists to ExplicitBitVect objects\n",
    "# fp_a_morgan = CreateFromBitString(\"\".join(map(str, morgan_fp_list_a)))\n",
    "# fp_b_morgan = CreateFromBitString(\"\".join(map(str, morgan_fp_list_b)))\n",
    "\n",
    "# # Compute the Tanimoto similarity\n",
    "# similarity = DataStructs.FingerprintSimilarity(fp_b_morgan, fp_a_morgan)\n",
    "# print(\"Tanimoto Morgan Similarity:\", similarity)"
   ]
  },
  {
   "cell_type": "code",
   "execution_count": null,
   "id": "0b28b072",
   "metadata": {},
   "outputs": [],
   "source": []
  },
  {
   "cell_type": "markdown",
   "id": "eb0c99dc-c7a0-47f7-a2a5-47dab050fb7e",
   "metadata": {},
   "source": [
    "# Dealing with 3D molecules"
   ]
  },
  {
   "cell_type": "code",
   "execution_count": null,
   "id": "1912aa1e-478d-48d6-bde6-3450714b3eea",
   "metadata": {},
   "outputs": [],
   "source": [
    "# import numpy as np\n",
    "# import rdkit\n",
    "# from rdkit import Chem\n",
    "# from rdkit.Chem import AllChem\n",
    "# from rdkit.Chem.rdMolDescriptors import CalcCoulombMat"
   ]
  },
  {
   "cell_type": "code",
   "execution_count": null,
   "id": "3cb52310",
   "metadata": {},
   "outputs": [],
   "source": []
  },
  {
   "cell_type": "code",
   "execution_count": null,
   "id": "9cd4deab",
   "metadata": {},
   "outputs": [],
   "source": [
    "# smiles = 'CN1C=NC2=C1C(=O)N(C(=O)N2C)C' # caffeine molecule"
   ]
  },
  {
   "cell_type": "code",
   "execution_count": null,
   "id": "382a73cf",
   "metadata": {},
   "outputs": [],
   "source": []
  },
  {
   "cell_type": "code",
   "execution_count": null,
   "id": "95ba5fe2",
   "metadata": {},
   "outputs": [],
   "source": [
    "# caffeine = Chem.MolFromSmiles(smiles, sanitize=True)"
   ]
  },
  {
   "cell_type": "code",
   "execution_count": null,
   "id": "a0906ca4",
   "metadata": {},
   "outputs": [],
   "source": []
  },
  {
   "cell_type": "code",
   "execution_count": null,
   "id": "d26eb66e",
   "metadata": {},
   "outputs": [],
   "source": [
    "# caffeine = Chem.AddHs(caffeine)"
   ]
  },
  {
   "cell_type": "code",
   "execution_count": null,
   "id": "eeddc71b",
   "metadata": {},
   "outputs": [],
   "source": []
  },
  {
   "cell_type": "code",
   "execution_count": null,
   "id": "d022883c",
   "metadata": {},
   "outputs": [],
   "source": [
    "# AllChem.EmbedMolecule(caffeine)\n",
    "# AllChem.UFFOptimizeMolecule(caffeine)"
   ]
  },
  {
   "cell_type": "code",
   "execution_count": null,
   "id": "c1834510",
   "metadata": {},
   "outputs": [],
   "source": []
  },
  {
   "cell_type": "code",
   "execution_count": null,
   "id": "f4b87e89",
   "metadata": {},
   "outputs": [],
   "source": [
    "# CM = CalcCoulombMat(caffeine) # returns a tuple of Coulomb matrices\n",
    "\n",
    "# coulomb_matrix_np = np.array(CM[0])\n",
    "\n",
    "# print(coulomb_matrix_np)"
   ]
  },
  {
   "cell_type": "code",
   "execution_count": null,
   "id": "ae12b0ba",
   "metadata": {},
   "outputs": [],
   "source": []
  },
  {
   "cell_type": "code",
   "execution_count": null,
   "id": "038158f6-2375-40fc-bee8-46ec269c4642",
   "metadata": {
    "scrolled": true
   },
   "outputs": [],
   "source": [
    "# coulomb_matrix_np.shape"
   ]
  },
  {
   "cell_type": "code",
   "execution_count": null,
   "id": "922f0987",
   "metadata": {},
   "outputs": [],
   "source": []
  },
  {
   "cell_type": "code",
   "execution_count": null,
   "id": "d2ec1942-ef7c-4cdb-a8a2-fcbf8900a6b9",
   "metadata": {
    "scrolled": true
   },
   "outputs": [],
   "source": [
    "import rdkit\n",
    "from rdkit import Chem\n",
    "from rdkit.Chem import AllChem\n",
    "from rdkit.Chem.rdMolDescriptors import CalcCoulombMat\n",
    "import numpy as np\n",
    "\n",
    "def reconstruct_square_matrix(flat_matrix):\n",
    "    size = int((-1 + np.sqrt(1 + 8 * len(flat_matrix))) / 2)\n",
    "    square_matrix = np.zeros((size, size))\n",
    "    \n",
    "    index = 0\n",
    "    for i in range(size):\n",
    "        for j in range(i, size):\n",
    "            square_matrix[i][j] = flat_matrix[index]\n",
    "            square_matrix[j][i] = flat_matrix[index]\n",
    "            index += 1\n",
    "    return square_matrix\n",
    "\n",
    "smiles = 'CN1C=NC2=C1C(=O)N(C(=O)N2C)C' # caffeine molecule\n",
    "caffeine = Chem.MolFromSmiles(smiles, sanitize=True)\n",
    "caffeine = Chem.AddHs(caffeine)\n",
    "AllChem.EmbedMolecule(caffeine)\n",
    "AllChem.UFFOptimizeMolecule(caffeine)\n",
    "CM = CalcCoulombMat(caffeine) # returns a tuple of Coulomb matrices\n",
    "\n",
    "square_CM = reconstruct_square_matrix(CM[0])\n",
    "np.set_printoptions(precision=3, suppress=True)\n",
    "print(square_CM)"
   ]
  },
  {
   "cell_type": "markdown",
   "id": "4ce5958e-2986-4d10-a113-5321f3ea4baf",
   "metadata": {},
   "source": [
    "Caffeine has the formula C₈H₁₀N₄O₂, RDKit only uses heavy atoms and the resulting matrix exclude the diagonal elements because they are constant."
   ]
  },
  {
   "cell_type": "code",
   "execution_count": null,
   "id": "9fa50e9e-3b62-4ea9-8093-b9b404356139",
   "metadata": {},
   "outputs": [],
   "source": [
    "import numpy as np\n",
    "from rdkit import Chem\n",
    "from rdkit.Chem import AllChem\n",
    "\n",
    "def compute_coulomb_matrix(mol):\n",
    "    num_atoms = mol.GetNumAtoms()\n",
    "    matrix = np.zeros((num_atoms, num_atoms))\n",
    "    conf = mol.GetConformer()\n",
    "    \n",
    "    for i in range(num_atoms):\n",
    "        atom_i = mol.GetAtomWithIdx(i)\n",
    "        Zi = atom_i.GetAtomicNum()\n",
    "        pos_i = conf.GetAtomPosition(i)\n",
    "        for j in range(num_atoms):\n",
    "            atom_j = mol.GetAtomWithIdx(j)\n",
    "            Zj = atom_j.GetAtomicNum()\n",
    "            pos_j = conf.GetAtomPosition(j)\n",
    "            if i == j:\n",
    "                matrix[i][j] = 0.5 * Zi**2.4\n",
    "            else:\n",
    "                Rij = np.linalg.norm(np.array(pos_i) - np.array(pos_j))\n",
    "                matrix[i][j] = Zi * Zj / Rij\n",
    "                \n",
    "    return matrix\n",
    "\n",
    "smiles = 'CN1C=NC2=C1C(=O)N(C(=O)N2C)C' # caffeine molecule\n",
    "caffeine = Chem.MolFromSmiles(smiles, sanitize=True)\n",
    "caffeine = Chem.AddHs(caffeine)\n",
    "AllChem.EmbedMolecule(caffeine)\n",
    "AllChem.UFFOptimizeMolecule(caffeine)\n",
    "\n",
    "CM = compute_coulomb_matrix(caffeine)\n",
    "\n",
    "np.set_printoptions(precision=3, suppress=True)\n",
    "print(CM)\n"
   ]
  },
  {
   "cell_type": "code",
   "execution_count": null,
   "id": "e12ec135-00e4-4a6e-99e8-f0f4fa2cd561",
   "metadata": {},
   "outputs": [],
   "source": [
    "import numpy as np\n",
    "import matplotlib.pyplot as plt\n",
    "\n",
    "# Plotting the Coulomb matrix\n",
    "plt.figure(figsize=(10, 8))\n",
    "plt.imshow(CM, cmap='hot', interpolation='nearest')\n",
    "plt.colorbar(label='Coulomb Matrix Value')\n",
    "plt.title('Coulomb Matrix for Caffeine')\n",
    "plt.xlabel('Atom Index')\n",
    "plt.ylabel('Atom Index')\n",
    "plt.show()\n"
   ]
  },
  {
   "cell_type": "code",
   "execution_count": null,
   "id": "561f6fef-4745-4ee0-930e-57aa3e5788e7",
   "metadata": {
    "scrolled": true
   },
   "outputs": [],
   "source": [
    "import numpy as np\n",
    "import matplotlib.pyplot as plt\n",
    "from rdkit import Chem\n",
    "from rdkit.Chem import AllChem\n",
    "\n",
    "def compute_coulomb_matrix(mol):\n",
    "    num_atoms = mol.GetNumAtoms()\n",
    "    matrix = np.zeros((num_atoms, num_atoms))\n",
    "    conf = mol.GetConformer()\n",
    "    \n",
    "    for i in range(num_atoms):\n",
    "        atom_i = mol.GetAtomWithIdx(i)\n",
    "        Zi = atom_i.GetAtomicNum()\n",
    "        pos_i = conf.GetAtomPosition(i)\n",
    "        for j in range(num_atoms):\n",
    "            atom_j = mol.GetAtomWithIdx(j)\n",
    "            Zj = atom_j.GetAtomicNum()\n",
    "            pos_j = conf.GetAtomPosition(j)\n",
    "            if i == j:\n",
    "                matrix[i][j] = 0.5 * Zi**2.4\n",
    "            else:\n",
    "                Rij = np.linalg.norm(np.array(pos_i) - np.array(pos_j))\n",
    "                matrix[i][j] = Zi * Zj / Rij\n",
    "                \n",
    "    return matrix\n",
    "\n",
    "smiles = 'CN1C=NC2=C1C(=O)N(C(=O)N2C)C' # caffeine molecule\n",
    "caffeine = Chem.MolFromSmiles(smiles, sanitize=True)\n",
    "caffeine = Chem.RemoveHs(caffeine)  # Removing hydrogen atoms\n",
    "AllChem.EmbedMolecule(caffeine)\n",
    "AllChem.UFFOptimizeMolecule(caffeine)\n",
    "\n",
    "CM = compute_coulomb_matrix(caffeine)\n",
    "\n",
    "# Plotting the Coulomb matrix\n",
    "plt.figure(figsize=(10, 8))\n",
    "plt.imshow(CM, cmap='hot', interpolation='nearest')\n",
    "plt.colorbar(label='Coulomb Matrix Value')\n",
    "plt.title('Coulomb Matrix for Caffeine (No Hydrogens)')\n",
    "plt.xlabel('Atom Index')\n",
    "plt.ylabel('Atom Index')\n",
    "plt.show()"
   ]
  },
  {
   "cell_type": "markdown",
   "id": "71e2206f-079b-482e-96c4-8695ab1a5d1a",
   "metadata": {},
   "source": [
    "# Using the Dscribe package"
   ]
  },
  {
   "attachments": {
    "ad7739b8-6202-4776-a2f9-cd195067265e.png": {
     "image/png": "[encoded data removed]"
    }
   },
   "cell_type": "markdown",
   "id": "2cb211eb-f8a7-46c6-a65c-b95ae6bcdea2",
   "metadata": {},
   "source": [
    "![image.png](attachment:ad7739b8-6202-4776-a2f9-cd195067265e.png)"
   ]
  },
  {
   "cell_type": "code",
   "execution_count": null,
   "id": "72863cbd-e56e-4fd5-8fc2-99dc17c7b3a2",
   "metadata": {
    "scrolled": true
   },
   "outputs": [],
   "source": [
    "# from rdkit import Chem\n",
    "# from ase import Atoms\n",
    "# from dscribe.descriptors import SOAP\n",
    "# import py3Dmol"
   ]
  },
  {
   "cell_type": "code",
   "execution_count": null,
   "id": "a4f06db9",
   "metadata": {},
   "outputs": [],
   "source": []
  },
  {
   "cell_type": "code",
   "execution_count": null,
   "id": "d0dac1ab",
   "metadata": {},
   "outputs": [],
   "source": [
    "# Convert RDKit molecule to ASE atoms and optimize the geometry\n",
    "def rdkit_to_ase_and_optimize(rdkit_mol):\n",
    "    mol = Chem.AddHs(rdkit_mol)\n",
    "    AllChem.EmbedMolecule(mol, AllChem.ETKDG())\n",
    "    ff = AllChem.UFFGetMoleculeForceField(mol)\n",
    "    ff.Initialize()\n",
    "    ff.Minimize()\n",
    "    conf = mol.GetConformer(0)\n",
    "    positions = conf.GetPositions()\n",
    "    symbols = [atom.GetSymbol() for atom in mol.GetAtoms()]\n",
    "    return Atoms(positions=positions, symbols=symbols), mol"
   ]
  },
  {
   "cell_type": "code",
   "execution_count": null,
   "id": "be9e14c1",
   "metadata": {},
   "outputs": [],
   "source": [
    "# Function to show 3D visualization\n",
    "def show_3D(mol):\n",
    "    block = Chem.MolToMolBlock(mol)\n",
    "    viewer = py3Dmol.view(width=600, height=600)\n",
    "    viewer.addModel(block, \"sdf\")\n",
    "    viewer.setStyle({'stick': {}})\n",
    "    viewer.zoomTo()\n",
    "    viewer.show()"
   ]
  },
  {
   "cell_type": "code",
   "execution_count": null,
   "id": "3ff4246f",
   "metadata": {},
   "outputs": [],
   "source": [
    "# Molecule in MOL format\n",
    "mol_data = \"\"\"\n",
    "Mrv2310 08232311192D          \n",
    "\n",
    "  0  0  0     0  0            999 V3000\n",
    "M  V30 BEGIN CTAB\n",
    "M  V30 COUNTS 6 5 0 0 1\n",
    "M  V30 BEGIN ATOM\n",
    "M  V30 1 N -3.1395 -0.3241 0 0\n",
    "M  V30 2 C -1.8058 0.4459 0 0 CFG=2\n",
    "M  V30 3 C -0.4721 -0.3241 0 0\n",
    "M  V30 4 O 0.8616 0.4459 0 0 CHG=-1\n",
    "M  V30 5 O -0.4721 -1.8641 0 0\n",
    "M  V30 6 C -1.8058 1.9859 0 0\n",
    "M  V30 END ATOM\n",
    "M  V30 BEGIN BOND\n",
    "M  V30 1 1 2 1 CFG=1\n",
    "M  V30 2 1 2 3\n",
    "M  V30 3 1 3 4\n",
    "M  V30 4 2 3 5\n",
    "M  V30 5 1 2 6\n",
    "M  V30 END BOND\n",
    "M  V30 END CTAB\n",
    "M  END\n",
    "\"\"\""
   ]
  },
  {
   "cell_type": "code",
   "execution_count": null,
   "id": "f8ca8ce5-4352-455d-9baa-3bb4418d7c01",
   "metadata": {},
   "outputs": [],
   "source": [
    "# # Create RDKit mol object\n",
    "# rdkit_mol = Chem.MolFromMolBlock(mol_data)"
   ]
  },
  {
   "cell_type": "code",
   "execution_count": null,
   "id": "763814c5",
   "metadata": {},
   "outputs": [],
   "source": []
  },
  {
   "cell_type": "code",
   "execution_count": null,
   "id": "90042f63",
   "metadata": {},
   "outputs": [],
   "source": [
    "# # Convert to ASE atoms and get optimized RDKit mol\n",
    "# ase_mol, optimized_rdkit_mol = rdkit_to_ase_and_optimize(rdkit_mol)"
   ]
  },
  {
   "cell_type": "code",
   "execution_count": null,
   "id": "73c405c9",
   "metadata": {},
   "outputs": [],
   "source": []
  },
  {
   "cell_type": "code",
   "execution_count": null,
   "id": "29e3fcaa",
   "metadata": {},
   "outputs": [],
   "source": [
    "# # Show in 3D\n",
    "# show_3D(optimized_rdkit_mol)"
   ]
  },
  {
   "cell_type": "code",
   "execution_count": null,
   "id": "64a0f3aa",
   "metadata": {},
   "outputs": [],
   "source": []
  },
  {
   "cell_type": "code",
   "execution_count": null,
   "id": "c0378d66-2e1b-4ece-87c3-63955954b046",
   "metadata": {},
   "outputs": [],
   "source": [
    "# from dscribe.descriptors import CoulombMatrix"
   ]
  },
  {
   "cell_type": "code",
   "execution_count": null,
   "id": "12ea9236",
   "metadata": {},
   "outputs": [],
   "source": []
  },
  {
   "cell_type": "code",
   "execution_count": null,
   "id": "e7a57c8c",
   "metadata": {},
   "outputs": [],
   "source": [
    "# # Define and compute the Coulomb Matrix\n",
    "# cm = CoulombMatrix(n_atoms_max=len(ase_mol))\n",
    "# #cm= CoulombMatrix(n_atoms_max=20)"
   ]
  },
  {
   "cell_type": "code",
   "execution_count": null,
   "id": "ead8c08d",
   "metadata": {},
   "outputs": [],
   "source": []
  },
  {
   "cell_type": "code",
   "execution_count": null,
   "id": "ca65b29d",
   "metadata": {},
   "outputs": [],
   "source": [
    "# desc_cm = cm.create(ase_mol)"
   ]
  },
  {
   "cell_type": "code",
   "execution_count": null,
   "id": "c2d56cec",
   "metadata": {},
   "outputs": [],
   "source": []
  },
  {
   "cell_type": "code",
   "execution_count": null,
   "id": "adc4256a-b7ec-431c-9a13-ab51b988d494",
   "metadata": {},
   "outputs": [],
   "source": [
    "# desc_cm"
   ]
  },
  {
   "cell_type": "code",
   "execution_count": null,
   "id": "115a9436",
   "metadata": {},
   "outputs": [],
   "source": []
  },
  {
   "cell_type": "code",
   "execution_count": null,
   "id": "96d085dd-8989-49f2-a673-1696760d29ca",
   "metadata": {},
   "outputs": [],
   "source": [
    "import matplotlib.pyplot as plt\n",
    "import numpy as np\n",
    "\n",
    "# Reshape the Coulomb matrix to its square form\n",
    "n_atoms = len(ase_mol)\n",
    "square_cm = np.reshape(desc_cm, (n_atoms, n_atoms))\n",
    "\n",
    "# Plotting the square Coulomb matrix\n",
    "plt.figure(figsize=(10, 8))\n",
    "plt.imshow(square_cm, cmap='viridis', interpolation='nearest')\n",
    "plt.colorbar(label='Coulomb matrix elements')\n",
    "plt.title(\"Coulomb Matrix\")\n",
    "plt.xlabel(\"Atom index\")\n",
    "plt.ylabel(\"Atom index\")\n",
    "plt.show()"
   ]
  },
  {
   "cell_type": "code",
   "execution_count": null,
   "id": "713d9a46-0597-4634-8e0e-0b99288ec2f2",
   "metadata": {
    "scrolled": true
   },
   "outputs": [],
   "source": [
    "from ase import Atoms\n",
    "from dscribe.descriptors import CoulombMatrix\n",
    "import matplotlib.pyplot as plt\n",
    "import numpy as np\n",
    "\n",
    "# Function to create an ASE Atoms object without hydrogens\n",
    "def filter_non_hydrogens(ase_atoms):\n",
    "    non_h_positions = [atom.position for atom in ase_atoms if atom.symbol != 'H']\n",
    "    non_h_symbols = [atom.symbol for atom in ase_atoms if atom.symbol != 'H']\n",
    "    return Atoms(positions=non_h_positions, symbols=non_h_symbols)\n",
    "\n",
    "# Assume ase_mol is your original molecule with H atoms\n",
    "# Create a new ase Atoms object without hydrogens\n",
    "ase_mol_noH = filter_non_hydrogens(ase_mol)\n",
    "\n",
    "# Define and compute the Coulomb Matrix without hydrogens\n",
    "cm = CoulombMatrix(n_atoms_max=len(ase_mol_noH))\n",
    "desc_cm_noH = cm.create(ase_mol_noH)\n",
    "\n",
    "# Reshape the Coulomb matrix to its square form\n",
    "n_atoms_noH = len(ase_mol_noH)\n",
    "square_cm_noH = np.reshape(desc_cm_noH, (n_atoms_noH, n_atoms_noH))\n",
    "\n",
    "# Plotting the square Coulomb matrix\n",
    "plt.figure(figsize=(10, 8))\n",
    "plt.imshow(square_cm_noH, cmap='viridis', interpolation='nearest')\n",
    "plt.colorbar(label='Coulomb matrix elements')\n",
    "plt.title(\"Coulomb Matrix (No Hydrogens)\")\n",
    "plt.xlabel(\"Atom index\")\n",
    "plt.ylabel(\"Atom index\")\n",
    "plt.show()\n"
   ]
  },
  {
   "cell_type": "markdown",
   "id": "5bc1c353-7c33-4c2f-bbb9-8c8ac7cfa809",
   "metadata": {},
   "source": [
    "# Zero-padding. A dirty trick"
   ]
  },
  {
   "cell_type": "code",
   "execution_count": null,
   "id": "1c7ee8b1-ce42-4f7d-957b-e875522adf76",
   "metadata": {},
   "outputs": [],
   "source": [
    "# # Define and compute the Coulomb Matrix without hydrogens\n",
    "# cm = CoulombMatrix(n_atoms_max=8)\n",
    "# desc_cm_noH = cm.create(ase_mol_noH)"
   ]
  },
  {
   "cell_type": "code",
   "execution_count": null,
   "id": "9b83c325",
   "metadata": {},
   "outputs": [],
   "source": []
  },
  {
   "cell_type": "code",
   "execution_count": null,
   "id": "ab4ffb27",
   "metadata": {},
   "outputs": [],
   "source": [
    "# # Reshape the Coulomb matrix to its square form\n",
    "# n_atoms_noH = len(ase_mol_noH)\n",
    "# square_cm_noH = np.reshape(desc_cm_noH, (8,8))"
   ]
  },
  {
   "cell_type": "code",
   "execution_count": null,
   "id": "2e5ac96c",
   "metadata": {},
   "outputs": [],
   "source": []
  },
  {
   "cell_type": "code",
   "execution_count": null,
   "id": "363e2a8f-3e89-4479-8cfc-93d98c1c8bdf",
   "metadata": {
    "scrolled": true
   },
   "outputs": [],
   "source": [
    "# square_cm_noH"
   ]
  },
  {
   "cell_type": "code",
   "execution_count": null,
   "id": "32bb6b58",
   "metadata": {},
   "outputs": [],
   "source": []
  },
  {
   "cell_type": "markdown",
   "id": "7520f9bc-fc54-4264-9da1-612a52c032ac",
   "metadata": {},
   "source": [
    "---\n",
    "\n",
    "---"
   ]
  },
  {
   "cell_type": "markdown",
   "id": "ecf5521d-d051-4ca3-a718-68c1e3d2a93b",
   "metadata": {},
   "source": [
    "# Smooth Overlap of Atomic Positions\n"
   ]
  },
  {
   "cell_type": "code",
   "execution_count": null,
   "id": "7dd1cc0d-9733-42f0-a57e-0e4b8564d77d",
   "metadata": {},
   "outputs": [],
   "source": [
    "# from dscribe.descriptors import SOAP"
   ]
  },
  {
   "cell_type": "code",
   "execution_count": null,
   "id": "6fcb4b16",
   "metadata": {},
   "outputs": [],
   "source": []
  },
  {
   "cell_type": "code",
   "execution_count": null,
   "id": "da724742-130d-4e52-9d77-384249c72027",
   "metadata": {},
   "outputs": [],
   "source": [
    "# # Define and compute the SOAP descriptor\n",
    "# soap = SOAP(species=[\"H\", \"C\", \"N\", \"O\"], r_cut=3.0, n_max=8, l_max=6)\n",
    "# desc = soap.create(ase_mol)"
   ]
  },
  {
   "cell_type": "code",
   "execution_count": null,
   "id": "9ba4d750",
   "metadata": {},
   "outputs": [],
   "source": []
  },
  {
   "cell_type": "markdown",
   "id": "12e3cb14-6428-4a87-8a1b-6f5903c1cc4d",
   "metadata": {},
   "source": [
    "\n",
    "- `species`: This is a list of the chemical symbols of the elements that are present in the system. For example, `[\"H\", \"C\", \"N\", \"O\"]` means that the system contains hydrogen, carbon, nitrogen, and oxygen atoms. This parameter tells the SOAP descriptor which elements to consider when computing the overlap of atomic positions.\n",
    "- `r_cut`: This is a cutoff radius in angstroms that defines the size of the local environment around each point. For example, `r_cut=3.0` means that only atoms within 3.0 angstroms from the point are included in the calculation of the SOAP descriptor. This parameter controls how much information is captured by the SOAP descriptor.\n",
    "- `n_max`: This is an integer that specifies the maximum radial quantum number for the spherical harmonic expansion of the atomic densities. For example, `n_max=8` means that the SOAP descriptor uses up to 8 radial basis functions to describe the radial variation of the atomic densities. This parameter affects the resolution and accuracy of the SOAP descriptor.\n",
    "- `l_max`: This is an integer that specifies the maximum angular quantum number for the spherical harmonic expansion of the atomic densities. For example, `l_max=6` means that the SOAP descriptor uses up to 6 angular basis functions to describe the angular variation of the atomic densities. This parameter affects the sensitivity and complexity of the SOAP."
   ]
  },
  {
   "cell_type": "code",
   "execution_count": null,
   "id": "6971b1a3-f5e1-4309-8c05-21491ccd0675",
   "metadata": {
    "scrolled": true
   },
   "outputs": [],
   "source": [
    "# print(desc)"
   ]
  },
  {
   "cell_type": "code",
   "execution_count": null,
   "id": "e1aa3a6a",
   "metadata": {},
   "outputs": [],
   "source": []
  },
  {
   "cell_type": "code",
   "execution_count": null,
   "id": "b3eae1cc-394d-44d5-be56-e2be4c302353",
   "metadata": {},
   "outputs": [],
   "source": [
    "# desc.shape"
   ]
  },
  {
   "cell_type": "code",
   "execution_count": null,
   "id": "e66f5b84",
   "metadata": {},
   "outputs": [],
   "source": []
  },
  {
   "cell_type": "code",
   "execution_count": null,
   "id": "5aa6e0d1-749d-4a93-b6d5-6ed1f528465f",
   "metadata": {},
   "outputs": [],
   "source": [
    "import matplotlib.pyplot as plt\n",
    "import numpy as np\n",
    "\n",
    "# Generate color map for the number of atoms\n",
    "colors = plt.cm.viridis(np.linspace(0, 1, desc.shape[0]))\n",
    "\n",
    "# Loop through all atoms to plot their descriptors\n",
    "for atom_index, color in zip(range(desc.shape[0]), colors):\n",
    "    plt.plot(desc[atom_index, :], color=color, alpha=0.5, label=f'Atom {atom_index}')\n",
    "\n",
    "plt.xlabel('Feature Index')\n",
    "plt.ylabel('Descriptor Value')\n",
    "plt.title('Descriptor Values for All Atoms')\n",
    "plt.legend(loc='upper right', title='Atom Index', fontsize='small')\n",
    "plt.show()"
   ]
  }
 ],
 "metadata": {
  "kernelspec": {
   "display_name": "py310w",
   "language": "python",
   "name": "python3"
  },
  "language_info": {
   "codemirror_mode": {
    "name": "ipython",
    "version": 3
   },
   "file_extension": ".py",
   "mimetype": "text/x-python",
   "name": "python",
   "nbconvert_exporter": "python",
   "pygments_lexer": "ipython3",
   "version": "3.10.12"
  }
 },
 "nbformat": 4,
 "nbformat_minor": 5
}
