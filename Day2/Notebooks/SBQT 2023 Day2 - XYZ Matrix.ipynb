{
 "cells": [
  {
   "cell_type": "markdown",
   "id": "7afc7172-111d-46af-ac0f-0e30d0cb8a9c",
   "metadata": {},
   "source": [
    "# SBQT 2023 - Day 2 - XYZ Matrix - One-Hot Encoding"
   ]
  },
  {
   "cell_type": "code",
   "execution_count": null,
   "id": "60841bb3-3fcd-4ed3-bd74-d5c76c85eb83",
   "metadata": {},
   "outputs": [],
   "source": [
    "# import numpy as np"
   ]
  },
  {
   "cell_type": "code",
   "execution_count": null,
   "id": "f378a4c9",
   "metadata": {},
   "outputs": [],
   "source": []
  },
  {
   "cell_type": "code",
   "execution_count": null,
   "id": "955a5faf-d62d-425a-838f-f0039c72d89c",
   "metadata": {},
   "outputs": [],
   "source": [
    "# Your string containing the coordinates\n",
    "xyz_string = '''\n",
    "O     0.396589377919      0.000000000004     -3.465122980611\n",
    "C     0.396589377919      0.458887359362     -2.344760836930\n",
    "C     0.396589377920     -0.363967579437     -1.081972135229\n",
    "H    -0.483097622080     -0.113741894107     -0.476303363544\n",
    "H     0.396589377920     -1.428968631061     -1.319897509388\n",
    "H     1.276276377920     -0.113741894107     -0.476303363545\n",
    "H     0.396589377920      1.561532639346     -2.183662185962\n",
    "'''"
   ]
  },
  {
   "cell_type": "code",
   "execution_count": null,
   "id": "b8ca2a37-4472-42db-a5f4-2262d1c6598a",
   "metadata": {},
   "outputs": [],
   "source": [
    "# # Initialize empty lists to store parsed coordinates and one-hot vectors\n",
    "# parsed_coordinates = []\n",
    "# one_hot_vectors = []"
   ]
  },
  {
   "cell_type": "code",
   "execution_count": null,
   "id": "d6ea8b25",
   "metadata": {},
   "outputs": [],
   "source": []
  },
  {
   "cell_type": "code",
   "execution_count": null,
   "id": "7e759796-66af-48a0-96d1-47fd0ecdc995",
   "metadata": {},
   "outputs": [],
   "source": [
    "# Loop through each line in the xyz_string\n",
    "for line in xyz_string.strip().split(\"\\n\"):\n",
    "    tokens = line.split()\n",
    "    atom = tokens[0]\n",
    "    x, y, z = map(float, tokens[1:])\n",
    "    \n",
    "    # Store parsed coordinates\n",
    "    parsed_coordinates.append([x, y, z])\n",
    "    \n",
    "    # Initialize a one-hot vector with zeros (3 elements for 'O', 'C', 'H')\n",
    "    one_hot_vector = np.zeros(3)\n",
    "    \n",
    "    # Update the one-hot vector based on the atom type [0, 0, 0] -> [1, 0, 0] (O)\n",
    "    if atom == 'O':\n",
    "        one_hot_vector[0] = 1\n",
    "    elif atom == 'C':\n",
    "        one_hot_vector[1] = 1\n",
    "    elif atom == 'H':\n",
    "        one_hot_vector[2] = 1\n",
    "    \n",
    "    # Store one-hot vectors\n",
    "    one_hot_vectors.append(one_hot_vector)"
   ]
  },
  {
   "cell_type": "code",
   "execution_count": null,
   "id": "6c40a495-f1c7-4b96-91c6-c7f9b9c19991",
   "metadata": {},
   "outputs": [],
   "source": [
    "# # Convert lists to NumPy arrays\n",
    "# parsed_coordinates = np.array(parsed_coordinates)\n",
    "# one_hot_vectors = np.array(one_hot_vectors)"
   ]
  },
  {
   "cell_type": "code",
   "execution_count": null,
   "id": "5d0efac4",
   "metadata": {},
   "outputs": [],
   "source": []
  },
  {
   "cell_type": "code",
   "execution_count": null,
   "id": "4c25ba96-0cd9-4507-986a-0b9a24bd7a9b",
   "metadata": {},
   "outputs": [],
   "source": [
    "# # Print parsed_coordinates and one_hot_vectors for illustration\n",
    "# print(\"Parsed Coordinates:\")\n",
    "# print(parsed_coordinates)"
   ]
  },
  {
   "cell_type": "code",
   "execution_count": null,
   "id": "be440173",
   "metadata": {},
   "outputs": [],
   "source": []
  },
  {
   "cell_type": "code",
   "execution_count": null,
   "id": "40e02c9a-6a1d-43ee-a7be-012dc6ddac85",
   "metadata": {},
   "outputs": [],
   "source": [
    "# print(\"One-Hot Vectors:\") # [O, C, H]\n",
    "# print(one_hot_vectors)"
   ]
  },
  {
   "cell_type": "code",
   "execution_count": null,
   "id": "c2a85ef8",
   "metadata": {},
   "outputs": [],
   "source": []
  },
  {
   "cell_type": "code",
   "execution_count": null,
   "id": "43583711-7d81-4c5c-b1a8-a10144d9072e",
   "metadata": {},
   "outputs": [],
   "source": [
    "# # Use np.hstack to horizontally stack the one-hot vectors and parsed coordinates\n",
    "# preprocessed_data = np.hstack((one_hot_vectors, parsed_coordinates))"
   ]
  },
  {
   "cell_type": "code",
   "execution_count": null,
   "id": "029f94ad",
   "metadata": {},
   "outputs": [],
   "source": []
  },
  {
   "cell_type": "code",
   "execution_count": null,
   "id": "588e38b2-d73f-45a8-ba8e-2306d706722e",
   "metadata": {
    "scrolled": true
   },
   "outputs": [],
   "source": [
    "# # Print the final preprocessed data\n",
    "# print(\"Preprocessed Data:\")\n",
    "# print(preprocessed_data)"
   ]
  },
  {
   "cell_type": "code",
   "execution_count": null,
   "id": "408a6cf5",
   "metadata": {},
   "outputs": [],
   "source": []
  },
  {
   "cell_type": "markdown",
   "id": "590c30f1-254b-4aa2-9113-f6893f93cfbf",
   "metadata": {},
   "source": [
    "---"
   ]
  },
  {
   "cell_type": "markdown",
   "id": "d6def4a3-c6a9-446a-89cc-669f6344ffa7",
   "metadata": {},
   "source": [
    "---"
   ]
  },
  {
   "cell_type": "markdown",
   "id": "7c15adef-9c50-4546-99a7-51a615ba1ff6",
   "metadata": {},
   "source": [
    "# SBQT - Day 2 - XYZ Matrix - One-Hot Encoding (EASIER)"
   ]
  },
  {
   "cell_type": "code",
   "execution_count": null,
   "id": "a486cc4a-ce0b-478e-b335-a8131f5eb2fb",
   "metadata": {},
   "outputs": [],
   "source": [
    "# import numpy as np\n",
    "# from sklearn.preprocessing import OneHotEncoder"
   ]
  },
  {
   "cell_type": "code",
   "execution_count": null,
   "id": "7a3cb512",
   "metadata": {},
   "outputs": [],
   "source": []
  },
  {
   "cell_type": "code",
   "execution_count": null,
   "id": "2c487bb1-8fc9-4411-bb88-c6c66b7f481b",
   "metadata": {},
   "outputs": [],
   "source": [
    "# Your string containing the coordinates\n",
    "xyz_string = '''\n",
    "O     0.396589377919      0.000000000004     -3.465122980611\n",
    "C     0.396589377919      0.458887359362     -2.344760836930\n",
    "C     0.396589377920     -0.363967579437     -1.081972135229\n",
    "H    -0.483097622080     -0.113741894107     -0.476303363544\n",
    "H     0.396589377920     -1.428968631061     -1.319897509388\n",
    "H     1.276276377920     -0.113741894107     -0.476303363545\n",
    "H     0.396589377920      1.561532639346     -2.183662185962\n",
    "'''"
   ]
  },
  {
   "cell_type": "code",
   "execution_count": null,
   "id": "e4d37f2f-9e97-460e-b985-4778c95d0545",
   "metadata": {},
   "outputs": [],
   "source": [
    "# # Initialize empty list to store parsed coordinates and atom labels\n",
    "# parsed_coordinates = []\n",
    "# atom_labels = []"
   ]
  },
  {
   "cell_type": "code",
   "execution_count": null,
   "id": "03ef1b14",
   "metadata": {},
   "outputs": [],
   "source": []
  },
  {
   "cell_type": "code",
   "execution_count": null,
   "id": "29deeb2f-7254-44dc-bb7c-50235247f54d",
   "metadata": {},
   "outputs": [],
   "source": [
    "# Loop through each line in the xyz_string\n",
    "for line in xyz_string.strip().split(\"\\n\"):\n",
    "    tokens = line.split()\n",
    "    atom = tokens[0]\n",
    "    x, y, z = map(float, tokens[1:])\n",
    "    \n",
    "    # Store parsed coordinates and atom labels\n",
    "    parsed_coordinates.append([x, y, z])\n",
    "    atom_labels.append([atom])"
   ]
  },
  {
   "cell_type": "code",
   "execution_count": null,
   "id": "e0da7073-9631-4949-b5c7-eee1a4211c78",
   "metadata": {},
   "outputs": [],
   "source": [
    "# # Convert lists to NumPy arrays\n",
    "# parsed_coordinates = np.array(parsed_coordinates)\n",
    "# atom_labels = np.array(atom_labels)"
   ]
  },
  {
   "cell_type": "code",
   "execution_count": null,
   "id": "3fae5c6d",
   "metadata": {},
   "outputs": [],
   "source": []
  },
  {
   "cell_type": "code",
   "execution_count": null,
   "id": "1dbd98e6-95f2-4eff-86b9-646f62833357",
   "metadata": {},
   "outputs": [],
   "source": [
    "# # Initialize OneHotEncoder and fit-transform the atom labels\n",
    "# encoder = OneHotEncoder(sparse_output=False)\n",
    "# one_hot_vectors = encoder.fit_transform(atom_labels)"
   ]
  },
  {
   "cell_type": "code",
   "execution_count": null,
   "id": "b0e5d3a7",
   "metadata": {},
   "outputs": [],
   "source": []
  },
  {
   "cell_type": "code",
   "execution_count": null,
   "id": "48f26dfc-87a5-4dbe-a03a-9da88170232b",
   "metadata": {},
   "outputs": [],
   "source": [
    "# # Print parsed_coordinates and one_hot_vectors for illustration\n",
    "# print(\"Parsed Coordinates:\")\n",
    "# print(parsed_coordinates)"
   ]
  },
  {
   "cell_type": "code",
   "execution_count": null,
   "id": "c8921dd9",
   "metadata": {},
   "outputs": [],
   "source": []
  },
  {
   "cell_type": "code",
   "execution_count": null,
   "id": "463710d6-8074-43b0-95ff-d0cd0598548e",
   "metadata": {},
   "outputs": [],
   "source": [
    "# print(\"One-Hot Vectors:\")  # The columns correspond to the atom labels in alphabetical order: ['C', 'H', 'O']\n",
    "# print(one_hot_vectors)"
   ]
  },
  {
   "cell_type": "code",
   "execution_count": null,
   "id": "38f18f14-3ed6-4c75-b7a8-57861e1e6751",
   "metadata": {},
   "outputs": [],
   "source": [
    "# # Use np.hstack to horizontally stack the one-hot vectors and parsed coordinates\n",
    "# preprocessed_data = np.hstack((one_hot_vectors, parsed_coordinates))"
   ]
  },
  {
   "cell_type": "code",
   "execution_count": null,
   "id": "65c6c0f4-0e06-47cb-8cc1-e0db8027cb6f",
   "metadata": {
    "scrolled": true
   },
   "outputs": [],
   "source": [
    "# # Print the final preprocessed data\n",
    "# print(\"Preprocessed Data:\")\n",
    "# print(preprocessed_data)"
   ]
  },
  {
   "cell_type": "markdown",
   "id": "4121a056-b659-41d1-8e4b-6f0543810c46",
   "metadata": {},
   "source": [
    "---"
   ]
  },
  {
   "cell_type": "markdown",
   "id": "904ebcbf-0fe3-4f25-9f4c-d3bfbcc8629d",
   "metadata": {},
   "source": [
    "---"
   ]
  },
  {
   "cell_type": "markdown",
   "id": "9a6d5588-8e86-491f-ab91-8ab821ad1757",
   "metadata": {},
   "source": [
    "# SBQT - Day 2 - XYZ Matrix - Atomic Numbers"
   ]
  },
  {
   "cell_type": "code",
   "execution_count": null,
   "id": "65d4dc9c-d12a-4498-8354-6690057a52bc",
   "metadata": {},
   "outputs": [],
   "source": [
    "# import numpy as np"
   ]
  },
  {
   "cell_type": "code",
   "execution_count": null,
   "id": "a57ebb7b",
   "metadata": {},
   "outputs": [],
   "source": []
  },
  {
   "cell_type": "code",
   "execution_count": null,
   "id": "41ab91ff-1394-40f4-8220-bec3cf0a70fc",
   "metadata": {},
   "outputs": [],
   "source": [
    "# Your string containing the coordinates\n",
    "xyz_string = '''\n",
    "O     0.396589377919      0.000000000004     -3.465122980611\n",
    "C     0.396589377919      0.458887359362     -2.344760836930\n",
    "C     0.396589377920     -0.363967579437     -1.081972135229\n",
    "H    -0.483097622080     -0.113741894107     -0.476303363544\n",
    "H     0.396589377920     -1.428968631061     -1.319897509388\n",
    "H     1.276276377920     -0.113741894107     -0.476303363545\n",
    "H     0.396589377920      1.561532639346     -2.183662185962\n",
    "'''"
   ]
  },
  {
   "cell_type": "code",
   "execution_count": null,
   "id": "092181cf-7cfd-4cfd-b562-8737adc11c2c",
   "metadata": {},
   "outputs": [],
   "source": [
    "# # Initialize an empty list to store parsed coordinates and atomic numbers\n",
    "# parsed_coordinates = []\n",
    "# atomic_numbers = []"
   ]
  },
  {
   "cell_type": "code",
   "execution_count": null,
   "id": "1988942c",
   "metadata": {},
   "outputs": [],
   "source": []
  },
  {
   "cell_type": "code",
   "execution_count": null,
   "id": "b059ba4c-ae8c-4232-bf2f-29ae7ad854d8",
   "metadata": {},
   "outputs": [],
   "source": [
    "# Loop through each line in the xyz_string\n",
    "for line in xyz_string.strip().split(\"\\n\"):\n",
    "    tokens = line.split()\n",
    "    atom = tokens[0]\n",
    "    x, y, z = map(float, tokens[1:])\n",
    "    \n",
    "    # Store parsed coordinates\n",
    "    parsed_coordinates.append([x, y, z])\n",
    "    \n",
    "    # Determine the atomic number based on the atom type\n",
    "    if atom == 'O':\n",
    "        atomic_number = 8\n",
    "    elif atom == 'C':\n",
    "        atomic_number = 6\n",
    "    elif atom == 'H':\n",
    "        atomic_number = 1\n",
    "    \n",
    "    # Store atomic numbers\n",
    "    atomic_numbers.append([atomic_number])"
   ]
  },
  {
   "cell_type": "code",
   "execution_count": null,
   "id": "60568314-6406-439d-be97-19f067c97c9b",
   "metadata": {},
   "outputs": [],
   "source": [
    "# # Convert lists to NumPy arrays\n",
    "# parsed_coordinates = np.array(parsed_coordinates)\n",
    "# atomic_numbers = np.array(atomic_numbers)"
   ]
  },
  {
   "cell_type": "code",
   "execution_count": null,
   "id": "81bc1ade",
   "metadata": {},
   "outputs": [],
   "source": []
  },
  {
   "cell_type": "code",
   "execution_count": null,
   "id": "e2e7a11d-041d-4bed-a4a3-e44192c83822",
   "metadata": {},
   "outputs": [],
   "source": [
    "# # Print parsed_coordinates and atomic_numbers for illustration\n",
    "# print(\"Parsed Coordinates:\")\n",
    "# print(parsed_coordinates)"
   ]
  },
  {
   "cell_type": "code",
   "execution_count": null,
   "id": "db9543d8",
   "metadata": {},
   "outputs": [],
   "source": []
  },
  {
   "cell_type": "code",
   "execution_count": null,
   "id": "3934af5b-5763-4f0d-9826-2dd0ec171a00",
   "metadata": {},
   "outputs": [],
   "source": [
    "# print(\"Atomic Numbers:\")\n",
    "# print(atomic_numbers)"
   ]
  },
  {
   "cell_type": "code",
   "execution_count": null,
   "id": "57a03ba7",
   "metadata": {},
   "outputs": [],
   "source": []
  },
  {
   "cell_type": "code",
   "execution_count": null,
   "id": "665501b6-cd1a-4161-acb6-23814e4ac967",
   "metadata": {},
   "outputs": [],
   "source": [
    "# # Use np.hstack to horizontally stack the atomic numbers and parsed coordinates\n",
    "# preprocessed_data = np.hstack((atomic_numbers, parsed_coordinates))"
   ]
  },
  {
   "cell_type": "code",
   "execution_count": null,
   "id": "56c2624a",
   "metadata": {},
   "outputs": [],
   "source": []
  },
  {
   "cell_type": "code",
   "execution_count": null,
   "id": "a20eb9df-fa5b-4710-85d4-d579ea013f53",
   "metadata": {},
   "outputs": [],
   "source": [
    "# # Print the final preprocessed data\n",
    "# print(\"Preprocessed Data:\")\n",
    "# print(preprocessed_data)"
   ]
  },
  {
   "cell_type": "code",
   "execution_count": null,
   "id": "dc17d71c",
   "metadata": {},
   "outputs": [],
   "source": []
  },
  {
   "cell_type": "code",
   "execution_count": null,
   "id": "8718fbef",
   "metadata": {},
   "outputs": [],
   "source": [
    "# preprocessed_data.shape"
   ]
  },
  {
   "cell_type": "code",
   "execution_count": null,
   "id": "47eee5b9",
   "metadata": {},
   "outputs": [],
   "source": []
  },
  {
   "cell_type": "code",
   "execution_count": null,
   "id": "98d93cf4",
   "metadata": {},
   "outputs": [],
   "source": [
    "# preprocessed_data = preprocessed_data.flatten()"
   ]
  },
  {
   "cell_type": "code",
   "execution_count": null,
   "id": "f47ac525",
   "metadata": {},
   "outputs": [],
   "source": []
  },
  {
   "cell_type": "code",
   "execution_count": null,
   "id": "32ee1a7f",
   "metadata": {},
   "outputs": [],
   "source": [
    "# preprocessed_data.shape"
   ]
  }
 ],
 "metadata": {
  "kernelspec": {
   "display_name": "py310w",
   "language": "python",
   "name": "python3"
  },
  "language_info": {
   "codemirror_mode": {
    "name": "ipython",
    "version": 3
   },
   "file_extension": ".py",
   "mimetype": "text/x-python",
   "name": "python",
   "nbconvert_exporter": "python",
   "pygments_lexer": "ipython3",
   "version": "3.10.12"
  }
 },
 "nbformat": 4,
 "nbformat_minor": 5
}
