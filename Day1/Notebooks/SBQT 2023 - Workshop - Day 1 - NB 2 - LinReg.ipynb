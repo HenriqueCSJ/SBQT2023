{
 "cells": [
  {
   "cell_type": "markdown",
   "metadata": {
    "id": "V-eP_jP9HB_u"
   },
   "source": [
    "# Simple Supervised Learning Example\n",
    "\n",
    "## Linear regression"
   ]
  },
  {
   "cell_type": "code",
   "execution_count": null,
   "metadata": {
    "executionInfo": {
     "elapsed": 28,
     "status": "ok",
     "timestamp": 1692050429111,
     "user": {
      "displayName": "Henrique Junior",
      "userId": "15097628154173654497"
     },
     "user_tz": 180
    },
    "id": "rOGyP982L0um"
   },
   "outputs": [],
   "source": [
    "# import warnings\n",
    "# warnings.simplefilter(action='ignore', category=FutureWarning)\n",
    "# import numpy as np\n",
    "# import pandas as pd"
   ]
  },
  {
   "cell_type": "markdown",
   "metadata": {},
   "source": [
    "## Artificially generated random male and female height and weight data"
   ]
  },
  {
   "cell_type": "code",
   "execution_count": null,
   "metadata": {
    "colab": {
     "base_uri": "https://localhost:8080/",
     "height": 424
    },
    "executionInfo": {
     "elapsed": 346,
     "status": "ok",
     "timestamp": 1692051508008,
     "user": {
      "displayName": "Henrique Junior",
      "userId": "15097628154173654497"
     },
     "user_tz": 180
    },
    "id": "YP6zElrDKpE6",
    "outputId": "a6b06668-1a6e-423f-af11-ad628f72586b"
   },
   "outputs": [],
   "source": [
    "# # Number of data points for each gender\n",
    "# n_gender = 100"
   ]
  },
  {
   "cell_type": "code",
   "execution_count": null,
   "metadata": {},
   "outputs": [],
   "source": []
  },
  {
   "cell_type": "code",
   "execution_count": null,
   "metadata": {},
   "outputs": [],
   "source": [
    "# # Generate data for males\n",
    "# male_heights = np.random.normal(175, 7, n_gender)\n",
    "# male_weights = np.random.normal(70, 10, n_gender)"
   ]
  },
  {
   "cell_type": "code",
   "execution_count": null,
   "metadata": {},
   "outputs": [],
   "source": []
  },
  {
   "cell_type": "code",
   "execution_count": null,
   "metadata": {},
   "outputs": [],
   "source": [
    "# # Generate data for females\n",
    "# female_heights = np.random.normal(162, 6, n_gender)\n",
    "# female_weights = np.random.normal(58, 8, n_gender)"
   ]
  },
  {
   "cell_type": "code",
   "execution_count": null,
   "metadata": {},
   "outputs": [],
   "source": []
  },
  {
   "cell_type": "code",
   "execution_count": null,
   "metadata": {},
   "outputs": [],
   "source": [
    "# # Combine the data\n",
    "# heights = np.concatenate([male_heights, female_heights])\n",
    "# weights = np.concatenate([male_weights, female_weights])\n",
    "# genders = ['Male'] * n_gender + ['Female'] * n_gender"
   ]
  },
  {
   "cell_type": "code",
   "execution_count": null,
   "metadata": {},
   "outputs": [],
   "source": []
  },
  {
   "cell_type": "code",
   "execution_count": null,
   "metadata": {},
   "outputs": [],
   "source": [
    "# # Create a dataframe to store the data\n",
    "# df_hw = pd.DataFrame({'Gender': genders, 'Height (cm)': heights, 'Weight (kg)': weights})"
   ]
  },
  {
   "cell_type": "code",
   "execution_count": null,
   "metadata": {},
   "outputs": [],
   "source": []
  },
  {
   "cell_type": "code",
   "execution_count": null,
   "metadata": {},
   "outputs": [],
   "source": [
    "# df_hw.head(200)"
   ]
  },
  {
   "cell_type": "code",
   "execution_count": null,
   "metadata": {},
   "outputs": [],
   "source": []
  },
  {
   "cell_type": "code",
   "execution_count": null,
   "metadata": {
    "colab": {
     "base_uri": "https://localhost:8080/",
     "height": 482
    },
    "executionInfo": {
     "elapsed": 2276,
     "status": "ok",
     "timestamp": 1692050431366,
     "user": {
      "displayName": "Henrique Junior",
      "userId": "15097628154173654497"
     },
     "user_tz": 180
    },
    "id": "wlGNnj76OyjT",
    "outputId": "238ebf25-4f6c-44f7-b9d9-e05a4969fdd1"
   },
   "outputs": [],
   "source": [
    "# # Plot the data\n",
    "# import matplotlib.pyplot as plt\n",
    "# import seaborn as sns\n",
    "\n",
    "# plt.figure(figsize=(12,5))\n",
    "# sns.scatterplot(data=df_hw, x=\"Height (cm)\", y=\"Weight (kg)\")"
   ]
  },
  {
   "cell_type": "code",
   "execution_count": null,
   "metadata": {},
   "outputs": [],
   "source": []
  },
  {
   "cell_type": "code",
   "execution_count": null,
   "metadata": {
    "executionInfo": {
     "elapsed": 476,
     "status": "ok",
     "timestamp": 1692050431825,
     "user": {
      "displayName": "Henrique Junior",
      "userId": "15097628154173654497"
     },
     "user_tz": 180
    },
    "id": "_mb5piqFNHJE"
   },
   "outputs": [],
   "source": [
    "# from sklearn.linear_model import LinearRegression\n",
    "# from sklearn.metrics import mean_squared_error, r2_score"
   ]
  },
  {
   "cell_type": "code",
   "execution_count": null,
   "metadata": {},
   "outputs": [],
   "source": []
  },
  {
   "cell_type": "code",
   "execution_count": null,
   "metadata": {},
   "outputs": [],
   "source": [
    "# # Extracting height and weight data\n",
    "# X = df_hw['Height (cm)'].values.reshape(-1, 1)\n",
    "# y = df_hw['Weight (kg)'].values"
   ]
  },
  {
   "cell_type": "code",
   "execution_count": null,
   "metadata": {},
   "outputs": [],
   "source": []
  },
  {
   "cell_type": "code",
   "execution_count": null,
   "metadata": {},
   "outputs": [],
   "source": [
    "# # Fit linear regression model\n",
    "# lr = LinearRegression().fit(X, y)"
   ]
  },
  {
   "cell_type": "code",
   "execution_count": null,
   "metadata": {},
   "outputs": [],
   "source": []
  },
  {
   "cell_type": "code",
   "execution_count": null,
   "metadata": {},
   "outputs": [],
   "source": [
    "# # Predicted weights based on the model\n",
    "# y_pred = lr.predict(X)"
   ]
  },
  {
   "cell_type": "code",
   "execution_count": null,
   "metadata": {},
   "outputs": [],
   "source": []
  },
  {
   "cell_type": "code",
   "execution_count": null,
   "metadata": {},
   "outputs": [],
   "source": [
    "# # Calculate the mean squared error\n",
    "# mse = mean_squared_error(y, y_pred)"
   ]
  },
  {
   "cell_type": "code",
   "execution_count": null,
   "metadata": {},
   "outputs": [],
   "source": []
  },
  {
   "cell_type": "code",
   "execution_count": null,
   "metadata": {},
   "outputs": [],
   "source": [
    "# # Calculate the R-squared value\n",
    "# r2 = r2_score(y, y_pred)"
   ]
  },
  {
   "cell_type": "code",
   "execution_count": null,
   "metadata": {},
   "outputs": [],
   "source": []
  },
  {
   "cell_type": "code",
   "execution_count": null,
   "metadata": {},
   "outputs": [],
   "source": [
    "# # Extracting the slope (coefficient) and intercept\n",
    "# slope = lr.coef_[0]\n",
    "# intercept = lr.intercept_"
   ]
  },
  {
   "cell_type": "code",
   "execution_count": null,
   "metadata": {},
   "outputs": [],
   "source": []
  },
  {
   "cell_type": "code",
   "execution_count": null,
   "metadata": {},
   "outputs": [],
   "source": [
    "# Formatting the results\n",
    "output = {\n",
    "    \"Regression Equation\": f\"Weight (kg) = {slope:.4f} * Height (cm) + {intercept:.4f}\",\n",
    "    \"Slope (Coefficient)\": f\"{slope:.4f}\",\n",
    "    \"Intercept\": f\"{intercept:.4f}\",\n",
    "    \"Mean Squared Error\": f\"{mse:.4f}\",\n",
    "    \"R-squared (Coefficient of Determination)\": f\"{r2:.4f}\"\n",
    "}"
   ]
  },
  {
   "cell_type": "code",
   "execution_count": null,
   "metadata": {
    "colab": {
     "base_uri": "https://localhost:8080/"
    },
    "executionInfo": {
     "elapsed": 11,
     "status": "ok",
     "timestamp": 1692050431825,
     "user": {
      "displayName": "Henrique Junior",
      "userId": "15097628154173654497"
     },
     "user_tz": 180
    },
    "id": "EKjUT0qxQloL",
    "outputId": "fcac320e-ce00-4ed7-a963-890b35f61403"
   },
   "outputs": [],
   "source": [
    "# output"
   ]
  },
  {
   "cell_type": "code",
   "execution_count": null,
   "metadata": {},
   "outputs": [],
   "source": []
  },
  {
   "cell_type": "code",
   "execution_count": null,
   "metadata": {
    "colab": {
     "base_uri": "https://localhost:8080/",
     "height": 482
    },
    "executionInfo": {
     "elapsed": 1057,
     "status": "ok",
     "timestamp": 1692050432872,
     "user": {
      "displayName": "Henrique Junior",
      "userId": "15097628154173654497"
     },
     "user_tz": 180
    },
    "id": "7cGIlgBrMgIQ",
    "outputId": "54e6ed98-b4f6-4dfa-d1a2-729d2c696feb"
   },
   "outputs": [],
   "source": [
    "# # plot the regression line\n",
    "# plt.figure(figsize=(12,5))\n",
    "# sns.regplot(data=df_hw, x=\"Height (cm)\", y=\"Weight (kg)\", line_kws={\"color\": \"red\"})"
   ]
  },
  {
   "cell_type": "code",
   "execution_count": null,
   "metadata": {},
   "outputs": [],
   "source": []
  },
  {
   "cell_type": "markdown",
   "metadata": {
    "id": "34CXIY9nMsLX"
   },
   "source": [
    "# Simple Unsupervised Learning Example\n",
    "\n",
    "## Linear regression"
   ]
  },
  {
   "cell_type": "code",
   "execution_count": null,
   "metadata": {
    "colab": {
     "base_uri": "https://localhost:8080/",
     "height": 482
    },
    "executionInfo": {
     "elapsed": 1128,
     "status": "ok",
     "timestamp": 1692050433979,
     "user": {
      "displayName": "Henrique Junior",
      "userId": "15097628154173654497"
     },
     "user_tz": 180
    },
    "id": "aN-na9UCMuZF",
    "outputId": "30723b59-e42f-431e-bb2a-8a2c066979e8"
   },
   "outputs": [],
   "source": [
    "# plt.figure(figsize=(12,5))\n",
    "# sns.scatterplot(data=df_hw, x=\"Height (cm)\", y=\"Weight (kg)\", hue=\"Gender\")"
   ]
  },
  {
   "cell_type": "code",
   "execution_count": null,
   "metadata": {},
   "outputs": [],
   "source": []
  },
  {
   "cell_type": "code",
   "execution_count": null,
   "metadata": {
    "colab": {
     "base_uri": "https://localhost:8080/"
    },
    "executionInfo": {
     "elapsed": 725,
     "status": "ok",
     "timestamp": 1692051335723,
     "user": {
      "displayName": "Henrique Junior",
      "userId": "15097628154173654497"
     },
     "user_tz": 180
    },
    "id": "eKjhIMutPfD_",
    "outputId": "7a04d72c-92db-47d1-cfc7-efd0d332a293"
   },
   "outputs": [],
   "source": [
    "# from sklearn.cluster import KMeans"
   ]
  },
  {
   "cell_type": "code",
   "execution_count": null,
   "metadata": {},
   "outputs": [],
   "source": []
  },
  {
   "cell_type": "code",
   "execution_count": null,
   "metadata": {},
   "outputs": [],
   "source": [
    "# # Extract height and weight as features for clustering\n",
    "# X_clustering = df_hw[['Height (cm)', 'Weight (kg)']]"
   ]
  },
  {
   "cell_type": "code",
   "execution_count": null,
   "metadata": {},
   "outputs": [],
   "source": []
  },
  {
   "cell_type": "code",
   "execution_count": null,
   "metadata": {},
   "outputs": [],
   "source": [
    "# # Apply KMeans clustering with k=2\n",
    "# kmeans = KMeans(n_clusters=2, random_state=42)\n",
    "# df_hw['Cluster'] = kmeans.fit_predict(X_clustering)"
   ]
  },
  {
   "cell_type": "code",
   "execution_count": 1,
   "metadata": {
    "tags": [
     "Hint"
    ]
   },
   "outputs": [],
   "source": [
    "# from sklearn.metrics import davies_bouldin_score\n",
    "\n",
    "# for k in range(2, 10):\n",
    "#     kmeans = KMeans(n_clusters=k, random_state=42)\n",
    "#     cluster_labels = kmeans.fit_predict(X)\n",
    "#     score = davies_bouldin_score(X, cluster_labels)\n",
    "#     print(f\"For n_clusters={k}, the Davies-Bouldin score is {score}\")"
   ]
  },
  {
   "cell_type": "code",
   "execution_count": null,
   "metadata": {},
   "outputs": [],
   "source": []
  },
  {
   "cell_type": "code",
   "execution_count": null,
   "metadata": {
    "colab": {
     "base_uri": "https://localhost:8080/",
     "height": 755
    },
    "executionInfo": {
     "elapsed": 4204,
     "status": "ok",
     "timestamp": 1692051339915,
     "user": {
      "displayName": "Henrique Junior",
      "userId": "15097628154173654497"
     },
     "user_tz": 180
    },
    "id": "RVHe6jcZSEKx",
    "outputId": "e388e3fa-de9b-4763-d047-2f2e1ac1f5ed"
   },
   "outputs": [],
   "source": [
    "# Generate the provided contour plot for the clusters\n",
    "\n",
    "plt.figure(figsize=(12,8))\n",
    "sns.kdeplot(data=df_hw, x=\"Height (cm)\", y=\"Weight (kg)\", hue=\"Gender\", cmap=\"coolwarm\", fill=True, thresh=0.05, levels=100, alpha=0.5)\n",
    "sns.scatterplot(data=df_hw, x=\"Height (cm)\", y=\"Weight (kg)\", hue=\"Cluster\", style=\"Gender\", markers=[\"s\", \"D\"], edgecolor='w', s=80)\n",
    "plt.scatter(kmeans.cluster_centers_[:, 0], kmeans.cluster_centers_[:, 1], s=300, c='yellow', edgecolor='black', linewidth=1.5, label='Centroids')\n",
    "plt.title(\"KMeans Clustering Results with Contours\", fontsize=16)\n",
    "plt.legend()\n",
    "plt.show()"
   ]
  },
  {
   "cell_type": "code",
   "execution_count": null,
   "metadata": {
    "colab": {
     "base_uri": "https://localhost:8080/",
     "height": 206
    },
    "executionInfo": {
     "elapsed": 694,
     "status": "ok",
     "timestamp": 1692051340575,
     "user": {
      "displayName": "Henrique Junior",
      "userId": "15097628154173654497"
     },
     "user_tz": 180
    },
    "id": "8XCziPQPTlGg",
    "outputId": "3c176565-32a3-403d-e913-f00fcac80d24"
   },
   "outputs": [],
   "source": [
    "import pandas as pd\n",
    "from sklearn.metrics import silhouette_score, davies_bouldin_score, adjusted_rand_score, normalized_mutual_info_score\n",
    "\n",
    "# Extracting and calculating the metrics\n",
    "predicted_labels = df_hw['Cluster']\n",
    "true_labels = df_hw['Gender'].map({'Male': 0, 'Female': 1})\n",
    "\n",
    "silhouette = silhouette_score(X_clustering, predicted_labels)\n",
    "inertia = kmeans.inertia_\n",
    "davies_bouldin = davies_bouldin_score(X_clustering, predicted_labels)\n",
    "ari = adjusted_rand_score(true_labels, predicted_labels)\n",
    "nmi = normalized_mutual_info_score(true_labels, predicted_labels)\n",
    "\n",
    "metric_results = {\n",
    "    \"Silhouette Score\": silhouette,\n",
    "    \"Inertia\": inertia,\n",
    "    \"Davies-Bouldin Index\": davies_bouldin,\n",
    "    \"Adjusted Rand Index (ARI)\": ari,\n",
    "    \"Normalized Mutual Information (NMI)\": nmi\n",
    "}\n",
    "\n",
    "# Displaying the metric results with their interpretations\n",
    "metric_results_with_description = {\n",
    "    \"Metric\": list(metric_results.keys()),\n",
    "    \"Value\": list(metric_results.values()),\n",
    "    \"Interpretation\": [\n",
    "        \"Higher is better (range: -1 to 1)\",\n",
    "        \"Lower is better\",\n",
    "        \"Lower is better\",\n",
    "        \"Higher is better (range: -1 to 1)\",\n",
    "        \"Higher is better (range: 0 to 1)\"\n",
    "    ]\n",
    "}\n",
    "\n",
    "metric_df = pd.DataFrame(metric_results_with_description)\n",
    "metric_df"
   ]
  },
  {
   "cell_type": "markdown",
   "metadata": {
    "id": "cAIrJgZSibjp"
   },
   "source": [
    "1. **Silhouette Score**:\n",
    "    - Value: \\(0.4432\\)\n",
    "    - Interpretation: Closer to 1 is better. This score suggests a moderate clustering quality.\n",
    "    - Description: Measures the similarity of an object to its own cluster compared to other clusters. Range: [-1, 1].\n",
    "    \n",
    "2. **Inertia**:\n",
    "    - Value: \\(18899.00\\)\n",
    "    - Interpretation: Lower values indicate better clustering.\n",
    "    - Description: Represents the within-cluster sum of squares. Lower values indicate that data points are closer to the centroids of their respective clusters.\n",
    "    \n",
    "3. **Davies-Bouldin Index**:\n",
    "    - Value: \\(0.8522\\)\n",
    "    - Interpretation: Lower is better. This value suggests the clusters are relatively well-separated.\n",
    "    - Description: Measures the average similarity ratio of each cluster with its most similar cluster. Range: [0, \\(\\infty\\)), where 0 is the ideal.\n",
    "    \n",
    "4. **Adjusted Rand Index (ARI)**:\n",
    "    - Value: \\(0.5161\\)\n",
    "    - Interpretation: Closer to 1 is better. This value indicates a moderate to good match between the true labels and the clustering.\n",
    "    - Description: Measures the similarity of the true and predicted labels, adjusted for chance. Range: [-1, 1].\n",
    "    \n",
    "5. **Normalized Mutual Information (NMI)**:\n",
    "    - Value: \\(0.4702\\)\n",
    "    - Interpretation: Closer to 1 is better. This suggests a moderate mutual information between the true and predicted labels.\n",
    "    - Description: Measures the mutual information between true and predicted labels, normalized by their entropies. Range: [0, 1]."
   ]
  },
  {
   "cell_type": "markdown",
   "metadata": {
    "id": "nk924PQLmdk8"
   },
   "source": [
    "## Testing"
   ]
  },
  {
   "cell_type": "code",
   "execution_count": null,
   "metadata": {
    "colab": {
     "base_uri": "https://localhost:8080/",
     "height": 677
    },
    "executionInfo": {
     "elapsed": 148,
     "status": "ok",
     "timestamp": 1692051340575,
     "user": {
      "displayName": "Henrique Junior",
      "userId": "15097628154173654497"
     },
     "user_tz": 180
    },
    "id": "KxybwimjVk6g",
    "outputId": "8b39dcb8-6deb-4a28-d540-5885baf1bbe3"
   },
   "outputs": [],
   "source": [
    "# # Generating data for 20 males and 20 females using the provided code\n",
    "# n_gender = 10"
   ]
  },
  {
   "cell_type": "code",
   "execution_count": null,
   "metadata": {},
   "outputs": [],
   "source": []
  },
  {
   "cell_type": "code",
   "execution_count": null,
   "metadata": {},
   "outputs": [],
   "source": [
    "# # Generate data for males\n",
    "# male_heights = np.random.normal(175, 7, n_gender)\n",
    "# male_weights = np.random.normal(70, 10, n_gender)"
   ]
  },
  {
   "cell_type": "code",
   "execution_count": null,
   "metadata": {},
   "outputs": [],
   "source": []
  },
  {
   "cell_type": "code",
   "execution_count": null,
   "metadata": {},
   "outputs": [],
   "source": [
    "# # Generate data for females\n",
    "# female_heights = np.random.normal(162, 6, n_gender)\n",
    "# female_weights = np.random.normal(58, 8, n_gender)"
   ]
  },
  {
   "cell_type": "code",
   "execution_count": null,
   "metadata": {},
   "outputs": [],
   "source": []
  },
  {
   "cell_type": "code",
   "execution_count": null,
   "metadata": {},
   "outputs": [],
   "source": [
    "# # Combine the data\n",
    "# heights = np.concatenate([male_heights, female_heights])\n",
    "# weights = np.concatenate([male_weights, female_weights])\n",
    "# genders = ['Male 0'] * n_gender + ['Female 1'] * n_gender"
   ]
  },
  {
   "cell_type": "code",
   "execution_count": null,
   "metadata": {},
   "outputs": [],
   "source": []
  },
  {
   "cell_type": "code",
   "execution_count": null,
   "metadata": {},
   "outputs": [],
   "source": [
    "# # Convert to DataFrame\n",
    "# new_samples_df = pd.DataFrame({'Height (cm)': heights, 'Weight (kg)': weights, 'True Gender': genders})"
   ]
  },
  {
   "cell_type": "code",
   "execution_count": null,
   "metadata": {},
   "outputs": [],
   "source": []
  },
  {
   "cell_type": "code",
   "execution_count": null,
   "metadata": {},
   "outputs": [],
   "source": [
    "# # Predict the cluster labels for the new samples\n",
    "# new_samples_predictions = kmeans.predict(new_samples_df[['Height (cm)', 'Weight (kg)']])"
   ]
  },
  {
   "cell_type": "code",
   "execution_count": null,
   "metadata": {},
   "outputs": [],
   "source": []
  },
  {
   "cell_type": "code",
   "execution_count": null,
   "metadata": {},
   "outputs": [],
   "source": [
    "# # Adding predictions to the DataFrame\n",
    "# new_samples_df['Predicted Cluster'] = new_samples_predictions\n",
    "# new_samples_df.head(20)  # Displaying the first 10 rows for a preview\n"
   ]
  },
  {
   "cell_type": "code",
   "execution_count": null,
   "metadata": {},
   "outputs": [],
   "source": []
  },
  {
   "cell_type": "code",
   "execution_count": null,
   "metadata": {
    "colab": {
     "base_uri": "https://localhost:8080/",
     "height": 564
    },
    "executionInfo": {
     "elapsed": 729,
     "status": "ok",
     "timestamp": 1692051341161,
     "user": {
      "displayName": "Henrique Junior",
      "userId": "15097628154173654497"
     },
     "user_tz": 180
    },
    "id": "i3V5B1TK6aVt",
    "outputId": "432f0619-2a1f-455b-f8bf-93397e6106fe"
   },
   "outputs": [],
   "source": [
    "plt.figure(figsize=(10, 6))\n",
    "\n",
    "# Plotting the original data with cluster labels\n",
    "plt.scatter(df_hw['Height (cm)'], df_hw['Weight (kg)'], c=df_hw['Cluster'], cmap='viridis', alpha=0.6, s=50, label='Original Data')\n",
    "\n",
    "# Plotting the new test samples with larger size, distinct marker, and contrasting colormap\n",
    "plt.scatter(new_samples_df['Height (cm)'], new_samples_df['Weight (kg)'], c=new_samples_df['Predicted Cluster'], cmap='coolwarm', marker='D', s=100, edgecolors='black', label='Test Samples')\n",
    "\n",
    "plt.xlabel('Height (cm)')\n",
    "plt.ylabel('Weight (kg)')\n",
    "plt.title('Original Data Clusters vs Test Samples')\n",
    "plt.legend()\n",
    "plt.grid(True)\n",
    "plt.show()"
   ]
  }
 ],
 "metadata": {
  "colab": {
   "authorship_tag": "ABX9TyOqvIdhGvjtenzb9IjiHtMq",
   "provenance": []
  },
  "kernelspec": {
   "display_name": "Python 3 (ipykernel)",
   "language": "python",
   "name": "python3"
  },
  "language_info": {
   "codemirror_mode": {
    "name": "ipython",
    "version": 3
   },
   "file_extension": ".py",
   "mimetype": "text/x-python",
   "name": "python",
   "nbconvert_exporter": "python",
   "pygments_lexer": "ipython3",
   "version": "3.10.12"
  }
 },
 "nbformat": 4,
 "nbformat_minor": 4
}
