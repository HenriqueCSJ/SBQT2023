{
 "cells": [
  {
   "cell_type": "markdown",
   "metadata": {
    "id": "1JgG-IORLVrC"
   },
   "source": [
    "# Merge databases"
   ]
  },
  {
   "cell_type": "code",
   "execution_count": null,
   "metadata": {
    "id": "3vVNys7QLTeX"
   },
   "outputs": [],
   "source": [
    "import pandas as pd\n",
    "import numpy as np\n",
    "import seaborn as sns"
   ]
  },
  {
   "cell_type": "code",
   "execution_count": null,
   "metadata": {
    "id": "jDtJKrBhLioS"
   },
   "outputs": [],
   "source": [
    "df_dft = pd.read_csv(\"/content/drive/My Drive/Doutorado/Tese/MLData/DFT/big_data.csv\").drop(\"Unnamed: 0\", axis=1)\n",
    "df_cas = pd.read_csv(\"/content/drive/My Drive/Doutorado/Tese/MLData/CASSCF/big_data.csv\", dtype={'CAS Ms states': str}).drop(\"Unnamed: 0\", axis=1)"
   ]
  },
  {
   "cell_type": "code",
   "execution_count": null,
   "metadata": {
    "id": "UP967qtDPn2f"
   },
   "outputs": [],
   "source": [
    "df = pd.merge(df_dft, df_cas, on=[\"Structure name\", \"Cartesian coordinates\", \"Internal coordinates\", \"Coordination number\"])"
   ]
  },
  {
   "cell_type": "code",
   "execution_count": null,
   "metadata": {
    "id": "IEDQDeHrFoLN"
   },
   "outputs": [],
   "source": [
    "df[['Structure name',\n",
    " 'Cartesian coordinates',\n",
    " 'Internal coordinates',\n",
    " 'CAS GS energy (Eh)',\n",
    " 'CAS transition energies',\n",
    " 'CAS Kramers',\n",
    " 'CAS Ms states',\n",
    " 'CAS 2PT D']].astype(str)\n",
    "\n",
    "df[[\"Coordination number\", \"CAS root Mult\"]].astype(int)\n",
    "\n",
    "df[['Spin deviation',\n",
    " 'SOMO-LUMO gap (a.u)',\n",
    " 'SOMO-1-LUMO gap',\n",
    " 'SOMO-2-LUMO gap',\n",
    " 'Dipole moment X',\n",
    " 'Dipole moment Y',\n",
    " 'Dipole moment Z',\n",
    " 'Bond lengths 1',\n",
    " 'Bond lengths 2',\n",
    " 'Bond angles',\n",
    " 'CAS GS energy (Eh)',\n",
    " 'CAS 1 el energy (Eh)',\n",
    " 'CAS 2 el energy (Eh)',\n",
    " 'CAS nucl. repulsion (Eh)',\n",
    " 'Kinetic energy (Eh)',\n",
    " 'Potential energy (Eh)',\n",
    " 'Virial ratio (Eh)',\n",
    " 'Core energy (Eh)',\n",
    " 'SOC CAS lowest eigenv. (Eh)',\n",
    " 'SOC CAS stab. energy (cm-1)',\n",
    " 'CAS 2PT D',\n",
    " 'CAS 2PT E/D',\n",
    " 'CAS Heff D',\n",
    " 'CAS Heff E/D',\n",
    " 'CAS gx',\n",
    " 'CAS gy',\n",
    " 'CAS gz',\n",
    " 'CAS giso',\n",
    " 'CAS F0dd',\n",
    " 'CAS F2dd',\n",
    " 'CAS F4dd',\n",
    " 'CAS Racah A',\n",
    " 'CAS Racah B',\n",
    " 'CAS Racah C',\n",
    " 'CAS d-orb1 (eV)',\n",
    " 'CAS d-orb1 (cm-1)',\n",
    " 'CAS d-orb1 (xy)',\n",
    " 'CAS d-orb1 (yz)',\n",
    " 'CAS d-orb1 (z2)',\n",
    " 'CAS d-orb1 (xz)',\n",
    " 'CAS d-orb1 (x2y2)',\n",
    " 'CAS d-orb2 (eV)',\n",
    " 'CAS d-orb2 (cm-1)',\n",
    " 'CAS d-orb2 (xy)',\n",
    " 'CAS d-orb2 (yz)',\n",
    " 'CAS d-orb2 (z2)',\n",
    " 'CAS d-orb2 (xz)',\n",
    " 'CAS d-orb2 (x2y2)',\n",
    " 'CAS d-orb3 (eV)',\n",
    " 'CAS d-orb3 (cm-1)',\n",
    " 'CAS d-orb3 (xy)',\n",
    " 'CAS d-orb3 (yz)',\n",
    " 'CAS d-orb3 (z2)',\n",
    " 'CAS d-orb3 (xz)',\n",
    " 'CAS d-orb3 (x2y2)',\n",
    " 'CAS d-orb4 (eV)',\n",
    " 'CAS d-orb4 (cm-1)',\n",
    " 'CAS d-orb4 (xy)',\n",
    " 'CAS d-orb4 (yz)',\n",
    " 'CAS d-orb4 (z2)',\n",
    " 'CAS d-orb4 (xz)',\n",
    " 'CAS d-orb4 (x2y2)',\n",
    " 'CAS d-orb5 (eV)',\n",
    " 'CAS d-orb5 (cm-1)',\n",
    " 'CAS d-orb5 (xy)',\n",
    " 'CAS d-orb5 (yz)',\n",
    " 'CAS d-orb5 (z2)',\n",
    " 'CAS d-orb5 (xz)',\n",
    " 'CAS d-orb5 (x2y2)',\n",
    " 'CAS SOC a',\n",
    " 'CAS SOC b',\n",
    " 'CAS SOC Zeta']].astype(float);"
   ]
  },
  {
   "cell_type": "code",
   "execution_count": null,
   "metadata": {
    "id": "U4gnbx-WJRNP"
   },
   "outputs": [],
   "source": [
    "df.to_csv(\"/content/drive/My Drive/Doutorado/Tese/MLData/Final/FinalDataFrame.csv\")\n",
    "df.to_pickle(\"/content/drive/My Drive/Doutorado/Tese/MLData/Final/FinalDataFrame.pkl\")"
   ]
  }
 ],
 "metadata": {
  "colab": {
   "name": "DataFrame merge.ipynb",
   "provenance": [],
   "toc_visible": true
  },
  "kernelspec": {
   "display_name": "Python 3",
   "language": "python",
   "name": "python3"
  },
  "language_info": {
   "codemirror_mode": {
    "name": "ipython",
    "version": 3
   },
   "file_extension": ".py",
   "mimetype": "text/x-python",
   "name": "python",
   "nbconvert_exporter": "python",
   "pygments_lexer": "ipython3",
   "version": "3.8.8"
  }
 },
 "nbformat": 4,
 "nbformat_minor": 1
}
